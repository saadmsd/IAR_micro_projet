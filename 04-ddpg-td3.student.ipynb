{
 "cells": [
  {
   "cell_type": "markdown",
   "id": "b9eacd38",
   "metadata": {},
   "source": [
    "# Outlook\n",
    "\n",
    "In this notebook, using BBRL, we code the DDPG algorithm.\n",
    "\n",
    "To understand this code, you need to know more about [the BBRL interaction\n",
    "model](https://github.com/osigaud/bbrl/blob/master/docs/overview.md) Then you\n",
    "should run [a didactical\n",
    "example](https://github.com/osigaud/bbrl/blob/master/docs/notebooks/03-multi_env_autoreset.student.ipynb)\n",
    "to see how agents interact in BBRL when autoreset=True.\n",
    "\n",
    "The DDPG algorithm is explained in [this\n",
    "video](https://www.youtube.com/watch?v=0D6a0a1HTtc) and you can also read [the\n",
    "corresponding slides](http://pages.isir.upmc.fr/~sigaud/teach/ddpg.pdf)."
   ]
  },
  {
   "cell_type": "code",
   "execution_count": 3,
   "id": "a74f5c6a",
   "metadata": {
    "tags": [
     "hide-input"
    ]
   },
   "outputs": [
    {
     "name": "stderr",
     "output_type": "stream",
     "text": [
      "[easypip] Installing bbrl_utils\n",
      "/opt/homebrew/lib/python3.11/site-packages/bbrl_utils/notebook.py:46: TqdmExperimentalWarning: Using `tqdm.autonotebook.tqdm` in notebook mode. Use `tqdm.tqdm` instead to force console mode (e.g. in jupyter console)\n",
      "  from tqdm.autonotebook import tqdm  # noqa: F401\n"
     ]
    }
   ],
   "source": [
    "# Prepare the environment\n",
    "try:\n",
    "    from easypip import easyimport\n",
    "except ModuleNotFoundError:\n",
    "    from subprocess import run\n",
    "\n",
    "    assert (\n",
    "        run([\"pip\", \"install\", \"easypip\"]).returncode == 0\n",
    "    ), \"Could not install easypip\"\n",
    "    from easypip import easyimport\n",
    "\n",
    "easyimport(\"swig\")\n",
    "easyimport(\"bbrl_utils\").setup(maze_mdp=True)\n",
    "\n",
    "import os\n",
    "import copy\n",
    "import bbrl_gymnasium  # noqa: F401\n",
    "import torch\n",
    "import torch.nn as nn\n",
    "from bbrl.agents import Agent, Agents, TemporalAgent\n",
    "from bbrl_utils.algorithms import EpochBasedAlgo\n",
    "from bbrl_utils.nn import build_mlp, setup_optimizer, soft_update_params\n",
    "from bbrl_utils.notebook import setup_tensorboard\n",
    "from bbrl.visu.plot_policies import plot_policy\n",
    "from omegaconf import OmegaConf"
   ]
  },
  {
   "cell_type": "markdown",
   "id": "9da02581",
   "metadata": {},
   "source": [
    "# Learning environment\n",
    "\n",
    "## Configuration\n",
    "\n",
    "The learning environment is controlled by a configuration providing a few\n",
    "important things as described in the example below. This configuration can\n",
    "hold as many extra information as you need, the example below is the minimal\n",
    "one.\n",
    "\n",
    "```python\n",
    "params = {\n",
    "    # This defines the a path for logs and saved models\n",
    "    \"base_dir\": \"${gym_env.env_name}/myalgo_${current_time:}\",\n",
    "\n",
    "    # The Gymnasium environment\n",
    "    \"gym_env\": {\n",
    "        \"env_name\": \"CartPoleContinuous-v1\",\n",
    "    },\n",
    "\n",
    "    # Algorithm\n",
    "    \"algorithm\": {\n",
    "        # Seed used for the random number generator\n",
    "        \"seed\": 1023,\n",
    "\n",
    "        # Number of parallel training environments\n",
    "        \"n_envs\": 8,\n",
    "\n",
    "        # Number of transitions to collect at each epoch for an environment.\n",
    "        # This number has to be multiplied by n_envs to get the number of new transitions\n",
    "        # collected at each epoch.\n",
    "        \"n_steps\": 100,\n",
    "\n",
    "        # Number of transitions before starting to train\n",
    "        \"learning_starts\": 10_000,\n",
    "                \n",
    "        # Minimum number of steps between two evaluations\n",
    "        \"eval_interval\": 500,\n",
    "        \n",
    "        # Number of parallel evaluation environments\n",
    "        \"nb_evals\": 10,\n",
    "\n",
    "        # Number of epochs (loops)\n",
    "        \"max_epochs\": 40000,\n",
    "    },\n",
    "}\n",
    "\n",
    "# Creates the configuration object, i.e. cfg.algorithm.nb_evals is 10\n",
    "cfg = OmegaConf.create(params)\n",
    "```\n",
    "\n",
    "## The RL algorithm\n",
    "\n",
    "In this notebook, the RL algorithm is based on `EpochBasedAlgo`, that defines\n",
    "the algorithm environment when using episodes. To use such environment, we\n",
    "just need to subclass `EpochBasedAlgo` and to define two things, namely the\n",
    "`train_policy` and the `eval_policy`. Both are BBRL agents that, given the\n",
    "environment state, select the action to perform.\n",
    "\n",
    "```py\n",
    "  class MyAlgo(EpochBasedAlgo):\n",
    "      def __init__(self, cfg):\n",
    "          super().__init__(cfg)\n",
    "\n",
    "          # Define the train and evaluation policies\n",
    "          # (the agents compute the workspace `action` variable)\n",
    "          self.train_policy = MyPolicyAgent(...)\n",
    "          self.eval_policy = MyEvalAgent(...)\n",
    "\n",
    "algo = MyAlgo(cfg)\n",
    "```\n",
    "\n",
    "The `EpochBasedAlgo` defines useful objects:\n",
    "\n",
    "- `algo.cfg` is the configuration\n",
    "- `algo.nb_steps` (integer) is the number of steps since the training began\n",
    "- `algo.logger` is a logger that can be used to collect statistics during training:\n",
    "    - `algo.logger.add_log(\"critic_loss\", critic_loss, algo.nb_steps)` registers the `critic_loss` value on tensorboard\n",
    "- `algo.evaluate()` evaluates the current `eval_policy` if needed, and keeps the\n",
    "agent if it was the best so far (average cumulated reward);\n",
    "- `algo.visualize_best()` runs the best agent on one episode, and displays the video"
   ]
  },
  {
   "cell_type": "markdown",
   "id": "1c86386d",
   "metadata": {},
   "source": [
    "The [DDPG](https://arxiv.org/pdf/1509.02971.pdf) algorithm is an actor critic\n",
    "algorithm. We use a simple neural network builder function. This neural\n",
    "networks plays the role of the actor and the critic."
   ]
  },
  {
   "cell_type": "markdown",
   "id": "85e396df",
   "metadata": {
    "lines_to_next_cell": 0
   },
   "source": [
    "## Definition of agents"
   ]
  },
  {
   "cell_type": "markdown",
   "id": "55a5b3ca",
   "metadata": {
    "lines_to_next_cell": 2
   },
   "source": [
    "The critic is a neural network taking the state $s$ and action $a$ as input,\n",
    "and its output layer has a unique neuron whose value is the value of being in\n",
    "that state and performing that action $Q(s,a)$.\n",
    "\n",
    "As usual, the ```forward(...)``` function is used to write Q-values in the\n",
    "workspace from time indexes, whereas the ```predict_value(...)``` function` is\n",
    "used in other contexts, such as plotting a view of the Q function."
   ]
  },
  {
   "cell_type": "code",
   "execution_count": 4,
   "id": "b3ab830b",
   "metadata": {
    "lines_to_next_cell": 2
   },
   "outputs": [],
   "source": [
    "class ContinuousQAgent(Agent):\n",
    "    def __init__(self, state_dim, hidden_layers, action_dim):\n",
    "        super().__init__()\n",
    "        self.is_q_function = True\n",
    "        self.model = build_mlp(\n",
    "            [state_dim + action_dim] + list(hidden_layers) + [1], activation=nn.ReLU()\n",
    "        )\n",
    "\n",
    "    def forward(self, t):\n",
    "        # Get the current state $s_t$ and the chosen action $a_t$\n",
    "        obs = self.get((\"env/env_obs\", t))  # shape B x D_{obs}\n",
    "        action = self.get((\"action\", t))  # shape B x D_{action}\n",
    "\n",
    "        # Compute the Q-value(s_t, a_t)\n",
    "        obs_act = torch.cat((obs, action), dim=1)  # shape B x (D_{obs} + D_{action})\n",
    "        # Get the q-value (and remove the last dimension since it is a scalar)\n",
    "        q_value = self.model(obs_act).squeeze(-1)\n",
    "        self.set((f\"{self.prefix}q_value\", t), q_value)\n",
    "\n",
    "    def predict_value(self, obs, action):\n",
    "        obs_act = torch.cat((obs, action), dim=0)\n",
    "        q_value = self.model(obs_act)\n",
    "        return q_value"
   ]
  },
  {
   "cell_type": "markdown",
   "id": "7c79e22a",
   "metadata": {
    "lines_to_next_cell": 2
   },
   "source": [
    "The actor is also a neural network, it takes a state $s$ as input and outputs\n",
    "an action $a$."
   ]
  },
  {
   "cell_type": "code",
   "execution_count": 5,
   "id": "49c6ee64",
   "metadata": {
    "lines_to_next_cell": 2
   },
   "outputs": [],
   "source": [
    "class ContinuousDeterministicActor(Agent):\n",
    "    def __init__(self, state_dim, hidden_layers, action_dim):\n",
    "        super().__init__()\n",
    "        layers = [state_dim] + list(hidden_layers) + [action_dim]\n",
    "        self.model = build_mlp(\n",
    "            layers, activation=nn.ReLU(), output_activation=nn.Tanh()\n",
    "        )\n",
    "\n",
    "    def forward(self, t, **kwargs):\n",
    "        obs = self.get((\"env/env_obs\", t))\n",
    "        action = self.model(obs)\n",
    "        self.set((\"action\", t), action)\n",
    "\n",
    "    def predict_action(self, obs, stochastic):\n",
    "        assert (\n",
    "            not stochastic\n",
    "        ), \"ContinuousDeterministicActor cannot provide stochastic predictions\"\n",
    "        return self.model(obs)"
   ]
  },
  {
   "cell_type": "markdown",
   "id": "c94aafb4",
   "metadata": {
    "lines_to_next_cell": 2
   },
   "source": [
    "### Creating an Exploration method\n",
    "\n",
    "In the continuous action domain, basic exploration differs from the methods\n",
    "used in the discrete action domain. Here we generally add some Gaussian noise\n",
    "to the output of the actor."
   ]
  },
  {
   "cell_type": "code",
   "execution_count": 6,
   "id": "7b4e30b7",
   "metadata": {},
   "outputs": [],
   "source": [
    "from torch.distributions import Normal"
   ]
  },
  {
   "cell_type": "code",
   "execution_count": 7,
   "id": "0824dc76",
   "metadata": {
    "lines_to_next_cell": 2
   },
   "outputs": [],
   "source": [
    "class AddGaussianNoise(Agent):\n",
    "    def __init__(self, sigma):\n",
    "        super().__init__()\n",
    "        self.sigma = sigma\n",
    "\n",
    "    def forward(self, t, **kwargs):\n",
    "        act = self.get((\"action\", t))\n",
    "        dist = Normal(act, self.sigma)\n",
    "        action = dist.sample()\n",
    "        self.set((\"action\", t), action)"
   ]
  },
  {
   "cell_type": "markdown",
   "id": "6c686f1b",
   "metadata": {
    "lines_to_next_cell": 2
   },
   "source": [
    "In [the original DDPG paper](https://arxiv.org/pdf/1509.02971.pdf), the\n",
    "authors rather used the more sophisticated Ornstein-Uhlenbeck noise where\n",
    "noise is correlated between one step and the next."
   ]
  },
  {
   "cell_type": "code",
   "execution_count": 8,
   "id": "74099dcb",
   "metadata": {},
   "outputs": [],
   "source": [
    "class AddOUNoise(Agent):\n",
    "    \"\"\"\n",
    "    Ornstein Uhlenbeck process noise for actions as suggested by DDPG paper\n",
    "    \"\"\"\n",
    "\n",
    "    def __init__(self, std_dev, theta=0.15, dt=1e-2):\n",
    "        self.theta = theta\n",
    "        self.std_dev = std_dev\n",
    "        self.dt = dt\n",
    "        self.x_prev = 0\n",
    "\n",
    "    def forward(self, t, **kwargs):\n",
    "        act = self.get((\"action\", t))\n",
    "        x = (\n",
    "            self.x_prev\n",
    "            + self.theta * (act - self.x_prev) * self.dt\n",
    "            + self.std_dev * math.sqrt(self.dt) * torch.randn(act.shape)\n",
    "        )\n",
    "        self.x_prev = x\n",
    "        self.set((\"action\", t), x)"
   ]
  },
  {
   "cell_type": "markdown",
   "id": "ece2460d",
   "metadata": {},
   "source": [
    "### Compute critic loss\n",
    "\n",
    "Detailed explanations of the function to compute the critic loss\n",
    "are given in [the DQN notebook](http://master-dac.isir.upmc.fr/rld/rl/03-1-dqn-introduction.student.ipynb)"
   ]
  },
  {
   "cell_type": "code",
   "execution_count": 9,
   "id": "f7f55192",
   "metadata": {
    "lines_to_next_cell": 2
   },
   "outputs": [],
   "source": [
    "# Defines the (Torch) mse loss function\n",
    "# `mse(x, y)` computes $\\|x-y\\|^2$\n",
    "mse = nn.MSELoss()\n",
    "\n",
    "\n",
    "def compute_critic_loss(cfg, reward, must_bootstrap, q_values, target_q_values):\n",
    "    \"\"\"Compute the DDPG critic loss from a sample of transitions\n",
    "\n",
    "    :param cfg: The configuration\n",
    "    :param reward: The reward (shape 2xB)\n",
    "    :param must_bootstrap: Must bootstrap flag (shape 2xB)\n",
    "    :param q_values: The computed Q-values (shape 2xB)\n",
    "    :param target_q_values: The Q-values computed by the target critic (shape 2xB)\n",
    "    :return: the loss (a scalar)\n",
    "    \"\"\"\n",
    "    # Compute temporal difference\n",
    "    target = (\n",
    "        reward[1]\n",
    "        + cfg.algorithm.discount_factor * target_q_values[1] * must_bootstrap[1].int()\n",
    "    )\n",
    "    # Compute critic loss\n",
    "    critic_loss = mse(q_values[0], target)\n",
    "    return critic_loss"
   ]
  },
  {
   "cell_type": "markdown",
   "id": "93b22477",
   "metadata": {
    "lines_to_next_cell": 2
   },
   "source": [
    "### Compute actor loss\n",
    "The actor loss is straightforward. We want the actor to maximize Q-values, thus we minimize the mean of negated Q-values."
   ]
  },
  {
   "cell_type": "code",
   "execution_count": 10,
   "id": "967263e2",
   "metadata": {
    "lines_to_next_cell": 2
   },
   "outputs": [],
   "source": [
    "def compute_actor_loss(q_values):\n",
    "    \"\"\"Returns the actor loss\n",
    "\n",
    "    :param q_values: The q-values (shape 2xB)\n",
    "    :return: A scalar (the loss)\n",
    "    \"\"\"\n",
    "    return -q_values[0].mean()"
   ]
  },
  {
   "cell_type": "markdown",
   "id": "c943ca61",
   "metadata": {},
   "source": [
    "### Create the DDPG agent\n",
    "\n",
    "In the next cell, we create the critic and the actor, but also an exploration\n",
    "agent to add noise and a target critic. The version below does not use a\n",
    "target actor as it proved hard to tune, but such a target actor is used in the\n",
    "original paper."
   ]
  },
  {
   "cell_type": "code",
   "execution_count": 11,
   "id": "9db788ab",
   "metadata": {
    "lines_to_next_cell": 2
   },
   "outputs": [],
   "source": [
    "class DDPG(EpochBasedAlgo):\n",
    "    def __init__(self, cfg):\n",
    "        super().__init__(cfg)\n",
    "\n",
    "        # we create the critic and the actor, but also an exploration agent to\n",
    "        # add noise and a target critic. The version below does not use a target\n",
    "        # actor as it proved hard to tune, but such a target actor is used in\n",
    "        # the original paper.\n",
    "\n",
    "        obs_size, act_size = self.train_env.get_obs_and_actions_sizes()\n",
    "        self.critic = ContinuousQAgent(\n",
    "            obs_size, cfg.algorithm.architecture.critic_hidden_size, act_size\n",
    "        ).with_prefix(\"critic/\")\n",
    "        self.target_critic = copy.deepcopy(self.critic).with_prefix(\"target-critic/\")\n",
    "\n",
    "        self.actor = ContinuousDeterministicActor(\n",
    "            obs_size, cfg.algorithm.architecture.actor_hidden_size, act_size\n",
    "        )\n",
    "\n",
    "        # As an alternative, you can use `AddOUNoise`\n",
    "        noise_agent = AddGaussianNoise(cfg.algorithm.action_noise)\n",
    "\n",
    "        self.train_policy = Agents(self.actor, noise_agent)\n",
    "        self.eval_policy = self.actor\n",
    "\n",
    "        # Define agents over time\n",
    "        self.t_actor = TemporalAgent(self.actor)\n",
    "        self.t_critic = TemporalAgent(self.critic)\n",
    "        self.t_target_critic = TemporalAgent(self.target_critic)\n",
    "\n",
    "        # Configure the optimizer\n",
    "        self.actor_optimizer = setup_optimizer(cfg.actor_optimizer, self.actor)\n",
    "        self.critic_optimizer = setup_optimizer(cfg.critic_optimizer, self.critic)"
   ]
  },
  {
   "cell_type": "markdown",
   "id": "043ad09d",
   "metadata": {},
   "source": [
    "## Main training loop\n",
    "\n",
    "In the following, we code the main loop"
   ]
  },
  {
   "cell_type": "code",
   "execution_count": 12,
   "id": "a5309c1b",
   "metadata": {},
   "outputs": [],
   "source": [
    "def run_ddpg(ddpg: DDPG):\n",
    "    for rb in ddpg.iter_replay_buffers():\n",
    "        rb_workspace = rb.get_shuffled(ddpg.cfg.algorithm.batch_size)\n",
    "        terminated, reward = rb_workspace[\"env/terminated\", \"env/reward\"]\n",
    "\n",
    "        # Determines whether values of the critic should be propagated\n",
    "        # True if the episode reached a time limit or if the task was not done\n",
    "        # See https://github.com/osigaud/bbrl/blob/master/docs/time_limits.md\n",
    "        must_bootstrap = ~terminated\n",
    "\n",
    "        # Critic update\n",
    "        # compute q_values: at t, we have Q(s,a) from the (s,a) in the RB\n",
    "        ddpg.t_critic(rb_workspace, t=0, n_steps=1)\n",
    "\n",
    "        with torch.no_grad():\n",
    "            # replace the action at t+1 in the RB with \\pi(s_{t+1}), to compute\n",
    "            # Q(s_{t+1}, \\pi(s_{t+1}) below\n",
    "            ddpg.t_actor(rb_workspace, t=1, n_steps=1)\n",
    "            # compute q_values: at t+1 we have Q(s_{t+1}, \\pi(s_{t+1})\n",
    "            ddpg.t_target_critic(rb_workspace, t=1, n_steps=1)\n",
    "\n",
    "        # finally q_values contains the above collection at t=0 and t=1\n",
    "        q_values, post_q_values = rb_workspace[\n",
    "            \"critic/q_value\", \"target-critic/q_value\"\n",
    "        ]\n",
    "\n",
    "        # Compute critic loss\n",
    "        critic_loss = compute_critic_loss(\n",
    "            ddpg.cfg, reward, must_bootstrap, q_values, post_q_values\n",
    "        )\n",
    "        ddpg.logger.add_log(\"critic_loss\", critic_loss, ddpg.nb_steps)\n",
    "        ddpg.critic_optimizer.zero_grad()\n",
    "        critic_loss.backward()\n",
    "        torch.nn.utils.clip_grad_norm_(\n",
    "            ddpg.critic.parameters(), ddpg.cfg.algorithm.max_grad_norm\n",
    "        )\n",
    "        ddpg.critic_optimizer.step()\n",
    "\n",
    "        # Actor update\n",
    "\n",
    "        # Now we determine the actions the current policy would take in the states from the RB\n",
    "        ddpg.t_actor(rb_workspace, t=0, n_steps=1)\n",
    "\n",
    "        # We determine the Q values resulting from actions of the current policy\n",
    "        ddpg.t_critic(rb_workspace, t=0, n_steps=1)\n",
    "\n",
    "        # and we back-propagate the corresponding loss to maximize the Q values\n",
    "        q_values = rb_workspace[\"critic/q_value\"]\n",
    "        actor_loss = compute_actor_loss(q_values)\n",
    "\n",
    "        ddpg.logger.add_log(\"actor_loss\", actor_loss, ddpg.nb_steps)\n",
    "\n",
    "        # if -25 < actor_loss < 0 and nb_steps > 2e5:\n",
    "        ddpg.actor_optimizer.zero_grad()\n",
    "        actor_loss.backward()\n",
    "        torch.nn.utils.clip_grad_norm_(\n",
    "            ddpg.actor.parameters(), ddpg.cfg.algorithm.max_grad_norm\n",
    "        )\n",
    "        ddpg.actor_optimizer.step()\n",
    "\n",
    "        # Soft update of target q function\n",
    "        soft_update_params(\n",
    "            ddpg.critic, ddpg.target_critic, ddpg.cfg.algorithm.tau_target\n",
    "        )\n",
    "\n",
    "        if ddpg.evaluate():\n",
    "            if ddpg.cfg.plot_agents:\n",
    "                plot_policy(\n",
    "                    ddpg.actor,\n",
    "                    ddpg.eval_env,\n",
    "                    ddpg.best_reward,\n",
    "                    str(ddpg.base_dir / \"plots\"),\n",
    "                    ddpg.cfg.gym_env.env_name,\n",
    "                    stochastic=False,\n",
    "                )"
   ]
  },
  {
   "cell_type": "markdown",
   "id": "3afbf0c1",
   "metadata": {},
   "source": [
    "# Definition of the parameters\n",
    "\n",
    "The logger is defined as `bbrl.utils.logger.TFLogger` so as to use a\n",
    "tensorboard visualisation."
   ]
  },
  {
   "cell_type": "code",
   "execution_count": 13,
   "id": "fe02c40d",
   "metadata": {},
   "outputs": [],
   "source": [
    "params = {\n",
    "    \"save_best\": False,\n",
    "    \"base_dir\": \"${gym_env.env_name}/ddpg-S${algorithm.seed}_${current_time:}\",\n",
    "    \"collect_stats\": True,\n",
    "    # Set to true to have an insight on the learned policy\n",
    "    # (but slows down the evaluation a lot!)\n",
    "    \"plot_agents\": True,\n",
    "    \"algorithm\": {\n",
    "        \"seed\": 1,\n",
    "        \"max_grad_norm\": 0.5,\n",
    "        \"epsilon\": 0.02,\n",
    "        \"n_envs\": 1,\n",
    "        \"n_steps\": 100,\n",
    "        \"nb_evals\": 10,\n",
    "        \"discount_factor\": 0.98,\n",
    "        \"buffer_size\": 2e5,\n",
    "        \"batch_size\": 64,\n",
    "        \"tau_target\": 0.05,\n",
    "        \"eval_interval\": 2_000,\n",
    "        \"max_epochs\": 11_000,\n",
    "        # Minimum number of transitions before learning starts\n",
    "        \"learning_starts\": 10000,\n",
    "        \"action_noise\": 0.1,\n",
    "        \"architecture\": {\n",
    "            \"actor_hidden_size\": [400, 300],\n",
    "            \"critic_hidden_size\": [400, 300],\n",
    "        },\n",
    "    },\n",
    "    \"gym_env\": {\n",
    "        \"env_name\": \"Pendulum-v1\",\n",
    "    },\n",
    "    \"actor_optimizer\": {\n",
    "        \"classname\": \"torch.optim.Adam\",\n",
    "        \"lr\": 1e-3,\n",
    "    },\n",
    "    \"critic_optimizer\": {\n",
    "        \"classname\": \"torch.optim.Adam\",\n",
    "        \"lr\": 1e-3,\n",
    "    },\n",
    "}"
   ]
  },
  {
   "cell_type": "markdown",
   "id": "fc6cfea2",
   "metadata": {},
   "source": [
    "## Launching tensorboard to visualize the results"
   ]
  },
  {
   "cell_type": "code",
   "execution_count": 14,
   "id": "6fbb51b6",
   "metadata": {},
   "outputs": [
    {
     "data": {
      "text/html": [
       "\n",
       "      <iframe id=\"tensorboard-frame-c838d2bc60e0f75e\" width=\"100%\" height=\"800\" frameborder=\"0\">\n",
       "      </iframe>\n",
       "      <script>\n",
       "        (function() {\n",
       "          const frame = document.getElementById(\"tensorboard-frame-c838d2bc60e0f75e\");\n",
       "          const url = new URL(\"/\", window.location);\n",
       "          const port = 6006;\n",
       "          if (port) {\n",
       "            url.port = port;\n",
       "          }\n",
       "          frame.src = url;\n",
       "        })();\n",
       "      </script>\n",
       "    "
      ],
      "text/plain": [
       "<IPython.core.display.HTML object>"
      ]
     },
     "metadata": {},
     "output_type": "display_data"
    }
   ],
   "source": [
    "setup_tensorboard(\"./outputs/tblogs\")"
   ]
  },
  {
   "cell_type": "code",
   "execution_count": 13,
   "id": "488e8eff",
   "metadata": {},
   "outputs": [
    {
     "data": {
      "application/vnd.jupyter.widget-view+json": {
       "model_id": "581cde9226c94de2a849259839d8a35b",
       "version_major": 2,
       "version_minor": 0
      },
      "text/plain": [
       "  0%|          | 0/11000 [00:00<?, ?it/s]"
      ]
     },
     "metadata": {},
     "output_type": "display_data"
    },
    {
     "name": "stdout",
     "output_type": "stream",
     "text": [
      "Video of best agent recorded in outputs/Pendulum-v1/ddpg-S1_20241009-144759/best_agent.mp4\n",
      "Moviepy - Building video /Users/saad/M2/IAR/outputs/Pendulum-v1/ddpg-S1_20241009-144759/best_agent.mp4.\n",
      "Moviepy - Writing video /Users/saad/M2/IAR/outputs/Pendulum-v1/ddpg-S1_20241009-144759/best_agent.mp4\n",
      "\n"
     ]
    },
    {
     "name": "stderr",
     "output_type": "stream",
     "text": [
      "                                                               \r"
     ]
    },
    {
     "name": "stdout",
     "output_type": "stream",
     "text": [
      "Moviepy - Done !\n",
      "Moviepy - video ready /Users/saad/M2/IAR/outputs/Pendulum-v1/ddpg-S1_20241009-144759/best_agent.mp4\n"
     ]
    },
    {
     "data": {
      "text/html": [
       "<div align=middle><video src='data:video/mp4;base64,AAAAIGZ0eXBpc29tAAACAGlzb21pc28yYXZjMW1wNDEAAAAIZnJlZQAAyPFtZGF0AAACrwYF//+r3EXpvebZSLeWLNgg2SPu73gyNjQgLSBjb3JlIDE2NCByMzEwOCAzMWUxOWY5IC0gSC4yNjQvTVBFRy00IEFWQyBjb2RlYyAtIENvcHlsZWZ0IDIwMDMtMjAyMyAtIGh0dHA6Ly93d3cudmlkZW9sYW4ub3JnL3gyNjQuaHRtbCAtIG9wdGlvbnM6IGNhYmFjPTEgcmVmPTMgZGVibG9jaz0xOjA6MCBhbmFseXNlPTB4MzoweDExMyBtZT1oZXggc3VibWU9NyBwc3k9MSBwc3lfcmQ9MS4wMDowLjAwIG1peGVkX3JlZj0xIG1lX3JhbmdlPTE2IGNocm9tYV9tZT0xIHRyZWxsaXM9MSA4eDhkY3Q9MSBjcW09MCBkZWFkem9uZT0yMSwxMSBmYXN0X3Bza2lwPTEgY2hyb21hX3FwX29mZnNldD0tMiB0aHJlYWRzPTEyIGxvb2thaGVhZF90aHJlYWRzPTIgc2xpY2VkX3RocmVhZHM9MCBucj0wIGRlY2ltYXRlPTEgaW50ZXJsYWNlZD0wIGJsdXJheV9jb21wYXQ9MCBjb25zdHJhaW5lZF9pbnRyYT0wIGJmcmFtZXM9MyBiX3B5cmFtaWQ9MiBiX2FkYXB0PTEgYl9iaWFzPTAgZGlyZWN0PTEgd2VpZ2h0Yj0xIG9wZW5fZ29wPTAgd2VpZ2h0cD0yIGtleWludD0yNTAga2V5aW50X21pbj0yNSBzY2VuZWN1dD00MCBpbnRyYV9yZWZyZXNoPTAgcmNfbG9va2FoZWFkPTQwIHJjPWNyZiBtYnRyZWU9MSBjcmY9MjMuMCBxY29tcD0wLjYwIHFwbWluPTAgcXBtYXg9NjkgcXBzdGVwPTQgaXBfcmF0aW89MS40MCBhcT0xOjEuMDAAgAAAAmhliIQAM//+9uy+BTX9n9CXESzF2kpwPiqkgIB3NMAAAAMAAAMAJOccxEpfbYdmAAADAUQAGRHcQkyC6KswzuYB+Nxn118Hvx7IA5I3V8ljV0Ac0DjHihprqA2BRR3reQV7RHxYXQH5P31pSSxPIBIN+6F+ALw3csiyOXigMERJh4EbpwVw0yB5DtqaipodNaI0bpXIBdwUF0SEPVQ5/hCs03xWm/k89M9On+pe17WxwYtjgJ71f/9oEfQ0HWdfcD4j2fG6Vf8OkTZLkwfukC0bSx3A3UI/RTx9b8PH2U5TrZajQkt0/FAiwLpUAEVnD0mleu5lt0yfC6TQHbl3RyqHs1KRZWGJJlTEvEe5ovXDeCcsuX9aVupZwFZoA17+Sbc9Q32leOjWzu6hl4j3QbM2yKBmF7DcR+yaFmAH5W3D97IeVmNefmD4Vt8cDF3TbQi7Xldrq81ylZupsnor4brvMCXvt0tP0bNtldmAWelxtQBamqchpobDGQN4xqFRn4fnhe+eA8/AH2+O1Sga0XB5mCY3OIcn/6Q2gfk309pGKgWT9nVpQwZbaqLVLATPZSzkZe3xSbbbYCJrSI0YGtAqzRooFR+thJnlpBL+k1/wrBXbpdrJtBeS84oBwqCChgokW4MeB0Fdlmy5cqNAVyy4Gb5LwbOW2c3zCGeBgMMGEM25zlsVH/PpV5kkNCvLihlu+lsVEp/PZSn/xOcb6hGAo57ObChrRPvjDurD6c9xYlhdmE71lT3bq/04PLznmTJVfV/6z8XP+lmCXfMsGgCgAAaZh3wAAAfSAAADAAADAAADAAADADyhAAACx0GaImxDP/6eEAAAHn1z8DQRAqPXgtHktCqtxNdC+GS4629ddpqIpWN7qSVYcZ60ablJpQS/0k4blSB9mJCNJJHRTs/jvc5CpJe7T0RPxKJuaFLvILPuo8zLI0r6tjTicWMAi9FYtxre+tAQIDZU26Cm94v6Ltlhts8bYU9ZCh3XdpKc/1ifEGHebFhdlAEV5BAyp4tzWkniisaHS+2usajQgeWcws5mdr/QIdy3o2qeJVnGHUu6o6q2zlHhEZo47v9Zt2axUUMyAdh2mFddsOJmMKhdegvmDiwgA7INXXGShgKxL2wYbk+X6rwT/2l3e7W/m5YpJsiIs756Kxwm0bPCeugl06mIalqn4DpUcccB3pUc45uq0M3rD09AgQLhFhR8llZ5RM2eYimk2QYtK5HxNhBw3iEfOUmOBPxdfrpixHCtugftWrmAr0dchpI0n0D2OCyYMDy9IGzBqW6ZzT5YTkTA5LMXuiKBsYchuzfM3wgqCaUL7XvQR7tsNJe/Vi1/hSdb35rFiBqNl2KzOPgIO87JfNbdsuUgRDMQ95FOLW1MFMieDDhOiVYoWrU+6eYrTnk7HDnEXtLj0Gc87rZT5nEaNbgqcCldxuHuieXT8mZtJb1R49udy5fphR+r+Hs6xDWb9hR4w8xLrX87d82698TnSiebMfxoig68QAz031jjEG+o2u7lrt30HPVwfbZSvooSXKuBrdvtQo4A3vfyW66965FVf9ylPyHmgOivcuK1uAPjiLaK1VWJHbIGwWZgcLsMj3aPc2/njlF9SXoreprXBUEGnrE1KL+OpBTT8/Ca8z1+WeY6gW0i6kB4SeBRizZEPpJYGsrSIH43lwYnZ0AGOvJtPRBzOkVu+uHZBCqoKLbAvZSqUbmb93hjynASJJKyj4Y4l57YqHjDwQPGiBXYVEwqwlbLNEWQajq9H/M3YxWkgAAAAH4BnkF5Cf8AAAgsRiPq6x58SGSjdb3L/IUCqQi2ee2JEUTq//XgARB6wMQGPuNb3SCZV/nQv16aEdAp26WNJFmEe8Erz3fBnaYZbkChDHWhTB3roeFcLbboG/nxk2/sB8poh9aBSBh+EES9U8cdsIkbx5DAA2bhl/jH/LDKd6UAAAFcQZpEPCGTKYQz//6eEAAABfRnPptSKUARo9r7n1kDrSJPwcSUW5NrnmE0sV7KywGjmvxRPgYBQ1T54Yactcf7FBq8t7AOwmR6rt2Nsjut+mrZjYIfRghQ1jbMcJgCXDV5kJU+gLqwcUemmt+V6Zc3lH028zMqOx4qL7W/J4EUCYhMfWF1nVAM+U+E9J9d+ONNVvXLRpSfXw3oxuqW6o3TjK24i1G60cnxsCYfOmmvrd6b75RmLmLMi1YptB2RSH2OsXX5jN/ZePuGXlI02tjtIXVO4P0zbTYBDQEw8BsDU85PTJcQT/q7wCnAog8ASxeazEcI2ZSpHSGu4qzACDcE5yhLZZS9qKl+74neGyI/kxR0m4rZ46myVKRyr0v6HXDGpzGaV4wyvSoa6JhrZ0Xqw8Uc8eSEjPvclJ45MQEo0Kz1kTNDL/bMPQ8Bsc7fkvSiBL/lqXH+39OE4oLAAAAAeQGeY2pCfwAAAwGa+iTRVx0jROMEwDt1cspFRj5fD4P1IWSCOp1IFkFzzNu1R465YGkJ3ybpz4NLiIq3hkOKm6AEGIyvGK/ixhtKgrR5iLUL326JOJYwQDjOFZncAfrRdurDZjDgfKolwD0z6jc4Ce5ZFPi5y2m7OekAAAGGQZpmSeEPJlMFPDP//p4QAAAF+G044AWFFlNjtZ4A95bcXU47JQrMaOa0BbHF0a+eLsi3IsBgtzz+LpwZpQgwh8feTo0H7y/YgAcEp51mw7q+KKvi0LIUHdJ3bbRLQAFZ5ha/ieK+548U0Qrw45qzVw4HZC61xUToEx022aJwpscdTJ4Sn5EBUq6yf5nkgG32hh188GskihmCQ91RG7KVJwUSDJZHQ58A062575HziWEjYoYwWMQnPyLw4QOy0dtTI8vWHD1RR0UGYo92ki1Y3KcLnrmEOtVs1VLWSR7VWfwgcSZFF+2HM05TV6v2Pq+3R99l92nOAfdqZSwrR4XEoDmnzpEH2MT7Osrz1hfi0UvC0SP/bP+88ik3WSXoUFgcdml4I5AcsJ7Yc9WmE2hb9NkmQo3F/UdyiUMMKYCxkDMtQs42amX7f0yjlUA2HNxBKvPryjZwiARMnuQfcS6lAOpJbv8lj4ysxW+IAbmOiGevagPz6GAyNcjKH5jCSddEPIMHG1xxAAAAhwGehWpCfwAAAwGXHUJVDq0ARH7NPHnwG0dgl56XxwAADOM3CRPIdsZcA2PAs93wbYlDgOKiTt+j1y7gBNxr70kJXuVBgooFIgzkgCvIChXby7R7h32UU7E1SkwXdgFsbKgDnpXLPhPzQYc8lpcqObq/UMPIXLF0viwryqTvz/bBMeJynJctFwAAAZxBmolJ4Q8mUwIX//6MsAAABgAag+RAA49HIrbJc44Lm49rRpTMx8ciiBAidlUVX8PJrWShWLwqOOSp6vLmyNlnXau9LhfUZQOtMwuXoPAn1Gxj1E3e5d+UAXAo3xnH4WKD/i8wIBlKb+cXGIKaOZ+GxuVyiJrTZDT01q4OtZoE1SA3HMIY6Si5M/3GCZGM7xZit2oElR8D2tMtgG03pNGExTrs8YdZq4wCCdYyXEir3ellE4nK0DQSrhL49j0fqlYIOZ7RnAfkOxt5AMxwHj9x7phQFAXyO9lg4GNdadAMUN14cPJpDZU+qYbcahhRQ46X+9EOb0HVprmMNkaO6OKvq4/3VSqXuBHJJiNKuESU26olVWC2MCmSPE15FBEDp/qykb9w74whoD1mpGtcf7g0C+hR76WAFjz6AFe6bi1PSEXmOIPwvbosdrVJQ2KDQ+pfzGp8JVovoEJmPBu2GfMTfUPhQt7p/2npCbB+GUABNFAVFV4c9/FzxojjHL0KUOPuG0Yxx4VReQfpG2YlYFEJG5BFH0Hxv6LSHsH/AAAAkkGep0URPCv/AAADAT6wqz3TfpZ4SQCvwifVkhgBIJSOs8Ljk0obaT1muQawRALVdht3oSewZLnph9CCNT7ag+itweVYoGq6hXNB26zjkcs60//4ZTU8kYe8mAKzaG9JCuE/N9TIYORDczmGDd58/ihciQGLAwO03fxuJysjuSwg7dpwQ12UkfKBuf36j+5eIPmAAAAAeAGeyGpCfwAAAwGcedVingBCaCgIWFhLZEVpkV4Nh3HkGmlbutaZmDxNDAU07Nx/ljNd6GEWPvkVnnMfwOuMNYIR22J2JnyWJvEKM6f6756QHvaiFdH9Oofe5dTJedouYm4scc57FbE2zZbkYLslSQdWXXRULPEbMAAAAURBms1JqEFomUwIV//+OEAAAHc9SJa2StRtC0WAhpfAEdqiJuVnm9nd9ODns4zjCslE6Q4zB1lEdEEa2yd2knKOrlyyAEER/zePMX+wJIU3kv7a8yBCoLFSwPNvIIVS+3SstRTLE+kmqgP8bYtx/2LZseL/hNJz/1d64k7CWPdgYVRZxTiM0SNRJoGCcOLvelgVSjo1eCr5AIMa6L7pCQn0vFpRuiUdwg1iDP8fII+cKYYn+h+1QikcvLqe7v7xZIW63PU7HNqYIW4u4X8KkHYCvL2BaPElV73NxsF6ZkTMXXgvXit9wZRD2TUxWXVP2jWxbsTAdDC3apqa/3QVo+8Sh7lEfeHgm3zn5q0iWVtsEiSOz3pDZPJtVlm4Cff3WJSRMAqSFQE4CQHHBSXkbJ1Y06N+INDD7DAs3xBs36uWknnjr6EAAACSQZ7rRREsK/8AAAZx0MwW2AtQIw+pjZAFwBW+6tdUW9DYl2TYMxcYEPPMBcqtuyE4lcfmLmyjZdXjUQfC8KDhVQg6fe3kWGH2sFLf1kZuDl9BTd68nIB5hDfovFQmnXS088yIhcSv+B7M1k5QUcXK/xhpPpAW/d19PyBKUlp3+WyG5k0B0aiRwI2IAGgd8kfhEbMAAABTAZ8KdEJ/AAADA1/nQ23V/G1dnQEoZD+E/TYTEsXVux+x9XTvfp/1nqyttCQvpjIwRoqeKw/s1FHOpHzidADdQjeq7zemsEHICzOYP2wL8YZqhTQAAAAlAZ8MakJ/AAAILtrTeNtD4S6sdvyRmpYCKAGRgKJJJbpMSnUHzQAAAmJBmw9JqEFsmUwUTDP//p4QAAAdoO6AA6BvBZK8QE7mvuPytJ+DmLA84kcQW4QP9Uy5Yv3PquPnBV0oJ2fP+1DuvXWboqrPv3WhgIEG+MeyzR3xrtX2+YJP0pCzb0AVHQsUpR6U/93qfW0hbaSecByDFaCnUVie5l+tzWNZECN3MVMExTsjP4wHoQ6Za54tjSPQeNGK+GGGjKcg1txjDCZVoIi6obvfQp1peaa8/HYMfzyjf7sQrpVjmI0RMuz4MJnW6Tg3QAQZsLfKtpy8cMYpVx6jgCUlktPH66tDAe9kUCe+YPNkqIwyeqaYTx755EJGoyMIIbTd5WY1gZ3BItz2djZ/OmVEDH989Wzb7jMlRdd0QGYHOnC98XK1kfTAjoYgqTiTcAEm6MeObYJD+TMjS29H2OGEiCWbnRssrUfSwMRPA44B8KeshyQGffelSha37jRVbyMib+UU3+kF/NyHjdB1ON0u/ZAXDT/NLuLuY4U/22GQm9ICRWSDOneJzZpvL2/dm6rlM5de2F+Ghe2fVvfJPYRxraDyKdaJWcht4QKyIBfN7qAh1bnuCNSYGGswlHAmYIjibX2E/0TPOfhl9REG/jzGVc41VXn/hT/ZIN8kr+yVDwQ00y0cLTRsjHFOj48+8SBWwbOMKO1T/cRLTjpqtIokExZdtCrm8MM7usLyxs/r9jywGuuuS0jSd0M5uW7wJoLV2gnTLs+OE4kP+Ee2nJ4/2lOG3Ir0YZKyyEYFbXXFaTVAHoMsy1xJfaj3CZD46UjDoTifsDXgRn8HJl0itn+UAWHJ1uq5b3wVu9a/AAAAkQGfLmpCfwAAB/AaVPH/G8hKmX5tRZRe3yHuPvX5QSj0YroGAD8GliR8tBfB9fzf0KbRxMqhgM6vTqfRUAVlpHE4VT6VRhgELbCNwG2z7LGz3+jFdbTzLsX0skNv1sbaWCnn6n50ErfJkibOc5MdvdlvXvhbMgiA0QyrvTC2efs1pa+f2crPvYMRtPpjr3vQfMEAAAEgQZswSeEKUmUwIZ/+nhAAAAX116AAXSTmrysJxErQ/XwjET+uIw6JkyPg4WKtDsn4erhMQ2cauDflXAYWHddJY/BCd1Tn+Rrd3EQtwOVIINqgBwxtIjCtPlE0U0woLII5Dx7+9YO5PkiNNnMulLN+tqTIFK5LZgnMyYarx6J9rNk6melikar/hPMI2Yd/OgopOO+qAdseZLVkbPOkb135ajkhM9X1p2xJt46cNXuEHss+HmgMDU2cGc7M8l9NhNUbf85TRzFlRX41A1kXLCSSyOgUNfsIbh0mJhqRtID9w763qJQma9IaFj++rMKBhJhTlTdjgIc18ptMsCuFXl/3oYNfg7BOgpzoPvyYaa6la2TyR5wtI/SZwMdD/m2HlimAAAABakGbUknhDomUwU0TC//+jLAAAAYAGrZ/wLR3yo/qbwBeZ/Q1AI/W/B06nqToGm+RZHiOj5vY9x6GFjKgn+hQFustGe/RgR/pBe8mZFQ4T192YujLWE9DEbHYdIR0EnQv5F36SxBCWnu4B2b0wsv9fAttbTHcUaEdnXRr3gcb31iFFa/dtCFdlx/8aKuy/HyRu+sfsCFDsyI7RdrUdXqgiKvivqkh500wuVtb6Dve+Rew2XPwEwVUzQOY4+v9hk/IwLkiQsRuMMmNgHFFnQSNGTvqcIR2FJZZrnZmZO48hSP8R0RdVNHLFNals6Eszg+0sdnOYgl+ORGpb6yX4lKsqmhq8wC9O2PAbgDaaudASNcphrMxt873hfM+5u688+5Qv+Cx01V6RYujhaUd+fhkKVm3Su8a5zJXmxJTckle9hk52+Qzrx20a+E+CXITms7ltvfjS2QiVsHuOthhm6fb29ZZFmJW89abdP2EAAAAzgGfcWpCfwAAAwC4TMYCWELk0k1idYADi4VoSoZBrBfx6SIncVoejqDnT2S8ZNeTOFOqogviI+pzo6GxiDLF6TQTvdkbrNITvxaJwgYLsWMaIdq+lRAHte5eX0B7fym4m6i68nImk4DkaYS+2o+/HSjLKiybvcLuiDi1TMmUP/8LDXs2NG5nq+LxTc8F5TmqdY/MkKoZWNTMwgkGnKz7sSz+TcEDkKsctmb+KxRtvYcnEWbUOxOIQ0cWN0l71LudhTVoUmMpYu9TbySwMkxpAAABL0Gbc0nhDyZTAhf//oywAAAGBFW5QHYALpIiK4axv864zYmNBdDPvRoRXbeLp51bnbmkSL/+QXJeKzUI1uyHEuD8EVzr6+Kof67Nwkg/kYmH0LYXpNDVcsu4eX6bpBxpfmPCO3QZINvwrbtoS432FGU+Wz2EANbw6Zd4qPerqHevX2gHJHzxFoInJcAK4A6dsBKPLt3elVSL8N1UQ8fsRS7En6srLwubFMASJSZOEKLvjfNVwYqRwhZkY4uZsHJmeKDcwnHOKX0EsoexBdRlma1UsCHWDnLi4+EPjFwPzHqZsudCbh9nB4r0a7KzwvmdtAUWdZVPrMb/G+/m/VRBtdeydscCXPedklDo984JGJhKtpl53stuCIuxCqYUXtVPapeGc1xvpRSNtG4606q3QAAAAT9Bm5RJ4Q8mUwIX//6MsAAABgRVwELgAJZ6S782n2Izt/jRiwImRhaeExvEu/96mcLzhGiTdgVZQKGHVOam3puKNyAWcSpqnRBFb0UHCRCIZJT315i/s6Y0SYHrqZIT3V6hQwzSUVq5iJE0RZqB95tDpxhOgLul1BLmlJaHsvSpfAAGEyjOrE1/GSDbDmew7nXWfANrStV0gDtpSGmk8dqJ75GnZieBTGV+4K/94+v20ZVs3/PUNm4h3vFSrqZDu7o4Xo0uD60Vt1gc5UHsrJNrQACaFSgiF4j8DDyQRe0uc0vI0o9LJWOJ3OTNgvTYJc7Ex+S5Pu4Kt1D8Xy+dcCErLeN0uRH8LbyZp0jbLDdunvPbEp7lH82d22jx7Pav8ow4TNSRenzeJVqA2JVYI3jd4W1pISUemWfjwE8ErRL7AAABYkGbtUnhDyZTAhf//oywAAAGBFXBU/gATjBc695/IgAofd2MYFj2HpQf81Vwa6puFTWHDXPDdw3033noebTs0VUq/PJtcMtJAb5oXAh8rytKgMkD4VV8F2O0AmJEEDggqIiVwYkFJMnoeZqq/q1eBfb+zyLEdnfn6TIt8hB2mJoKdt2bw0dcDle6GLwUpQT0fH9xX4QN1ZpIns1uBO+ZgQiFSgkwnWeGosnzMp0sjGUGOm4IXyjhxZCnGL836x0lMBGPEBorXpRjZwwDodlHL6j5DKCnBFxYPUoX3TaMWwO6yoGaC2ss7NYv1+IHvwt5qGFNLT/k9cgv28RE8In0awSX5gpfUkfPIkOq4KeCTuNRtOS1iFipDfzfa0prkDQmkGMArWfcWRv3jBnXUVGgMcgfw00t/6SPS9H8hSMqYJMzOVKAuoRg+Ju0iGi3J3/c9LjdxSWKsDlEfnvgY5Q5skC7gQAAAXFBm9ZJ4Q8mUwIX//6MsAAABgAaqcjN5uAr19XelRp4BQeAA7Q2PSmL5ol9V/tcgDzobACqXYiNaFim+WSB2Gro2DSPGMkow48Zl8eqmuA3+TvFj/9GGi1yA0VuuSNHKQYH380dS3VD/esHYp0njHsazLtY/4HBt/XSKkNXjzhRkixUc32MNUUr/kYQbRKL92poZjPOuehWqLjpFEZzeSpO0Z7ESPofDlhB0eQTaGoowekGVY3064eDiemyvApyxJ5eiBGWZGbrEXFO2XXog2S77+2Vx1hXZDFdceG6pj9bowhzAbDc/YzVad1XUUb7U473UuxdsWxI0H4aiQum4WIBIBHeswJsCnDZzxGyGbjg8JFA3lFLzN3nC2Y0VD0TmeZ98ar+tB7urECbeeJWHQmjONIqixmclq8Rzjf5YXatfuOu/zBpvVl23qtx4WAN7cuSFaPCgPVA8eLN+YSinuVqB9EWz5AIKm1FN/sGKzca2tgAAAGGQZv3SeEPJlMCF//+jLAAAAYETxJBasAH8hB0gcWxgCMKeQJjYQUPPsZrBREm3QIt/YlMHOhmmuGJNOY1HCE6cuj6zb831PfrS+TqX5kBE2KX9dDjirW7/Ka9qoZJ9hiBao0AJNwfMdazzSaopccWeSLHnh1pkeUI1uzEaLDxzXhql2BjrJ1ZuG8TpV+Ql3iN/GojuLGl7CY+8blydWbWm0tkPrh6NOleWx5EVOUl7reV2ylorazZ8Xq7gypFCrwOwhWHsz1HiriE+tOiZgQXowsPMZgWr+fYgk7heAtJ57l0Qp0oIldST63p21Uf1wc3G6Q0qw9EKZxOiTzpC/7/fqov7YKG4laujYRCdyK78vX9w4yVj01RRuP3AwW6D3bJ3jnIslXv/j7kjOErcLqJ54XAH72Drc3tQmbPLSgEJn9/y93OEvXQsAdsjXBzu+Q5hGLFEkDyXxES7AN/hgBXyw6OkecPaHLyBx6XBZMUAM3umtpYL2f0DuaMo8h9gLcrChnoBbDBAAACOkGaGUnhDyZTBRE8L//+jLAAAAYHh8fSoZcAJl4UJbzKlrOuBnfvAkCwToKL3FT0k/Z7cFa1oy9mFf0ASnHaHzjGzlJwfPJO4eppnvAOh7xK+I7muxKzpxOn+XrWA5OrZf13sR0oK98ib3hXp0bCfH3C6O7JFzBd4YI6TNkYUY6xwJ3+l8s7VWVTpnO8PYklslsjnImkWSkO6KrHQc0fNVjMwQZB9t8MGUl6KHStviWujd4rDMfGTmQHygMxzpiHXb8L6Qx+Sgb6zTkhRv22FMaLtkYZoJsHAaSks/0Yy/mflWL39St7Y+OUo5/fuX3LLonUOXnif+0J6NOljQ5KejcebG+SIk5NRXwxg4DlsPNBufr/NA6Z8b8M13fxLUbq/r/zfaA8oY+iGz8yHQPLMdCDJ1uqrGEPjIJIA84IjPQmlTDiJluw3846Iiarme1x1E9N+K1dZupRnIBjjZWbFCR9ekDc5B7cEPiQJyArvF3CKfe3GJyLyy4K03bFbGIyXWob579+eh9wennjeTscC493OBxeO/9gEz4sd5xVfdlntQg7vWpjqNnp46xe83WOt8mJFCJwZ6vbFDyI32kTXWTO6yh7O5S2AcUGckJz5JPqLailkrxkLLoV/fPR9MjhX9u27qCH8RHr53ZjsEG8Jk0SS3uBVsbwpo645o0jyJyyIxfhT9obBgZWR0ohUKzhcXXttUlUuiI0KAwRat/y91uFF7vSAr/Koliq2K8U0jxIo1evi2UnrciTIQAAALEBnjhqQn8AAAMBlxh8umqER4QARB3xmYjmOWlpIltDF8WJ9UqIqMwOO/fw5rnr2s9fg/LBb+JYk4+52U8uxHYshS88ZnbaxOMw653EXOP9HSZ8wIt02PUr6bx2r3CM4mVoJDTqEMjNLnZTTC49G+CZRyH7LAxkj7kW2LSWA9AI6Nkl9+5NGjgYVKinLCSqveUui+HXoRsF8KtpW3adtygIN/rXGqzLZijEyVAMWKJdwccAAAFjQZo9SeEPJlMCE//98QAAAwEe6JtZjVNawmt3yGoG5BABQbQVAsx4joi3TFE4xFIjed8IM5g7Vnyr4TK8wl64LY4WIQnOQMB1ryU+TrZipxrCSHZ2Wf42Wf/QMl25SWOzd2RBZdXKsgIJGxVWJb1DrwFu//oelf7HetZQ138ornxw0kE6Vu1QUm6WAqf9n5rYwz26oTcPFvzR0I4sh9ukmnS1YiABJItLk/MLRW/5KNmo12GeMG2wZvWKotHBJXWYUrgKUdQUZAngTM1F1C9XDmYlBQbLuMlS9yr6m2+ywWq+Mr/yFKlNpKhH/eKyq9XUIuU3m14ToGjlUvgrpSAhPCmyyv4pgNCeLGwBIxD2U4jFzkobt7Bwe4EwILWSXAVihOIlWqF8SVw53xyV2biQ457XjUUe5/T8M/vt2FFGpBCT3S9/9JDrsp7BcXTV9/YijJX7c7gNFV7Oh0U5WkUU7piApQAAALtBnltFETwr/wAABknQzAIOqUd+IALZ5wLK1QXAMNwbUe82KzYMwXcsGDKULmyMwGXnBuaKtly11MXzdt/m2IXobOCvolmKjWHXcxGO0To3YX7DRWObdnNIdoUM7/qbuBenSFh6bxaYYVOioH2R64kf7jaCSwOLYk1p/Ru5nSBLj5LjJIkYlhcb9MDNzub+CjUjF5k4UEf6jB5gAL8pQE/LoYUy9hIzAcBu4+O7J8Kr0tViUpYhI796uBNwAAAAcQGeenRCfwAAAwOWTv8dUVqnlDesAA1h/3muXcXhkmtjLCB3+mmvf3KwWUpRF+uMqr+yacpBkNE+GHIVUSswTTfs2cL8Wt8qHRKWFYGFoPwcGHqitpTYXTrXUF4mz3UnVJMSE3abTW5UW7hYpAMzwH+BAAAAhQGefGpCfwAAB/HSUPyCNMo2Xv9B0xiQF9uQASxmn/28PD1/+FOLdmN6FCQsiPB4nJHozbd3kU3bdyKvIxYzTidUo0HZ1Plqab1QifyeVRK8JPKqYmm9/6b5xfa9n1kCxlmoSBE8P/cbluMEhcj9i0roZc4QDM1zzXxLjLZHcM3xvBgkHdEAAAGpQZp+SahBaJlMCE///fEAAAMAf3U3Bcid4BNJzZ4x/aRzU70kXDkMm3QbFzBtDdHv4g48eRpz6ZgfGJV4uF6x1olRaEsvjRu+c2xglQFpav/8viriEtJN2d2BQw2sIN80BHAlp7Nc3xLEdbYLl/uu4WnUFbhjiZfynsTXIxri20Pj0/njyb4bVnN0UoW9GV6SX3iPCGFiMjU9qH2RIa8aQeiSyJZBWq+/QzVN+1uz/bxPI18ke+91HnJreBQ4jtb58nZ2IQCyFzgZn0ljkXvV8tmEkhwmGKG5AC/JwCfbDlcLJNzbJFuO8O3oQh/+iYMiKOhWU2tJV/eKYY+KsUDoYHv/AP2soqeSgvEjThKcnC7mZrB33GzmfvilaYL13DBrzNe5y0orvByepEfJvtLl0vI4SY6yY1mlw5K+WTPr3AYU6VZwMIVQnv4BexwHRrsRxOpcL1FqMxiSEvbzjHjkZBJ/XXK688UkMo6f43KwsqzpZxI5mDaEgSQk2gnxeA3w+Wpxm5n/Pj74+br9+pcMwIITaRnha/spmsPZxJVwbqspF9j130VsUQwAAAHYQZqfSeEKUmUwIb/+p4QAAAfLXvwNQiCv95nK98AyyET+qgV+8Y5I8nMM4Pl7RP9BpeIbsVXzeHHFtaiHYhZkJM22y7cQCExCzUF4x8Q/CHxxB5OITtpUfrBv65fICdWzbCZp4XDHDeNr2lCUJiR0E8aIRF4W+PyjqWBkpwRGHWvxWZIKWR4BHAHKRLge4w/hGe+HALtPT9WTVei1qMuf3fasFJexFjOAJImP6esUN/fjb+nWLB/u7g9y+nZyuZIyD3wqtt5eiFD2IiG88jPNZUoabGYKKb7g/zqNqtprd3TA67CRy8W+sSHuWazq6ajHvNc9gIG+GRa2IvspWrklVxqRRdQ+bEpewS/b5JUUVHraC0iSMv9SEFLL1tAmi3aW+29x/nc1P7gyeLbeVuPExwZmv2+Js7lbZOFYaztaHDMQKsYTkthEZRIorUbEbHvOcQ85tie4MF7WxFXZQSK7ofcVTAoIc3QMxEE3bMUTdrY2FwsbKIdYiCPxDh2mnRcQ6GCaaSEiKziyPO/ZzjmelUvrRKMGXOnB30jF+fmQ977Q6TUAbSpOZMswA5i3CN4YCBu0jpSNJAAD/BBZ22Ixs795HEe4+iuKeSrEBwx/9iZ+biuE2nCZwAAAAlxBmqJJ4Q6JlMCGf/6eEAAABfRV63YlyrQ/Hq5ngA5uA3hyZVMvfd0vbaR8xb8FOtdgXtDlaVwTaRT3DKGtZyovNNkQo1JVFexDieZdFI3sCbCf6LPGDrprXTAk9CHK5/c16PtY/JCgDjqc01SX/V5swKRkZKkBaA+ylsd570cijge9N5wgK1dEtxo0OGRYGzk2oWKm/vCnbOiPdmCWxYj7lenmq2gpTble+1y4dN8CmgamseNbVMwkIocL9W0oycjRAf7YCnagVPEg1UCcUTFTg+f4ZThSmfJl/AkirzVedH8yaOw4Qlwdxl4C1W308DlKXzaGlvOqTOfJouC74saHs8xVulk/KuD7pBvs85r0rzcmuQdfNGNv65YYLCvzSbHGji1X/PMbCNrQEcWHCI4oAHI5f6YLFU0V1S6kzl76aR3wEpTBmSZTbhZGGmmRvirleRSvqUVcc2rCTrxHW8VIbZoYqqhiUVxvD8YeH+chwJVTSXmqut1SO/j4x6DI7Gkg/yIceLukmf1twdn3Ai39dFP876Tj26r7IuisnkSE5QqgeSKPpCaC3LYJpew1b/saLSxLtBf+8yAIwNS6spOqTUQPcZC1CPbrjpm2yutQF2Y9XbZxBtlODKKyj4pvxbv6AKdWflcmdMq+r5bJzp9dP6cQkyg92RGEhXX+YXA68hnNzaD1s/HTpGuv3tDphgvPxLtcPUCPYXcb9JLbJ09oxo5A4gQtyVxcdQGDs+B3pmxiFUDx1ESA1QHmaUIXDR4Rj/CFg+53mC7Bmq/xdz94YlByqm2sQnbGHOL3AAABIUGewEURPCv/AAAGH7bNF178uoJ60m80BLATVrJbOhsukHeACIPOErZTCmDczwqNwUOwzUmw5phe937KR8+zEftvSXUAmhK45Zv7qodNvUXIL/O/yMVOzYMtSYin+dDBGBwHMT8l4jVV82J/yysO+Y9d6nQdgbIQbpRcWVtcv2ylKDz7r4+8X9wdz0dwTJT1kcV7ZzZRz1wqT4ZEuiPpWuABdx1hO47ByjIAVUac0oQTSMA47Lr4QeK7BrVo2wqxQvpTvvmUzKjbR/KGexa+LH+yXxtfeSKPRK+xjM8iMnAuV2kMNtMdeWh/RoqD2YAr1+VzJh/polDoIBHyu/7A5OlNa0uZ1QTpIoDkNo+acKKW56W4LLknMjIoYCKUIU+bPSAAAAEeAZ7hakJ/AAADAZcPC/M5rv4j6cAJp/N31ccAVZAXX/diuMtJPbBVwVP6YKYrqffk1o9i7OkmMsvKvH2BafXyYSSKkcJwkOc01brozALHvGE6FYGOJp+AqIMo3APGoiJFH65IuEHqEgSID8Q1TxQBIRkXHZ+JmYnltmSza0LJVbtgDmcQG7EdFN14Z+36lyVCVMhb3zaagWm3f37GR/8Vbk3l9Gpix8p8MVSfpjfAwsU44/51fBazpZVKdT+/cbSDmd+9iVx3lqr/XMQOs7SUaGDgUUgXHVw4dnyuEmyhSOeIL4+eOwlHAxaB8eDPb+GnpDFL6w7rZKqJgjV9jWDWOTdDspynbkcQnyUrRXgTDGB5o1cYirnPfolcz36sCQAAAXpBmuRJqEFomUwU8M/+nhAAAAX0WK0Ji+3zABpNRX3P0De/UnRQmC9AEGSDFZe7L0bt5UhXy3DnKGZvXNW4AyZLWhXkGAAw7qk92U5AcitUheHKh1jFvpCbvYrLAcVAFUNB9z4u/bQYeCDly1lL8pt+UDcC/WhThpGJ2W+/2QvnBneSTHusT90noys6CfifT1Crih3+tmdTidgrafbuBQDtALd0TeTBItm8/HrmdJpxogx9OU6bLsIbPBnJe1cvYJZy8YNSgkG2b0QdPTXr6OZrRvBFrQnmGdZmTQ6U5gH4x9l6+AdKaFi7zoc93eCralo3E4merKy/DSBaLTuwUDrwzb1zhayc4vUKAvX+SDRNH0T4m1cmHO+f++S7u5rhIz3yHSNwO1DRaEkHsigztM1A0VHPzRXvWqE7YXmZQo4L5TPKClKperF5ndrpGUPuJI+kiD6uxb7uFq0fVui7cP6XuFIgDdP08NOtLbJxQgNilvfTVa2Nl2yAj4AAAAEBAZ8DakJ/AAADAZbcpjKm/Pm0aI6mqOAeIjmgAak72d9AdOoWEaoqIu/RrYM5XbvewYQLjCHlFrXjEULqKwP4No/R710KfAQgI0Iye8gty7W6tmzElm/KpWw4KRuPvjCL9s5iiZqYTtzrawIO4qObGaWRXdDYr18V08L4rCFGBbZJrNYN13pX8OrF8TgRCuiqwOKTUN36rnutxzrZZYEPoMKdm4Js6PSqoGu3FuVMtDfQjJfNMDC5uvZYXlAAdZKc6llKxg4LYXJioRBOeNckjs0QHt5azAvFPYTLzZvq8fRntPiKUmB1HmVJb0lef53173g7s8LHyeUQT1Y3uXlWQcEAAAI7QZsGSeEKUmUwUsM//p4QAAAF9Fg+t4r9AAWH1w905Oe0DuZK+bFs1qavfVi07iwzS7H+gnpUWHwYi2jzGRapo8Oqiq21QOKbXwh+tZCRD0uq3pPyT8an4p7M2yYJg/Kxpvb/ebMAUuMLbvjY0pdPT+0L13YLbER7jrUay8OLY+NH+7wff+VO4CoH6wcAVjXZLlQ7QhZSSgjcgqprkgYl6QmfoyQt6kOGPPT1M/M+GysM9f5UrJ1P33jLTm9SAkBQIZ5kTSF6z9zS/8SXXueU4Mzjh3UAw+83rVT9xcWIJ1KRLMhsYh/neETkN8KlcMBXAnzDjSdHwPNRT6yTuOA965Asq6mNGh14of+TnTbHJnasdxOVNLEHbkZyitOtlIWrEoWSfyeemV6xA0Fif6jJYQ1vl3zwSuzGMLbis9rsypHA2jffncBQFQ2lxjFksP10ciMLtbGzyGh1sKKKDydeNAFhYZdtpPGYNzbQKZTLBCEp0FXmLRCQzegPF3seza8N+nz9C6OBTwHQYIvNOs8kh38rQJhIn6WumXp0iI21udQXz5KFDLQ5MmTtistYtlEmA7jWD/qvXBwzCgu4n9Jsegdb0F3PD6TIPLDSt24fiDy+Bp8XFwoWq8wIdtFh546qJHVdn2qMdSzp+3izHHCg93ndUeS/CeEt2lk2MCcU38485GDcrFcqLpwzdr4dfIkZWM6dpAPKS9uKZ+gjkrZjUGKAVAD+babDtk9y6uYJ58fmfo6Hd/VN62ivgQAAASYBnyVqQn8AAAMBlx0/R0VQL2a2sAIU7caVtOLtBVsSTeNvh717VCn+iV+ilKKT6Sh9wurMZElJgcBu6RNQN4RkQkwZuKb3HH4OqOQBdNL+dx5cDPdSLnqhDzUgAUyJuIKlG0gAAaCBJfp4Ibkpv/W/ZCiWCn8rJEzWb2sWNcrt7MvKMr1qeGojivGkpagzT7vO7NyS5MNSxuHiGUtdtlLEBxn4ZNrz6QQPG654dEAZP7J904kfY+VvWRV5k2BGtIRy94aBQJLkWZnaUr7VpYIcAtRI5FiZKHdqnxzGrMG5Xeenk+VeOnYMnDUOM3ZycHylncBEqk2at4/14RjX8tZc8v8WHd72LfztWRh6ySmd3iV1OFgZBbj+zkhGDg8ugCnggGkDQ8EAAAKaQZspSeEOiZTAhf/+jLAAAAYB3bYA5htKERwMdPnne+ZLgM3KR+tLrZYBdeAE9Mtzcw1jf7fuBBbIeowYPv4jouyjdbd1owYL8jMtD86f7F3sQOMprIgFlvWLNP/2fWOApEgCDINOS4hln7I7ccktguoO5pJ6KQgWU99gY/y/4S5yGY8zsy95MruKDc2FHmWY/Q6dv9Mi1WuV8p2DPsEPeO4M8XoF7vmdz8caVbbMuPpb2zAH/kFzGqbDMWZleg4MDqELSuqeH6YMqikmdRxeVns22uoIkJTT7pf/9kY5+WVE6ua/BNLBNL0RsSYCYlEmSGPUtRQSSFtl6d4liODu7O3dtrHO+UwTxyP/eCTdlBbh23+BZPySa7XZkA/ham9NGWcA0eFGX1+srfuGVin0sJv/DgdFCOgPWFJreeQ+HeubHNdxQiHk6S/ADColUsJfkIyaKTBDxN50GxbYYPE5geX02F2+gfn1T56bIuzkvH3irhAUSpDcLPfpcrEVit3pJqHWPH49cAM5Tb3MMYkmy6ouioAQTx4tfneEYYW1KGYex9NQ07hm34b0bfJs58vfhc989dxosZo6CIBoJ+Fj93nq4cqzykOSQuUmzx5LL6xA3vFXvzEvgeI7xROqxb2Q8neJjJDbXViH2ZF/WYZV3MfIEocSfT/2hvLnmcc6A11Rsw/1vAz/x0tuKRYySv/E0mqKq0ogKxSYB/T/NfG35VFpvVXPCiMtGpdTamWWIh0kU4QXrCR9qs8TWA1OVr3sdr+B2Ayu7i0Xlr2aZuNeWN1seKaW3BkFmXNx84fZOC+SK7iD/Pdm8B1utCshpnsbd/xFlNglDK3OyKWKpI06msQTKBWX7sfJr1Bj/skwbwdfa4p2jk3OomZBAAABbEGfR0UVPCv/AAAGH7aun9iEMgR5wygBB6d+a1fkQKU5hsaxrTvNSAjaC0MKw2DldlFrzV4MLkiEhdu1WvgsNMX/rCxKjeje78NVfyhf37Nv0dHDTk0VWbuNmcl2I7lfyEklm3rSeODfTWB+yoHEbg7PLhg2M1Wj3WY4ygGZOgxKWdrtmRHbEJf24QWb5RRwQORIt+alAsawowgyxrliCuWLyvAAdfGxws39JT4ZI09MlDcpNWfrRAqqxaTcVT0HeSwlTIoPIjpbMHsdf/Rcg/lRF06+DFOFJJRw0Jnuh+GK0/qoPBRp+hyxD53e74jQwYtjUI5DScWdxWg+xzC6++H613mccM8D3+ab6VSsk17YeygkLJSHcuvCCqF1wj+1JUQFRcZZBTC3g1fJDGC5yEtxPJeWLdGo+WpkvA6KcoUeY0GPULQMYO/8QWMBu/V/r1rY/jFhhzr8efpY5toUj9JhJhJ+JYZSeK9bMWAAAAEeAZ9oakJ/AAADAYS8SVigDR7Q07GAAg1agtmAm8jaSTEg3tSZMMLmuskPKu9slbOAJfHnacJD7m5buWFcEJDwt33ILnBhsmpud2gsNmCp7CjLRP7zz7fQBHXGvvjh3YHhyFcaoxmyGAth7T5yyMrVI01+dqIvqvRstD+carLP1m3rAwsWLTP54sE7RCag8dPbe/PL1vqSsxtuvw+kMzoMDQuOVIG130mG9NuoWEW60um9E/MBzyqTp/vUonBLGJfAocCc2iz7KvfKDLxYx5qscUOlIpb6vjc47TkvB3PBqNnp44RFe93mDjK/ypf0fh+2t2KbiTb2VOmKD6gaiaKotefeZ4zvKoaszcJM8EAwc8CTl48dkiBjfB/WnesSsAAAAitBm2tJqEFomUwU8L/+jLAAAAXb8ugAlBLr+OWYJ0fOZa1IfDDE9Cl9D4llvBvdlWHfpl6OeHQC+WBRz7h+8iTwNbte1kcu6JgfULgxbxFFEGjeSa65k06A21Bx95n5vj190vPm9Py6v/PijPF5G0RUS8Q8zBbcwKxS7nqnJD5gaiBVdNY9Uz2YB41uxtcKIQ0tc2qRynhFyF6zmYsUqR3wHVjG8fJR9U8FjqlaNIpQzmAmrM6fDYHbYvJZsET0apDmfqfvgJg4D2mMY82h0Vnua6fmGq1sbK5HgY0mRCExPP+j5/hnBWglpMa2iUKy9AfGd9/q6VlFxQ0Ie0Sx0I/mgWuKUVIex/T0qK4Sg6rpttP1Z4bOxFtnpbeUfGa25M+AIO7P1wsOCZ0DbgKWTGu3e2qxS0hU01Bz/i82JhkzfCSn2CqK1C82cmpCUSZdrozFD8A24zyWELQLSqdUzTYRzfTAEYk65bdj6yB8ZQTrKQHBN60b5WPJQ38vpui1HRu7LZOEjlko7ptCSZkCsCT0CfLR4KDL8Il6+YhCAcdmf1mgblGOx0tWte6DS9nzYCu5dZOq8G2RgQx2NadMLnGTbmk0LZd4gYl3tWqVfOM3W88zlUeomwZc/3iKtUaOt5rdR038pTb7SfuGePYmYqOvclVEu+hGrPQEnAfdIGxo0xKW2z5UTX5nd4JY5mcXVx0CqCVM0Etx+Euz1NgQ2J3B9ygV7zzn+kYYUZUAAADHAZ+KakJ/AAADAYINjTLTdvICLiWmgfYFLlnKVN4AIbx/SsM9ze31zAyruh6l4qomV7x90oqMiTsrI59D22HKKe61/BEgAmDA3zykXKyV9Ms1PaCZzSkRX1zFQU0iWS+la2llv/Q+uPez/ExWQQ1abuvg4XRyYA8Fsiwaap0Le5vLmvZ3le/KUiCsqLPq4D8eUkOSMV9iuaNzn8+Bnn0Gi2TW8pahee7rkssIOEm11KKQlNQLI6s7FQ0E9hNPjT62XNohDqgyoAAAAYtBm49J4QpSZTAhf/6MsAAAHn8QEUhq9bLDJRIAjHkHRBMTt+bZFgm8SNdaXaEqCIFyRjU58SETe64OnDFHf5AIYiLpBpi20NVu5F7MhQWa0QD8Q4Oi/bvxcCtFlR1Zemfp+CvKXLstoY0ryohzBQcT0ELz+ZM+j5UWCJJowU1/zWZsJBFtf3HQFq4LR1MVEwO0/SB/MirfHDH4MsBejMAStYG7ETzpAEffnIwX+jspV+R0P2A7aMmnVferXjleciGlj2sjwviD26c3jtudZGDL5zvGPzWcS9n0o6pUn37onhqmutLAyObE352xr1L/m6yBSkciwqaVZiWgtWhH/Kp+cUVu2VxpZjwfoYQCti9gh6303ZoU4MmZfY28wNHb0bXJhD5bMCsvmegwiNx5KFwofdRjJ2R9nRvNTHCwO+KuXz8nGWwMQTYDCTBLseAA3fjZ7dp6QPpwbAOnGPVZ1AkhR9bEpJrM21kWQJeAAGwHnvcFygztzvZHWhS7SSf+eEfJd3lysKUXH4Xc3QAAAI1Bn61FNEwr/wAABnHQyseHwNUFrhoEgLKF8+TtuII4rWU7hh9kAAm60u9XP+3Wnn09bDs30W14auXl2j0SmnRXV5X636TklQAP//4fALakekSBi7788KApb90BOkSttXxUAOMRk486NNezDPKGb0+Wz8i1LYWzbUSBcp6DJ/Oooxj5LBLrxRn9i43lDUkAAACYAZ/MdEJ/AAADA4mrsGD3VKMSbb/vws+gSOFE0MgAQKH6trgFMotbXPnJD3v1PEHO3r49mYjNp5kUTcMJGK9wDfWfClGNhHK+bJMdnMa/p9gAnEkrgBZeO5UB21aaABB2cVHgyBfBpBI1BupYQe+95/Bg4p3yQMQIxfQv6FwU5MxAW+vZnsbcP9h0SpId9dQEvuvc+lmyQmcAAABLAZ/OakJ/AAAILtrTeNtEKiP8ph60FT8nLIAPmzPNNo00NNoqmguP+g5QCEBO+rna6k2UlrP+8HFWKncIUoJZ8Z8GNZVhtR3GAB6RAAABskGb00moQWiZTAhX//44QAAAdz1IczUwisIFhJkwAg84bjkr00e9Yzwh12OChdvK9Ypp51e85WWQbMF5WwendOxFQhbcQId4tMvbtQZER33DdCFoKqXzEdKFyDQrZC0k0+XpbPvhCfV+JkRZnJHmcst6ABxVFTjI62aDWPYMI9soNBbqTF/RCSgAgG88mtWgmBVrW5mMPnNFEEcLHyjoqB/dvZl0AirmpxfcuH8799TFfFkXCuMIKvsXT7lRKdB832X7/GzE1nwngriMawRQPyk13VprM2ME/eNiaBytf3nTd/bVX+knm1/Au1DE4Rd5UMt9yta7OcCo4lgiw+tluskgCWSChD2nvodyUf+/FNOFL0m8cx0O3MmTE1eMJezSSzn2jnIkHk2hFG0Qb8M9PEqkFkwgzUtT/sc8Y0Whb4+Mhy/vzesRUt4LNYyey8L0MyiefhxeaAu97D/AZDwB84K/lWISJVCbuTuyrfsdJLB+euGOyAvcmYxdbYVkDL3Emu9/O3PgFRnJVdkeXNjnIWYUwVJpfdn2XvSTUCuiUMMw95xEmc/TyY4/jrzuZ9VwhRugAAAA5UGf8UURLCv/AAAGcH++6i9RdG1eptMAX4SB8Yn17ddreYuPzJ2WrLkk9y3i8DQiSvHyA76g2nUVhLmrHL0jnbtsnNypPfGOQdB+vILALL1zoMqNwS4efTMPM1d90LM3pz5Nip1aDPoycxdeJj94dQxO2RUiti27JfqYB3+Eix5nHtqMp2/0VJS3UxpMio3K8/FHlCtoeElVmgBE1kg/LGzFc8yquzoDW/E1KjArtSnOsVx+T2jXT6qaSAvOrViHVObFyuT9mKYMOcvDWqZ0MaLRMkwLRMrx+FDONs1oMb6od6AAj4AAAACDAZ4QdEJ/AAAIK0nmBc0Pq/RED5vEGK7KP4AD+TR12gBCveP6qk83rRJjEaou53EbgVVu/w9WzYPlw3qKEMAJkqJ+aEISAXq9tS2IjfdmCYF2aRuKGJ2odzqIGnx87LTRuqLlXCMS6qW3FQmcim/6tT81tYroZOKjMrTvuaCXtewAAysAAADOAZ4SakJ/AAADA6Dqob5n3yueO8UgEa0Bb4iDOPoHeACcGGUjjRpGHcM8D4QZR/5JAzZ9bt4mJ2l7sYWkMcKvGZXvbPyl0awDpCWyUg8jE4yJTjJYwU9JuFSARHZ1RaSLIxEmEgPwE5QwyevdhFsj8cCggrXz8g/bexaUo96NW9jgFWVboLSFns2D9PMLB2mYELYayuL7OZQZnuarYAUo0SB5juMG53RrutR/tvaJ2OkQZtptEKhBbYox2xyQpeblXAfsReeoHIHSckcAPSAAAALMQZoVSahBbJlMFEwv//6MsAAAHdCisAR2tRbe+mkB7MVJD73rZvIfEXLDvh/VOEPBdoJ02NMyW5A9g3HWly6eonbxY67pHdqk3QhgH7Mjc0B8ney9sFzd9PU8+TgXEZLExFq8E19GLffIxaBfknrDmIsxx12QosnNIgR2EwuggC3XJCb3eVzaYGK2U/lePoEOuMY+V5canb7VgfBcpfWwpv7GZn09c9l7afWxTXZF4CO43P9IWuHGi9QIlAVJkUVU8GloUQclb7qdo2lSFos+s5Bwh5a/6IxzUvfSbrY0OR55uVgWos0rSiRS91DB3GR211W7YBDvdNhIqCJnyI2PSzHppOaJhovuIOuS38+pdhy6VOUSAQ/2po/uNpIXtf2qMIe7trTUaav/5igBvRFvTaljo+t6F8VvW+bIJlL9QVjzNbO6KVlwFjIj1LSE+q8yPmZzwU/gOCcFaKtHYf+806o/rLgFBG7cuRohIaNlbsk2KDq3Jl9YgPdUYX2rrJYOMQjT6iQLc/vpQgvo6ayl2TWps2XF+db6EpkchvA9OAQEO+z7mP5WJ3yRVruSEn8zcFhzZA1QCIVWFappZx/njb1aSQo011BUk4y6cfs7qpjDj6Qz6TYuhfCM/K8+1UZR/lmzC6mro2QZ7efF3+Q8hDbr/8rHlzGrHNl+WurN4fUlYXdHdFoQ+Enwi4qcr/dwpB3iCpAJkE3IHvESoYserQgW2i0RRXIIOxMDe7Jt10wn3TSOecdD2tbvjx4xE98nztU959z3t8/iRF78K+i/1qhb1ANZ1YJ1NsPrUhpuh1+A7T8uLzdqzN5fNHAxIve8IbDSNR9bdE9KihEZ8ir5P+EdBO6oiOvwKf9KkiM4jtI+AJsgVbjoUssZefISmZMgq2dylZaqinIpkcPFhlpUpWcE0sHk4XI6liSYjgPJAnuqZi4qHBivc0hiEbMAAAGOAZ40akJ/AAAH8eDYDzKhvQ3OGCwATUswSDSGWQjHmd6x6rIvEukdcp6q6aPtylm3s1IvGL4sf/RWMe8R9tZHby6WLSRBng31Tkc3G8dopSyAgvcSYmKHhYMeiiMq+WMOiyNqJ3Pzv4DVp093QmJIggmKWgdwtflW5JtTRmg0hAyXCMrqIuA7xJsS5ztHK5i6nAMz/4RSpZBFjcxvI37kkl5qmUiHvOmV1L/5z8G6kRj5vnman1rBQWGMuOIiqoQAeM+gpqmLS6WIIwMjoXgKzhY3+/WWwFGaVBEzMjLJT7vu7bQhTnnWPl2MLAXQLn4Zn3UPwLTvhtCQf2YCKxTk6grrfABog6wgzQrb3NTHNO0p1jydcbDf02+7rv2zHUlTIYqpnBk7bMDVPgn6d9QSlSvM+HqQz2Sjb6moxeH5pC5pOD4axVVMiBZsyg+gj+1Gb/rE/9up+LAJzzYwf3mll+aexICTM+5VHaMwnq7Wa+Nd69He4gqAXZEHBRqMup9PPfxek2NskwjD0JRSFVEAAAHjQZo2SeEKUmUwIX/+jLAAAA2nrd9eisAJasM03AUs9saafJtaEnTBCOJ6ngI6ZKW86i7LRGHC/V7C69gc7GVY/HF67ehLMkFEh0ZXce1U2DrDj8paWR3JchaWYV7Zc7qJMTIoNmoS45/u9e6kptTohmXGyfyavzWYhxnoXi2fiIKCS9UUPLOx7E4jdVLJHF5cO5u/CrLOWDdNk4Ekn7eUIDXu0No8zBa8eT2ClItYEpEaHSGMDXxi9UL1I3V7nJ7r0mJdzNhfk9E+RFNPhIsog2hpt445kCER86WCept7/hCbMTtO+a0fhlFwQPr2noX4Gad+SVgD8x80gVva/3D/tDwkM80qLEv0RG07yBlfa1ZZFlMKjs3dwg1Ys3/vWzHqFLNoUYqTFtesLftRBDlAt5WKrPYynAgXtSJZk5cqf5ZSEEHIqmYV1aV7CGsEHK048j2+YEiIHCPCVbupSuuakUXtTRfHt+UTAeOBJk433F4ukQxIYj+rsQJRVxJd/lNMp8EHcpg8Nj3uZ8p9af52PYnPCOGk0EqSH1EmlPs6MwQsOFEC8eLW8ScnT5ecEFa9fVW0R9ONbhGGWaCAPRqN6ammgk6veHgXEROOW6Tkn9d0AZVZ6ub7i1VY8lt6p4LjlLKAAAABoUGaV0nhDomUwIX//oywAAAGABq5Mk0kAB9GD6oGsygD42RdlaN6v3fAhXw4ET1I2KDoz8/sjvXDIXwAnaxzcLWPTrzo7X2+V1PzngUe0QpOlZ5sxHlXL3K/Wq56UNf7TdKaP5VaVexS2sgGOsnwdrPtu0AzVvk12hk8ToMpeugbqYbrMyWTJpBSnwOxR4yQqFvpt+IrRAJAiOb90s9UrhOk4CNvuvDKY2BsfsPTlU4wOmFt+g4cYMj2/YmhMiV/mPgmzmwx3AOdpdAM9GCkU3Rvz/RTtP7IpNYVrrMA8gGbwsDjd2rh6eQSBLAflYBfIuYYDJGhUcejV9w1xYcLDERdT/Xm8US4UfI36Tc4inI5rEKcCLBkh+EWzQ1bCZA1TqDY8GcRAkxHOjwmh+kC5tj6qfkmmG0LZAoOCBzIG63GdtHVWZBShhbLwG7iWBfNjz/NqtfEC1SBBchiG8Pp/oRXCS8vYhjGlwOvyaOgkm2lJC9caBkFHgi7XIZJA4fdPet8hHyvkFmuperWnhJPMt+VLTPMsOVj1ibD8H09HJJ0bQAAAatBmnhJ4Q8mUwIX//6MsAAABgAatK3uznJZOm16wBxOa3b2y8GDUl1pEtJXNZNyUA6dCrkKnDvNzLaCkAr5sMXaVXHbrwkcdT/XlKrQjhwPTWWxWrPKhujdRPiI7vetO4DuHRmUV3rDGtagu/0QB86agGcA0j9oyoSBTg8RAUsRVAI0wYATmkEpd/GK/62I8WVw50I5dNWXx4IH9Fi/T/e5xzsoPAw5KrWCg8cdRsvD4qtNC6qgBiPPmPcYewWTCaW8F8CwQyxLEbCwyxL1t5EnBLFerUHbFcP1ZDczMA9PHxP5+u6BBLNYcQ/cuRiq+AupzwY2WhDyMBKZC0vj/o09RHUvWWxM5F01WTGOA7zsxiZjaEupA3hoQfYaSLpzFiEwJAy2IwdOpUJkgI6T3ja8BsVJF6+mQ9KeFshJG7melqMgWpXw1jZhiy1FtYWfzSp2RJakREc5nGtPObo0q39kSeR2E5uBRpJQmekcAGjJR3TVp+UwP4P36EhZu0AK+U2WJMKDQeEoqB6RqQRW8Vjn1hiDV89qy0rb9zowzAQ9iPpQUY548ViB1n3hAAABykGamUnhDyZTAhX//jhAAAAXNGDQV40XsXsu6kTgGrzaSLSzgrijHWcKNdOOCcoEQC5pQHS0nUzKQS+p1v/ug4ic9KaMhWmHaAysY0JX1ZF2OOENsuX1WRjUXz5k43JUCgj2TSiTqHiKiB37cTOfTSnq+tLXJukd04RHqaKqdlrBmF/GruVmrdjWS0KoRLhpoiagwG9gNREClIW7Lkmi+rBitZpQ0eoMKDRfRnVlapyeZzMOCNP3sZOS0EfU0mE592KYU4aHNdvOYw2Mxj6l46GeB8jkQJkfSFhL/9ezXVYM2zWoQf5Xt5RaYXpKPU3pGQT0gK9PdgL71YbJotCnNZbkHk2bYNfoE3HwqLidkzMf+yqTyNIFAUMQjrUuqI3w+5r+C4CmJdHEBBxYkPsuQLV1g3IAgkqYhZWLt0vv5r7nfj4zleXtdBwWdG5HVLNAfkOJK013Bmdq/GZOE+VRfE5iWAFcvUsPVNTjpEGJqKK1SJ7fgQk+BTZsdJWEEnwxtDe+Pabgvrv+q2EHcIawKNA5BCcd0wlV4a5nLSEtiziyi4siOWkgatBRkThGPSQwUnNUgDa+Gm7qeA3XZLEYmX9FjD8fMppoXFNYAAACRkGavUnhDyZTAhP//fEAAAMBHuibY37VLBggFBsu98jV+4fnZ6/RSUOd/Iwb+eM5bXkHAPrnYlbEIN6A6q+rry8KaJcmGq9newEQTyvOG64vA41JplrZZTde4/IuUpdKUjQnTHLmAVVfa7paiF9oF8ytLSFwMZZYx/HvTnTHt3OA+oO3YnouFxGGx6UuzqrjPqBaIa2+h7iKrvQSPos+0oEvTr+COYlgw55BgN6VcI4ub8jfgV5pDPLr4jXQBPY9UngABheUOaF2b5UtWIdLA3metBaeTgCSJD/43Uw9kODCqi0Rmby4DnX149Hc/tmD42AZ3e/pISBXORxo8vnwjZXX7OwpVIUeVKTA+MLzZi3UPnLsHOErgGtp3IzjAm0yTja6yUt4SRKTHD+l5iEiL9G6ACR8kMN9xczbqe+m6sY5+wr0oOwIvAiqELGfLKqvHTnnHP5Gr4clmrEgZccsGmEfLzTqo+oynVvr3Mj+3SXsRYEdWFfHhL7DV0V57WGuHgqzvi5UK2Jt6yMi1+1vyc3RH0v6Z2hsUMORk1z3WvUyilBv8uzlb+9LbpZyGthRi1mWJNs5qLK9wbVibcWq5mxg1Jrok2l14E8O+8rvjcUdSwYZQa40oHTi7wLdFWII0PmLhn7uby+kUHWzufP8Lwr4QWIWzNiZeFAYYblRpw4bzFhz6wv6DtGtL69zYC8p9O1Tp+3+oYBBmwiKz1LfxNHMiRse2Ua/ZuOyh07cKg2qY0vuwhciRqDAdk8+8/2TCAi4eLGh/wAAAjBBnttFETwr/wAABknQzBbYC1FX0Wek/kKEALeOl22B5UQxJKT5eMQ2NWahe0unpu4x7zHbZE8PCAjdewbGQ2a8Ej2z/8Sy304JjeXIKT4jnN6sn8EsrPtiTqkimtHSPRdaXo0SvHZ2rg0l9jg1x9+qPn0xH1SAVju698dHeZ7pvGfm1iZ2MOYhFmVhPNx1EiQpJ9jtQ62O+lKX7fe5sH+N5d63yZByMDgmG6RGbv2+FEQkE2aPyegczuhL6DjNqaPmYzRtZivDXqO5pvbwoEgP6hp2IxPEmWjqJ53PTl6cy9+w0ejJYwMEGCzw/yXhtR6s6W1n5OXJZCg1W1yWpEk9xWgGip6RuresuxmnMPGr6HbzyzmdSiuRAlbWZIwZw64IsrhQywqgXyTO7BtaSNMcewlIdljDK8x77eRu4MJnLQ9T2V+Q8ePBe3ElBP/Niw0GX9r6XpSn8xpySjEJzU67SGiZMzao+hv1HlAIkGaXyZ5KbJTHiuf4G+aL4R1aC3bSmJB03ip5wS2L0CZ5t19M9qGY7w2tEeMgOoUMLGk6UTw2Nj/jme2ynECMVMpkjGTzZxUxahl3L/BDwXclI0urZdeiOURZFuvlQQQtV+Unp7N0CY7Ib83Z2GDkcvRqyuYZG27d4fknF2a0EFgeOdm17AOsh8R7jPkBagPmth6hY+wKad4H4R553EaKPKwV78K/8WZWsoGM/g/LiRL5Q35MRUjDNmoXm5iRHKJ0jdQGPAAAAYMBnvp0Qn8AAAMBppKlh4Yk7HOgAbUZXVYwLnfMdC+hp25w4So6jdIERfuX1Ld+33QmXFEm6qx20P6X837rY3t12GngQAA5ATnVXAs3AwJD4ewrCwsE/yg4eHiBWVD/1ecrLuvAeX9fb2IWXdcmB1j96RoKPLFukliRBbS3+UyEQK5txvh91aPiJaPdi1+BoSQOsSrag7hK7xgUXXBohPIp7IUkf2Ldxi19kwXjsVGs7jcUHGJ/jdrRfEWLSjguiVx7oCoyWIwBGHmVoTFLalb5tUpft5maZCk3G9nK9qRV9lCTdEbnmmb8932v+CbKUmQ9AyhlulGUQLD2LIZI6PqFbIFpdvRkO5seuEoePvSYtdgsobbcHNYNG6Oyv8Cd6PSL4L6Z0+iFpdIHnC3x9r/H42DfAiM1rS6XLuXHH0prpmBMUlpjCCkGnVPirPCDbAsRCV4ig35lI+04XKBP8XIHwnlXAImaFbLYUCp/y6BvKzrnkLZOYqGeT0wYS2hHxjqul3EAAAEMAZ78akJ/AAAH3J23MbvyGO5r/sQb1Kq6jugAA4ogozHH+aZBnHpjS020zUE+GBgn6fT2A5Ur4nhh2i601ZkWGFB+r5Ufh4pLE9rtfGZdk8cIVxbKllUW9tjFrgIUnsXje4NJDa55mveGyBov9yVHRNFMN/up9wTgC1tZw4JUxQcOse3u6lFgQWDbJ19v6xy7nNBluwpJDuIV/X9gA1x53/fVwdyVxooTUM2cE7F8V04UCVg99ZA2tBSpv7gh6s2haPGfkW/YNjKi/L2yxs1zAPaE6xXFOYjHskq8or1DHyqA3BepVkzIdvixWd2eNryOIy2pHIPrG8ZBJFiI48lK3rNqHx20Zl23OpgXcQAAAeJBmv5JqEFomUwIT//98QAAAwEdxctFlQYN3sCAUk6niDZSjm8wReQ2spsAmLYkKdifKIfcC3EsE8j3igqC+r+io4S2Ra06HRHm1JTtPIGSCShR9+9JzhzZJIJPqiCgMjYf/r9I0jfzKFlsU6zpf0k+lMsSvfT9hkszFsfohXXZXLfQagcGpc0GZwo57EutmYHhePrNkldAU4SnbYe7kfKpSjB+L8femSoQ/ufgsHUl35fiobafVo/CFcmv44+74Evskc+44CeZswV8cbH1G6WEjG53t0FO0mSiuErAeOOiamv41DIZzzCXF/9VuOZkz9c+6fkXUjwjimeiMVqGCHo/C3zbMgT4lu85UXPY5snDgIPeUd5LoXrG/hc35z/p7434wpFlnNsuyM/uCBQxL3TZxO5wsVNnkGslYKmKtyBK3sp71l35HZMERJhTQpWxvfr9UkZzlgY3JI/UQnNruLeuFPzBmSshQt+NpKjo3VhnRr+/zw8Zf0Q2hZPL28E+lpzdAx2DEVVck1n6C5s48N9+b065tybBvCGsb+UBZ7fwT/kHefvCMXgC5pI4C8j9D2zpN8kjE6bHOZUG639tTZ9oNg1SiyJn84wOAwSVfiQyIs1yzZER0DkMaHMnR3AKK0OdwAAAAadBmx9J4QpSZTAhX/44QAAAiysAgdT2ADg5t5vG9bDLpxWDYb3Ffq5vqXKSkrC94X2z8Xkn0WwXfclfDA4bmSzTmz7pihEYcVXgRfDZsMh3YeUFfJutc+9h2d52f8t6sBuN8wEnCudFoCnThqOpxFmwnINDdvsH5D7ztoSIXVgmOPMqyjqQM1xpQ9VOT8qcBgDD+LyW+QNdQCnFc/5RoJKBiuVdEb0E+xCs1cAd0JXtqkhuOJBZvh6azzC5NI1WOy9/vGYg1OieOinm9iR9ZOkAHWJjcSvDvAtP23pwppdxmV3Cy5tRnLqxYi1epnK3+fTRWQnCEv1LQRf/APcQ60bTyIlFTbepUflAhf6VTFNTFCe7SNQSwTfJxdf+NsWxymsgjm2N33ccAcxKJminMjiWfWYluoU/AOJVqjjoDQH5rrxFshYvNKuuN06qCBDpQLPjoaAEFvq0vgK0BsZST38PX3sld7R/VITYLs0U60BRDnAhB4BagP4aepoiZrlS5b//5yfkeybLkrCaP4u8kD7K9iRjslNDDQrjHzrbw3BVtrOTG8H8l6kAAAJ5QZsjSeEOiZTAhX/+OEAAAtVnHQBfin0ckU8301MNFtyxDctcp5ZIb7oedmtXXmet9gd5nhj1ijyp66RlucJ/iMcr2P+192g4L9oswX+Sbndk0kFlNnOIpr2wDarnriulnzF0lxhOHqzzFWwwgclXIMCFdOshFrvqeuHDASDGcsMEpnJSOYs+8NB1WM4jUsRf1ILfZ9BUFHtIuAKeuBJGXcSoUW8pZyFoUk1J8QiBlMeKzdc6eTllPsmAHMe5TipXFgtnUugvijtbp0//eOrmA2LlS8z2HE6XXVB8qRCpRz/QyiZ6wdZ5z/cb0t0EQeQCIEqO+b8Vk9gahAYwowqPXHMVy0ec76IhKbNOYbBrdolVNXTGKGF2YPtni7cWYFOebaatKdroDJel9IxfCC0G+MT7OMdgzARBzaJMeJsyWbZ87dWKi3jlUverMSmpxoj/fqUnKAnzy6JWU/Dw0J5tKbbaos7mukYiUunaKwYfA95Aba1r7pbni7vyz3lSYX3eABPvsBvix7JaaHK7ySXvuP6OccC3WKWNP7oaimBdUANTBeXF9EDPDqsn13GfRrTnes9KO7wh9CxbfPJdN5S27GkQF+c2JIVPPIziGRKW3P4JXMjvEJiHI6grraWsJRXpxAL15fjMkSgcwK0X9Dr1fi/yrtoKGRjYv/6bR7sD0QyA0kLnGPyKdO8yMeBqlnFZtwgYh19VdDgCyAUlP+QN50I6//PAPj+GHdLXMdRc4+xDuJrQbw1HPX2Z7Q0PIlmmYhIQchayIwy6RaEQkeZyH+amAF/+NFGrnrKjdKRi/zWzWBTu6nOCdNeAYdS6hrlrpCluBT+C0AVdAAAA1kGfQUURPCv/AAAmuu5Ucn0SqJYA/dChch5Q24gAmAf1FZGv6GEe54wBe94N2ehoiTNlxwx1666fmrfjN+vP7zFas2gmZmehCNrsO7rMkzIAgdGCyB/ohtXT9jf8Dle3Mkku2j4C1rP9pMJvo8O0gSgVnXgYDICeHrqRXZ1I6Y38Tmk8NrwanufrxXXjwu3Kz4gbSw+FcSinklUwFbvyDLj95N7ENqQqGaUSA+x4oaoJuugQWbkB07/g4IQJVJLFL3sAyn6lZHy/iHyeXA26F3lEUMSAC7gAAACTAZ9gdEJ/AAAWK45v/rENubZ5ftdKgLVK3J8gAOCdmx+Nm+dG9NecHn9vA/UX/CNOyJbRE/xA3dJI5m52n4UqOFHJEDgwAbh32qgvXeudUZcpzJBFo0FC7qsagxL0jA4yX6lZJOke2eYKtmyumXlLilJWHCCd17PsvE+6q7sauruC0sUro9HuGsyyfIj43XynYBvRAAAAaAGfYmpCfwAAMj8NeKoMvqjAAcU8AXwbbN+pdaO/b52kXpTTqm9JO7Vyc47M6u9+zQXFdP30nwywKbXmmEMvEB8U/nReFdVwf33u1nMXYVEG8F/dbSHHLmV+B/Iq47/Yt67hcOU1AMeAAAAAjkGbZkmoQWiZTAhX//44QAAC1d7UCnz3Y7C/GVFsGp7VyEFMRj9ZS+4DWF2n+pZMUC8Tsm3gZRHKkFRvyrT2SC/8rEv74nFM9oe8CbPGHJJmGm4PGzCOLoP0IkMRixScn9dey9i6Tt5PAqFlYSl3dvaiVZVYmLLdHOtWyYtj1OwsUl4Av31D8xjw2MCADPkAAABOQZ+ERREsK/8AACa64dlbyqACBNnhcrL6FeAsVM/FO2yWdU5AV78ncBIH18ujgVTx0kx38jdxi4JLfjVhcJLWVrZmIYZU2pwQ9za4gGLBAAAAUgGfpWpCfwAAMj750r8JH1p9I/PYzsyszUwVQwNOH1BgBEr91bXzAyTAGiE5VwA3gJgMVKU5Zcye4HTsd9D2TalJNonnaemYCtzbLoVKHHEANmEAAAHLQZuqSahBbJlMCFf//jhAAAE/9rZSro/XYvIp+4WuzjX1PS+2iPeNj0gUdg4g+65bztbQcDdakhxoTHSrGGQFKPBmiqkoU/2djRb9lVqY+76W6+lSNS/Y6VYO7K46VgkoB69pEKKtCQC0y1VmsnZ+7hlewVHCJocxDrw4qDs4Hy2rAAEdmSiIRvuXfcGaG+JjMLFAH8eAbQw0j/9yuuJGiD60FNMp8CSZhgXBsGu/qfiGoPpaSbqK2ovJabQIZnX8fdeFrzfW15A2SLxXrLRrG/pYzIll9Lu7hzjidaAyVxW7dTA3IhMpG8KmVzcpvV7hYs6KTVO2r2mJR9iiV+sQ72d8WvrJMAdsdnwKcKn2+IXYdjqlDQv1IaXCIH88UDu5HLTE42fF9OMWG8mSvDA18dnl9XPRqiA5r6s9clhBtO/SAJoNm7o2uR4smh8k/sMtpTgDA+OFKpJB0tDoov9VH+w2mlLHTRs0mCOa4cg2Q8yObeo5qOMYP91Ii82FHIkw6is0Q+ZAxqAg1KypYuVTFLJYDDMI5S96o9F6ogETQ9y26xV3pRr+snu9soMNwUtYsTTHVSeBj9wV8694GY9duXAJ3+qvK0guGAPTAAAB6EGfyEUVLCv/AAAQ2QnI/IUpNQD9KCQoGgA1mlsG5H0CKUCcq/pJ0mHtqXxSKjji/LvkOJ2AZDad7LFonMtmqwDXCC3hhnmYNEQPzJg990dMiFr8W+rHtYXEtM3gN2glq2FoxWN67XCG8p28+lAkAo4i9TZkTAQywPzY6878p+RnfTTO9jZoz5ww9DJx1q8c38TEuSOBtGMyaWIBjPXsawdm5QrXLB7vZBZ9GMze5sC+aoqb15pmPue8CVNXvAQ+gyul94czQ9sir9/2OGx2dICJh2vvv9QS82PUbnEZ4325t4eKMA0Wk4sEF34euNZENU+5jFcQ5pipIjerd791a+NeGJh96rtkYcfawugHNgVNCVT50HYXea7OdffGA6r3i04+f5VfcAlbpEqbAgo1Ui5Iks+TlL/mapClMQWCL3SaJvpepVIsTVYo1Ej9Jcbwn7vNG1nSGuaTsAJ2ozcqWYCNAddimywCMjQrzaM+RDV7gnbU2UAAffFluhpn9Bfad1f8Y/tDr5QnzheGbb7bFKxicqHPwh6SdM4D6HNJSrFvVY15ztIm7kApc8ah7EFG1QQCOzbMMUZfuN5reOBohl4DCAmEhTJO5uO3Wxh6skr2u/AOU/MDFhf1eiRo7x3W0DSn9SO0APSAAAAA/QGf53RCfwAAFiuFK1XfNlRStHNj8YLC+1oothRXbFNABZ7gB71iccWrfwlXy9LJ3ax6USDquFqNlMakvfvYftsOS/V3BcMmJZMSUlq/V7q8228qVk0DoQWTKP6aWfAQ3ikjg6JIUC23vkoDbarMmagvA24DXTwR4y2bG8+xlmj8Eo3/QtODcb7nujiTVFKiGKk9WZcZ2rvZwrPHqoNY1mPvkhBCU4UR16ENexxC4/SaZRR2T2oN8Vow3RcN/M5SbZN4/6x0aDomkohnMVw9CDOlsIKf5T9MBmACwqHEECEyv6XvY/QN2hcDE/5JQORLkRqVC0p0QjFJbMslAWUAAADlAZ/pakJ/AAAJ6ncBnot1jDHRIjWpjbp12fBbS8vBATmFfeapNwxp/xR3YKg4c0+ABswSv5WCxb/HLdbwKil45bbufcw+pojmER3FO/GQ+6iQIkoxqusVvAMDU5GgzOImIDqIGUhJI5fxwHyDfVKG2ZYcb38PlqbsRpNPNTBfH1ENHOvjx7q18N6ww1zKsFUVON1SkjhuC7zN1nonNxew/nyfSwrwlS7SLviTrkQmYFQurp3ggzdZ10amaUQLYMlbZIl+BkQ8guFeyM6xS2v47pD7rU2SFh6us/2ISloz0k9ytuAOWQAAAyBBm+1JqEFsmUwIT//98QAAAwElAn9u8rsQgkP9csgIqDMCB9lyYA3o6BIzQpvixtm9+Ds/ZWIYl+bTmPCfC0gt6Szpl0siklVwObmlXOsc33CFaND6c5YoT3SGB3YPxhBrzPI+xR6w1LnUN5jrO6Fx58rH49fVx7Zd0X4HUEa4I+iM9oA15S0Mpvv38AQpj36KoIKGEln0D2OuOfmmhqxisjMgzP4qrCRCdLexwRqfBW05ETdYpbeZ0cxaUYo7J+g62Wph+S5UP45WawDpHVVIU7DFJ31oaine+wscmaBAsJ5duuvtMEI2jpWNiubLOTuW9pNUboGAElMAbP4nmo3O/tIhJOVe7yLpNytwvdrwPfai0XPxX4Hu/duPvyJXOVfDCe5nf2+SHEujhDDQHtKtnlxh0gIq8Naw0TS834fhajJWa9SjTvMsi/p8bK1pSQm63IpzMgFmLNyVQT1CvPu8twZhHdLbMi4Pa7mRNMJdmkdqfXtgQ1Kw+NsV/pF2KKqS4N0cgcFn6cadyU8lrHAAeuc+u1DoJrbhDTyVVHAipPcUJ90k+wwVw3R9YVG061+AVzRwC/YyKqPhf6MEqvfQHTY2H8Z9mEeE/I2T/DF4sPMVGtssGnATlotNwRsP5avk+MAWRQeid8QdscnYfHwlQY7VVJFOJWTMu0LpZs7xu19l4tRrQAHqmhFaRtx9uuVXdwscBIjS3ZXLLH8nKQEvCgGldjhIp6iiN2TaXd8cgCQrmZQsYOHs33YzD9cL10Sx5hmS6qG5gRFc56zSzYnznTeSizZOqOQiutGc1JNWemnsJPeIQe8hD02lOjFW8Xb3iaQbEaUQPlbGIotPcuhng7pknT2gQYs9JryRVlpsGOgYCIoSrmwCh0Br8lbLpgPJ6Vr+yz8LacXUUVtaJDxmjToxpVw14vmspbnXAUhsJFRNR6YOxXcgmjCOVxuOF1hDti6hInchUw9/z0/UWPppdmynE6EqoKJXqD+SzJF0CfOSFp5aUeCa8FU7/mTU5uuto9mnImgwyPXMxzxuky6eZSJXDWbTErQzNCNkTEwKoAAAAetBngtFFSwn/wAACC7a08eudklYEFQIByAE1S5iNfswtRcBbokvwnEVb0NO2yeLOGngjWECnbeAxMu+t11Qpqj+9GKampGXi4bhejYRXkDCzQ2jHBuB5w5yhndgwW+PPZYE3xUiKmg2CbCjOYUrSWzXWZ+K7YUOxLI77YYcImyOkD7YKyxhpvzpk6jL3WJLIrhuwsP3kMVfU3vcfMS16/4vOH56s3ciDh0jW+delPitHBkAZbCenE089fmTvBedsTU82U+X5ZsgWlq/02wSBaIzmKJW7xpc4DUtH3WO/ZlbD80OUv/5WMUrmoSiceBFOnobZ7haSmt1WwByjq4fNXN0OL4TEIH0nxsuvpxdxqf6MfFu8eD2WFlZKJNF9t5QbtsFXYhbNMt48ql+V9Y7O5QoQOao4c/xXpTLkYkP7pEkivI3MwpEm6pcu8UZTvo5Czp5xCNEYjuWyla+itEKGSyY6kzt3Yme0sBiyWkOPF+4/FRG0fT4e9UD4ok4U5OuseY8xQzMbay5lCjE7+tb2d5Q4JNv8cRj73EoB9SHZjFAlr2NEU/r5jkqpdGWb6mgiByXlP03L4VAUsCYrwMkYoym7GO88bR9QHM2lp+n3j7yMVcpJjJEVh9nHNQtNJmKbcRH/cfRm132lwl5UwAAAYMBnixqQn8AAAgr1PzlAAPyg2s6a8vw4wQdvF2WKGfiWDdOMbUieL457fqLMnmuc3OlKZ8887QGIQP7ttOibdS5Lve4qQhWPfk60DUFoL9kkXkbDOtCRizpuFvs3LsFJZCCD+RNjjsGOTq7n+fsdpgbM++ylVqLxlfSgaiSGdnI3ScJ5wmnDSTeUbVH2e7QfgkFhMRNvhnSMstozL+NK4E+hEk4LIWtxxsAlFHOi0MRXLkBQDxQucr1tLwGF6a6B1E/Zd1QAQEGJ+mBRuBmjtEHhcehtJYArKhmxH2yePWRyOOgroCd+3yxGDSce6Cvc9f5lUFnoItxlKzf9JZsFEZ0CgAUgQapH0RqAutTddI4941zsKClZI2PP9n4fdwz+xxiHd+WdhrHIwIV5HNpYe8APrqOndHBXi/TcdvJRPxr5KoVVlvaZpEy1z8NuztJYrtE5p8XFAxktiQoTW5dDih4J80IKH5x0L7OmSyEZJKGwJVkIf/bE14bsP/fJ3d4cSjALSEAAAIuQZouSahBbJlMCE///fEAAAMBJuibWY1VO/27mmWWSBvVAho10QI7ds7OlyPoYAIaoZBzJ1jsSrSceIb8t/SjFlj3W5NiRh/Ng5OpgZsWGcO67ux2fUJgUYkBjqnN5Uo5Rqy6zcHGqgzzQDBUMYqPpU0IcgrvGvV5fC5JrRXG3Y2was4XfaF6fqF2DVDBApY44+BbP7VrVVQqNHg0EnDCxsttv3QIyGashPNGm1pHdhSOwSVDwQuJGjDRZTmU8fg4+w7J9arA0weAq2GctHRyYE6E4hD3CONw+aJzUbEPvyzwIDSu/ewNU715SGs70nmzSo2vblOaxSUby2v62uLsXeIS0gkq02o3vj7KmWWoCrXkeXtA+Y/C7L1hlU8CTc3Nf8UiMR+8+QZKYuPb9ENqX3LdLtrrPOrgpBgz7cP3vqztZjke4sHQ1Hs5M7ZVEQ+A8V7CdRbMQmH3L6iBFDFbrIICFz9tBsnKTmSZwSFJ7j22hy75PW3Ls0eQkFoqZy0LQzm3Ri9rNDH3q69w1G/HL3sE46nBIJZaQJKlTjuNx2mCpR9fupFI+gdWFHu/ZAJsyH1P+s69YPg+aZsBktrzBIm0L+USXtcDFBbafCTIa4EvEhzjq1pg3VIzYjmm52gtjYIj8Spm4eR2f1guP2sk+DPyEdV9OpOYb8VlPxWpsOEuRWghlBj/l06e2tNWXs75kkYYZicD9l8XAboJWRC3yDZYkvsBw6v1aK/6KPTBAAABpUGaT0nhClJlMCE//fEAAAMAf0T/tCEfvmAATS3AE2MY4Xwcn6pDzx9hHbQ2DiMqXRLshRPmQnZrkOkRs7FP///JQSq4lrZsXzk+oMjkrPIXNrvJhl1p7zb/hPOX7AHuXSF7aQox5hX70CLYUWmSdRYt6fD9Tnj+NPzEq3fY7+gMn7O8TxvbABZqJiTASS+2zbCApPSj7/bfyCtgGhvaqcrbZgbduUUNB+7420kC0PJ2vFIbW1v9Xg0ghM4NzgCysxXf688asmMXFvExhn9eMcR+Ru9yjUrYK8bQlbPIqGwYwLY2LjbDz+UYM/SEUuyvF9Q3w0ArvNKoITRrsiwNCx1dOgnbQY8RipB4U9MiCZDWvb3BFB732lUWzMeaLGxA4zGCyfyB4N8HSRGPW4W/xnvpsUPZFQmSa9xdkkirnrJCO3efXOThkXCu/MuPUas5ec5WSZsp4oULbAydik8PLT3Axs1VjsD7kbdy2tTeGb4KolEOtqE3d16gmnvNTz2+i45YYMINmjXlqiJ0xy+Rv+7OzFaYT59AlzU+dAHmh8ooFrBYF80AAAIrQZpwSeEOiZTAhP/98QAAAwB/fTZM+LcrQAXQVfSVVLLWtit/GC3DrI/0yhmIqryVU07jspbOxfRcxXjgc7bBt489Yc9gLe/trhlTaW1KxiA4LJViQq1gs3IOQDBSeHVCv0g39DJZggetgwbIusqMLiylH6uQWk8ISR29HXtNwzv4E+erhuhO4EAt2FOGHUp59V9xcHU32pN+7JZg7wMM+ZFcGICf3kqR5X6z6h0z5hWi3CxKsv3SCKRJpLVR8kkFS7nkdOOK/vwIvKB+dcXyVoknMwxWi8B/PU5yjlqajB5u5fhyY+nbDPbsdkIfpFBXQ9/MA6Nz6IVp2Oj2pEMaoU5VTau3S7nytQDj+lC5g0rMt2YFCYIB8qZ5/9M1GHi1bakIgGg8VnxTDkCqRRxY2HXZpH5xOGf+MspwHaB5YjXOMqi6ZUTzeB2GEQg6gDYAgdU3ZvgGn0FPkYvzK4oe6M3vCq+v45rAr+1jTtZ/1AdU2uYEgJgn0JGjjweyLzyW7AuANq1Tlqr9pTkBR5B3iWDCPBIRAPcbvUtadSCnAO6qDKmBcbeYqB88HPcTPH4nmB5+WD72DubPYr72rPrz/GOtaqMDajN3no4ygSpKl3CFX1OjkSH0fogpHbJJ0NAK/BX0LYg2Jg6jbckj0JCVWgOXrzUS4huvwfmWUKPEcCug7V/tKjH/ToO5ExMVBxIhMgFKXghXcnCfDoILVdKfCTq/DFM+T5Ajo8WAAAACdEGakUnhDyZTAhX//jhAAAA0+quB8IhAEPgErMWM/O71pmsr2P7lb3wRgND3Z3WEBaDf/R7Y0lKTFbRQa4xRJt7s/rvo7U8ugf3VvTtnqet2Dau/2X+pgFAEvsz7S1wF+xg6keVOSDRejZxIlgUzeliPSmul6/bXy6bevpUq9vS3/0o2Z6QkZYeh0NbvcWCs/HuRIVtjoaMzP3NqL7MrdsTtzDNutPUz3su2R7Wa19s6SESQs/oHlPIoFD8kq5fuXxoxLITUYrTwGEFpOTeQsXykSxKBFz+nkRM+IZ7NaRHe+MBoGJT6xc+C/hd0FJ2nSHy23LssCuybb/RhwrXQQ/HMXv8slh2nBRdflrE4VTEfFwp99vg+mmlBtV+W2cWI6bTIIlk3a7cKpTMvy34lYVMB5wsOVVyGq+0+0CZG12qz2wzEo9DeKPGsgfWUOK/tCHZeQFXZshD6H8mbOml8q/b5qrm+ci12/i72+LL7dL9mkPb2FSRQ8q2yndOw9hPmYKVds53Gt6MHxTJJOi2KEx8n9oI2CQMVUOPBFLbd9b/eg1CLFKekaTpThtTZBfQXuKs0orZczHFhVxFnigioJuoilIGlq4XnadpscnQ7moIJ5B8JlBCQfO1JviElhf2v18GlwhMSqr5IovwrbXmHoDXvkQBxHhfmLiUS2kXKgCTPhsViJcuQCKTGpkhYxNCt8gfpnmR1aoYN8ifJjzD1Bslr+gvucVr0EJVQZChmYkuc5JDfyq8wpfvNFz9/k7uOHq9FEPJzyuhqQVqceL3660Ws8pbEAMlyW8Nnxdy6s2acWXW3QGY5apPkx1hPjnnyfc7Of4AAAAH1QZqySeEPJlMCFf/+OEAAABY0p42w6UQAQYlv0PkRXPpskgySlm0O60uQVdT8Cc4++Lb/aQ4bOywpytOsgUJaqoH51h9yNd5FHpAPiky2co+hQcRx7GVSspyir0N8WIIJ8Bkxck9hPz/f32Lg0MVU+Z/0D3/86BWBPfi9VkvrTb7sRTOL7/bzzDhhaPbzWq/Kq5ztSSS6JKP1ZuRib115QFSgjIm923+8g2dfQf0mgDR0oEsWZZFURKUh9SbHR7xSUmyAZKcVpmW9JqXXEcPLmdH3OPAWjtNbR3egFMHYtzaWwoOSZjHAjYDSMqBr/3entICZY4khUEG0cfF9NyUthJC3pW7sOeSnTCRc0irXREaAZStnb56YxUNoc/FSBwHBrWmB2bxCcfCXebMMIUNCAQgSvrnaNtAqjzDraRctg9pzNFtIeyRFcYhNmycq/f5b8QBNeLNALS0pvn4jy+JtMW9xEWodQqNLGVb1uQZ/W5PDFr4q5+PiKxMLmpgJnLmng7Sladx5Mqu1oNSnNMaisQ9ZSOKYpzksJW3RQQFJi+tvL10rhr3nFbpDvifaDIi82YeOFjaOb8rEUGimYmWjLbPn9NrhQNvDaJzklZk+WN2yqw3IuML7ads8YTzY38VGmobBeK6y6BevE7WCvBq7KfPg7FJBAAABTUGa1EnhDyZTBRE8M//+nhAAAA2PCdG5wWyXMALePYuRqAFaZbttXpR55yb166GhgqRnkzGGE4zduj5zR0VS2zXiZmAR19DKHDF+Dl/lkH/080K0HFjr4KkhFtiOP+3rVIXexlW/2671M12Q9FezYlyWQh4SipIF4kVBDIJ3Uu/MQspWsUuBWdZjx5zFCV2ymfm/MJkai0lvzNlDD+dM836VEQVGuBXNNr/B6fHO4ikoee/Fs8lb7khsKsuSVTkXXtBhR97NaZB7lZ4y1DFHtwSt5/qw6UlJzZd96R4+aHbh/EymQDFzMAUo0EBeFLvhRMhCGZoFTutpTmO1qKzF0/dTxXcMVYBilc1Q0VukY+4HxUvz7J9pCmDb+LD9ltemLNudw+m+FmGPfpGW3fVsFAuwwBs1Pf6IQgKXcTF1j+8uMoUv8w8db+FrSSuEjAAAAbEBnvNqQn8AAAMDoM5B/eDAZugAfs8cOsphJw1iQ0DOIXOrJs/xZv/G47svu1gVvt5qdO26NYCh+V3FM3CiDDlYEvegqN80PBJ8etSwq0sfD9aPxpuxv2An63vdovV2bxZ2CVyOuXjjiMR1k4UU/nmgC+kYOVsF03dT/aOg2V0eN10QQ/Q8aYo9xEDEybibWrp26X8rcU725lCunL3tI35gBR+hJ3pw87a+tiN54yYfXr/ge3PYnN9r/ilmDkuhOFmOnttBGu5jw1MzoUJ2NmCxAouutTPe+rtru9dAA13lwShictj5rQcgr82du01hMOfw9qqTsOP4OJfrpAY7UVuTwbDiZ9xoUX/HhB1zPyn0dvlvcSQ+sXh1ZY2ckDodIin6YRPKapOGde9SZkiapnOCkOtU5jAWFB733ZcD/OI9Mm4PNwAeiOND2D6ffSq+UQV9O6nLu5lEm+oFVw8B/u4wFd7sz6xHcfE0RjkDU9gyrFK2EZvjDlBOfpBhjjg3EJPbgITHZo30H01CuVVImW1CikNJxsA7ykO5gqPIfewt6mk4jpy7QEQrXVu2PGG7DDPgAAAD90Ga90nhDyZTAhf//oywAAE543+Bp+gHz6lCZPTGziDA4U9XWb70t1FH0/GTgZCMtbmO3+zBI/aDFdzLzjd73eNCuoWZURj9EzfdDAlwju/DY84cMzHywnZpBBgUuzAeF1iGoJ6++PStgmrqqeV+sNPcuPjYzKZR4aL31dhTRyRnNwevNvv4Cg1+Fjrmgzj6BurNT4OEKvkg2MiHx/YC+X/p+u+tVA8SWIAQ8lGSXZr61sFGACRS3TkFoKkrXBiJq4pnHQc7ROUwcGU7T1SU+Gu3daJed3Dk20v1XGEUmsJea1YyXGReN47GxgXvIb/AL2JjEaaupuLW/Z6Du1ojEI0yQBMdzR8xU+UF641j+MKkK2uKrQ5LVNNkHEIFN1Z6kRoeTtZ4tC5QnmVScZzXGk8tVgxkuhKWcZcleAafAFISZFKQvYrVawKVvNr/y4riXB+VTQZWIz3zxh+7UBllhqBI9qTuusQQ39aJYIh3Qqd7QAUcOl9COE9v7/MOa2lroiu4k9wMrxZ+nmPbh6Wthitb33P8P/oyswpvJqhso3L1TAwiGCc1rF+NLZQX5Z4hMZB74IzWQx6ru76NKVBWvmvcUlR8eplI9k/Rii0cZyly5WWtZ1huL2UWInySO/OcWtMsuENNl5NH2L/ZAr0f5Egiht0j8Pa3bjh2qIomu27a53/KmeqDV23qliYy9WfrbMQbf+r7/HloH2OnN7sAF2bWiaguClfJi9JoVm5iv6R+esE18lMN4xcsgOjYzVQ6cRSoEiWcbGjUbw5RtABnylZHYeAQ9hUYuRzFgD8t+WGqAhvPEw4nPJ5xbM63Zh/BlzJVKAES+b/CVnQYGxBYYZNpHOQbNt82axiRaMAa2Egfy36kl+WdYfvFx1UQP5hKLl48mfYROyvTSnLe8M8VXWdIlrR7Zfso/LBP7XRo5xwg4++ITDkQyl069YFVlgHcEPfwlzWHCfgBa4T3/znpiW9iL9+eahTPv1WNwfVufUNvyGmqco0+mmVJDelQexLriZ0+Ucl/Zh1+mxeJX/vVbfcuhdfGqEsAPD89vOlqZOqIGII7sc8dtjVNFoKq/xev/qy+T9Scr6jO+Tuyfg31diHLAXGPcn0VwA2KNa1BxZrevR6cTGtAskQAXzLI1XH7dUBKNQ5a/R5ZEG60/w2RD0mxvo90soh7P/tIUNDJqsfliw1KlU+5+dmhCsJ7tCpJqvf/y7pKQlpLHnx30YksJJcn2NTKaZP4AV//3M18tMmMJqd19qTHay2/9/pBeH/eVps+vAJahH6bCvhbEUI0LnJXXUUTz6SSO3BGv1z+gb+dH2QSQBo9ga7ciL4XnjCD+cSf0PcAekEAAAHcQZ8VRRE8K/8AAD+MkrDxYFqKltigrE2YeEJBSuAfaY1kIjFACaZxIoe5izRHKixVi7T2lIBR2QGK/bvr4xAOR2TXvUx0PFYHfiAoy5IkhF+y/NwI7R1tNj4TMuSatKGudXniaU5NsPLRpPfRC2v+ZCFTmB6SJvI/8PBdXEC1xy7w1BBMZn6KKIqb1HrNwjkgixGvEWiia877VVdFlBjM8qneiwacne7Nfo6mWO44PHmBSj0PNoh5DVJt+yYadVhmHLF3L6Zcj+aeso1DWJzRiOlVpUaGKG1JTjxNohJdqj7ZB/f6Jlzoji6yQSRK6AfQoTT46wFsJf03zfhXNWnnkFvcf7rZknd8yJM+z9vBfvGr2gOSDK9D55kfX1lEu7Q1Dkpsd3/TRNRzaxlksa3pLJ3h2u3XmclFTnKdiRlNWl2BQQn4yIi5p70mqLhYPd4YhRHBS6NJcblTazHg5hpgTlvShD2eIgnPek1PkQ+vRbjPWD1dDRtDpGRQDV++pSSbGbHst18ZiQujOm2OWVHaDSQThXhtp5wgblwjEi7qx1hjnT5IAomxYBvdelfSdcpXfo94UnnSBY2IMhejLRmxbgrjimbgk2693gcCMMVb0d9k+BEIyUCyUbXAEHAAAAEaAZ82akJ/AABULdabxtnUew3VWgA43IzAbCEvDcJGnWea6lJMIyn4/0C3g19CrU4efHyaMh+jOR36lMasQJWXiII5NyXNzFoOSFqA1q9Jhyj0ptpwmJYrWqpsa1DQF5hBcdT3Nz2ezbxhdBQQeVtL/qRSu49vfulaVGivuSGdr+ANYTOM5Xo4L+bCXMMPCCXXIseuCA+3RvVfonUAzudtlYMbKUdFWRR29Oe2D/J4NFJFPxpQvEiAD+PfuswVYB1Di/V4ypJ0Q8Gvz1ocXc+jpmgRrxUStDF2/5nafXLoZurTZH5L/xdM5ZLQw1V7+d4q4X5qvRI+xVH/HY7DBUucy8UZ1hz4gFlNVyZy5xXqcdOf+dffXl7uAFtBAAABtkGbOEmoQWiZTAhf//6MsAACyYfY11pN6i0JXcR3nR+wxBA7xXIYxnNxQPkctu0dx6oZ5C7XMvr/487am37fBeZOnij4o44eZ0gb1iALe5EQKlApTtAKa5oEGIYmV+I/ok48XpeiVLy3Uj1HwPoz0ELyBH//8/EuMcoJD0EJs8aFVm7fNkwYqSOAXfPlbnjE4OWidffzMuz3DYhSimAlmbu7TXB/FwStoBKg3MLuGR+Wzhjr0+gEdMkItIJWmbWW5PMjUOV2QQ08Q8/8/9Q6VfYR/Wemj28TEmfEzMTqWUiR/opt2euT7rePMQodTxqRKfKvlM43bCiNqqSsT+SbC2zPPa4RcqJBCSv8tbWodOOoJE+z5KY/J3DupBok5ZTf7mqvLyvgAqanFQZM8kiRuhknSqalJ5M4lzsTVGTtAlPmvVDJkzz6HRuxMhuYpxeZ5cfpR6AAI+Vf+8Q93VOpHzQv+L4IVhsPLLA1UXuoezgIr1VfBTsOCKbkfDmV6BKPxdWbrZYSk5zsLN2d5mq0Zuf1U86tbY0QxnetkSTqeXW/HqMhHJXPXqRZmCwGVLtpkMAwCCU2EQAAAXhBm1lJ4QpSZTAhX/44QAALDG8zyxvgADiz2UV6wtzYILUjcH1KDTOWUix+tZ7gjrEWpeKN8RVNV30sUieOhOn4xB292NjlXMFnhdu8mD/DTl4vODfHN6OSmZSenilTXu7/ua9rhDAJpVxv3jniR0BLlUkqqnCX3Sj8ta4Xt3EqLu2Hq/xsGHv/OmdFoUuoOguC4ndide08a1P11uT53HzTMXlQGoR/KOHCQpP1bFYDhVNswM03dlYHVg6qLLnCL1i9+kIf2qun4e9XX2IjGA7yHIjETb+8Yp2NA5X50QmkpValZiwSg4enG3shgqQlFY+0oU12X5Dp8U2L+HBRDOuPpJZA6N8IOPCodSYXS9nzfAmkH37xCcMcS7h6wTVBqZEPGtixDg6SwvjiPg+yrJZ+IK5KpTeJQW1XWJPiuwr7PB1bCW6HE5yiKUvqMn2UUku9+bJ1a7IB3IwA2A2AUAfiXyMoh4aBc1HdueLm9OIuhgtBy46/IQcgAAAC+EGbfUnhDomUwIV//jhAABpOYOaqXPWItbZUGtcAA/ElE9cKF/+NXWoe31v8LTPflUOYogGup37pImTkSTmZHYnuUQzp/d7ePuUX3W4XtSk/1NxXplP4DNDxIVzox3BsW8zMuWe/jBmI4/238mYEVjiqFBLiOKoYDI+o6HzkSRyn4UpHEOlkeEY38iIQDsXLOszmNKvJ+W8tOoPE0+gUKyZcxnhKpVcgaCBKI6g7UZrz2UfAVYCr/x9tairH86fs8QbZzGUIbhBO8hpzKw6uMJ4XyXYBoGITTaMeSYtBCBVMwuFH2XucbHw6hi/l3d2ODo1Wo0QcQmrpzK0uKqiC2LwV/XWlHRaTIdZAubDJqRn5HArLUFz20wdSK5IR7lJ5T0lg+Hsf0/aOHQJoAl6HJhYy3VUHuL60s6feTCDEEMwUKb+4XRZr+A8aOlH1eIrTv8VnLEcxjKs+BtFq5cxcbprJuyUm+JtB2IUOkgIF1mGJ1ye0iNIIY3weLb7DSN+RiL7MpeYb7qM/J58J5UKBYuetOlM9V9WETJ0R0QydlWvXzwaIzS0khvrHb+BqrJQ6QSb+7fdpEPUbtiqIbWAf1u20WIAWx9fGMA3ts3U+j/0Kg82VLTt0SGMhOjUJOpY9AiamDqc1gLy5Tsw7b0rbef6JE8zjvg4xRZ06Bf7iTOBnAkjw5yAP+d6JDc7ap0Lm3s5ADljiMmLMThicXTcCq1Kthxr+CsnEpKxBVPG++dLC+yJerxhvWTc/KMFKN7wHBjdtZ3snr7U2aoq4wzekvPTRUUCcAGMAy+U5/iZ5rendrx2kpmP8E6GR30rDOZeL+7Zsq581CtwPdfhXiMLAZVEDcdSETvxunsacrypo1M4QTgqiRwmlt5nV7EWP+88c4aOG53YEKUxIUk1e6ezwGay+NN848bUvuzk27gegjyYg/KgMBGC1kR4+83oBxoIyTxvrLlohZDPOF0T/752tjyiABtHhbAP8vyLT4gVBL39B8OmrWMKn0kEAAAE6QZ+bRRE8K/8AAWuvPXmhs2NctSU8HIHYBcIARot1LmZWQrcGBcRIM+dtqkypphH6Wew+ADKPsr+BH9ARtBJCFUjt58YmAX0TYsaBdv0K/fbgfTmtBOhfX7saTdqEbZpJxy+MXLUhauy4DRKLWMOYgkSTUKR7lk7VLsC0H1pcuKqdDDQ2uzdrFkg8PPjZIgeq/c6pnpaTzhYRAPLvNibPChW8OYtKbSHVg5tHs/cXTeEyCK8yoAYMswblmZd2vvSnQgS3cjR2kUQyQZ1kYWPqGF5Km8B8KHacCRGftLBoH2a7IJOcC+aeJ6nKJ4APdarw/oXOyhRcSG57wbsmWrxzy8azRLQwKoJf8bStIHeeEY8PVKEdyrQXpwA6QauHSkF3WIFipIwdCcat4WW7KX4bfA6LvGGx7CoAAhYAAADiAZ+6dEJ/AAHFl7rw7hnbtGGP79dHbiso5qZpzSm+aC+pljHMNmYxUz1IE9BBwiplCpGby1aqyuNOLMhPssJVdAldd1DmBWmWY889BnD7DSFyEN413wli1HMMhNYztHbnyfWSFkYi/X1JtRMaWX5x/9eACH46NZ1Cf+qAtGRuuCm71e6Ic1P4IIrvmqIwO24ZY9+0Hr6l2PHS9tE2tbnizmJsGH4g5I/LAiEeOBjRe0E+P6HhKTQM3BQl5OTcWqZYwB8oNFZx9xz82dqtYsfuiszvJn6SH2m+DIrHSFT9gAA3oQAAAJsBn7xqQn8AAdBokinPXxRFX0xZ9YOQP0SquCwUK8Smbrleazr9fptomH5eVtuUFYH17F4UomwZt+hI7miPK45NYwIq4mScTYNFR/3nelH89APhUOru6PL1p5rftr3ajhvBxTP6aJjOJmBkEy01kNnb8/60tFZwhru119bYotoJKSbts3H0vSFu6KXlen7KYSOCYFM5Ro5Udu0hQQAAAhhBm6FJqEFomUwIV//+OEAAPPqrgRkeCSc4G1G7beV0ZiGcXITp4DSBMZxeCCmJ7DJnUnQAQ2w39gGX1a57HcnJTqfQQpZXzEmYSjX2NKkVZeEPYKNmXquLyAEnNI3Eo+8macRsCF2d2D712p+9G8Hnu5YacZMZuu1yjDBLmbQldJEwJchRi68LE3s/oWoBh70ApBmD4DNNrGTAdyYbJHU86RMjRo9AKA432PZqJqD0+Wc6l0fCL5Lg7KtSOlcXKoNn/nsVt3bJdO26/uCPNpdDhtPaWGqOeMmXnIVMTK4goNETWWi+gg9Afdl4ttvhYtctsjH4Kw7frufCVjgFOnmUV39gKOPJvMPl7eQEu3u+4iPfSJcxdDTZ4O09jQgEJgIZiK6IF9sDkNMPnA2wQaRo0G3OzhSOiQGDEjIrmxjG+CQ0lY+YTS9lDQS2KRSkW6j5D/CAakT9hoMAM+KjHJauhZ7buiOoFduc4quK6jsv4G7j8SWymUXz4fxqWaXr2KTemd/UI23fmeBeSh7sV5LqmG0ltHyo6WfH5SgeIln4Q60Qbf04+a55tvjPt6lszZUsLrRiqMcda5/x43LUuxV0emgOZCoLM4kes3o8X8ep3hTLtCqLOsG5qjxwIjN+A4AmZd5kQrO88Rager+7Lm4qvjAwHPj+9MyH67D86dRFiOitDyDQ/QDZjVs93UvvDXO4ITjHKKatoAAAAWhBn99FESwr/wADTOhmC2rP4FAkuro8KX76AIrVqQ02fBuryHNvx+mG1xoo83Bkgq1aM167FsSV44e1PAkrsU/RN/KaJ/uvSAFpq7nV6z0SEFTEGixZeHBHqFTCE0/Xg+JXgD8UiRblb8EH4HsPXRwfqi+mxfZCjFHNkqQUyYlhQR4VTllD9NOlPhSCU2zGwUOGhxhUd8gIbPMCzD/r3kUyG9iaSGYoz5mx5FLTKWeABIUVWaNhih3M0SRmx/HBSpRYcsM9aeBDVs/DLAFWd+0pD1jyMMfOiQTHeYG7uZu07a3Hvy+uGq2GWjcuGdod1h2EVhCyXXj4eHxpuaozhtSyfIEJyGIBSHCSmsfRnwdnkbITZal7AcV81oi7Sb8fSmIJyL457sp6Q+aUfT+9RpJxAMlOsisEv0NDJ3aRqYl2ZfDZs9SzcNqUyhJWHulFqEmQB+qTePy5fCM111Xj0c37wjDA7w6gZUAAAADLAZ/+dEJ/AAQX3qm6ngDmHU4K1mGh3BiseLWSCaHX4kh7Zu4/urMobuJv1WybTrFMBOF+R5LEYC1P2kBYJ9zNJG1tmjKBocySTf5V/06OO8K3atqkJb/Irdiwtxk16Fvat2c6b9izCH5YGx98npuVwl1aLUO+Z89Ueg+VfMXewgZWVTXOqB8u9J90+OCsOt9CPDAZk1g9iRi12tgdEE+nKxi3FSAtoUxbWKhPNowf2Qa/TxJKV5xKdAelUakYtfsb/TxxfeHpBoRp4QsAAAC5AZ/gakJ/AAQ3bhgPGN/8vYmdzizbrCJ+745iwVrUh6g8EwSCmS/nGoEo84ZtB3gF2LQNuayeMpjKEwAm0Rzq6GepG86omxO+vI5YAd1PPWOGyjVmdFYAFZ2eX4BOfQhw68mGheSBH1LFtxRW+tBRQ4lVQzJcXsz/b9icrTQtq3BGfVBuPX5j4wJB0Y8FNuMz/i63lbd+i7JKtWxNbnBXDn8dNbtlfHzq1m2MJhEt2bOFZCERIIoQfcAAAAHLQZvlSahBbJlMCF///oywAA+XL55RtlTu8NyVes8f2BwpZQAlWDmpUB9SRSk9jCh3M1zB+xBrC8hKs8t2qg8hAbaxFYywCFTCFGwKJKMA1RoKy5u2tpfaKzi/6dp8UAp4RpINtXXEB0LX/9c81IMzHywVO9thb/28ftYwk3deOtqOY/Z8l+fVZXfBxEu+2Mn0XUHP05Nt9hbBwt12qamB7BM8orkqpMHgiMia81fw8VKL1rzS32/HcST/YGh0HWwNvqse//FXPYlimVNdrFxtY5lsOxd6E2WVDnHgZp8T2gPhq4lCnkBb4d3Eal7qffYEQKvylX5gusgMzi6vzHfWPczqnmRqHqrMJOvsa68YpRn0Wsrk3gX/XkEpTVvOqSHEpElvyyiDOK8LbLPX9PlimRTXQADZj+BuG5tuB2Xvu/yMayQXEA7Ljqe2z64kmiCpQpeMjoUVvwq01exwHQCK2cUE74iuxiB0fh9inwQEH7UipznYUVM5nGCiY2k3Pv6/u09BW4rzQmpgw0Qa6HBUsveLPusTMIgKXJyS+4RRNxZL3m7T2KBod9juE6ytDAm+EkJHwNDdqhysjmDSwLCLZBLCeymYmZEh8AEDAAAAuEGeA0UVLCv/AANMBJ7MZWY7hesUKcHO47bfKj9ACzwahe6Z/qoEMFCD/CE2XyxqbRivR8woDLs4T1ms8CCmKBBufejqZgGE3agHRXnalAoADMYjB/eVhXKi77TWcOCtiadLqVWfsFmDbddrqFkWmjtSuXvgupC8puq21qT0jA4qLHde8gthG4SZ3O6yGquNsdmHAO5VwKoo9I9Dw32wXwiLUYeCFCwI5dBBhnNvvJi32xu58Ia6QfcAAACxAZ4idEJ/AAQ1bdenD+SKlqB3NV7IoAIRkcMObUpSYYtMQtXZr6rPuJYyqVNWTx37OIHO3Wi0DnU5Yaq3b6d3nG40xzobMTSRTm8z4rBToUdpbmeblKrCI5wcsn5G2a7ZLFeaIFTHMjVmDn3oxOvFt4VouMB+Y7UZcAYS+iTsabSJY6UorKB9p7zpO/Zf+yM3wAAQKOhQFNcSzPW5kmhWInIV4475Zu9+4AHr0LXZKQLLAAAAUAGeJGpCfwAENdImwXjtg5CIvNXoUg8EhTfhWDtouE8h4xdIQ1a8KMtvEJGr0uJn3gxJe9a2JFbhghQae6CJ0rIKEYqrKpF1nuqOL2iBMBCxAAAA60GaKUmoQWyZTAhv//6nhAAEFHZgLMAVOvOL3Xi+vokqPI5+vlFgQ3WsWsL6Gye8XUCx5PjrVuSNo02LkMMNMnsDgiWts+JQFoAp/5RAJDf7mJdOfbZ96sy//lR/3yF+fRhLdc7YPlkfgriQloMGHSa5LZ/VVM2/Y9D7DD74T8S2v814lMTo2GPeYybf30Pg77AB7Oz9AgdaJrazkkfrlNHsIQKDhoiziwvqlOF6eU6kAikc59yM2UQuc/6xu4H4eNtxl0WfZYqTQSvVEyFIQMiGguhqUVGt+MHHY3vvePeGyRNUkNLqIWSgCLkAAABcQZ5HRRUsK/8AA2AZ/5WM/ElcwXXzOgBFYBKzWPmOi+eFL7KwMrjCxHsx2MKsGLyU7aXSypd/4jAXjg5vXSdCPeTL6Bwzz75HgeYl9DGMex+pgDutg51Wq+TQVMEAAABOAZ5mdEJ/AARVexAR0X3JDrRKwzbrlM0EXLebAScEF+DAb8nEJGtUP5YLz8XzjlQJ2MnQzuHl08BmxveOvTiaKV+Y24UbaZimgRKLFwhYAAAAqgGeaGpCfwAEV21lXFNRhI3E6hP+D+AWQAIw0kMHtglW9J09KJrJFlssoyGYlQk4WC1ka89KDgVsURoLwJigoHxjXqkoxxD/LSNFoD3m2990QaXv1/8+7B3K05235gFO+6o/svuYjWLBOR7rdNVjlYsesfI6EqtxRtz3LLq12KIurnXzcRdnIdrIBbo9kn8QlEQTxubwz7gACnK0gKiTwOTbybrKyQnzxAOqAAAAjkGaa0moQWyZTBRMN//+p4QABBSJm4gOFNv32/FqlSM6Xo4BiS4lzMJK15wBT38XcUwo4Nx5TGM8qtIMbudBZ06yUrNOtKE3qOLi8nPX5p99wAXt286z7GTEIN3iAl8CqP9opzlhW+pbcR+m2v85E/s4ZDaFy+rnmLhukLQRS9/dw3795+PWzxoqJkaADUkAAADlAZ6KakJ/AARWIw/q4vTyrjF8zMJoqepxJlJnOeAF1GbdukrbFH9q4TTwVoULmOHbZYPCwPMkNzR73RXOxrKgUjTQxDFatj38BDS2yfr2NgqCb8fVoqlcOdD1gHtKhOr/r4JVhJgPoW009uEjJ3JjVaMdp0r1BIhwN6eW91dlqlMKJxIoCagO/XMQ3W9bLWzbQOwwqrHZfo+t1nXdih/cp8qYNqK1KdrXDXSnkCTYFHAWdv8UxnLVsx7GEX0pHr3rLrQxlPJn+ar02ZzUATBMYaw2kf7Y3CSJGEHr7d62qkjxPgAGVAAAAMpBmo9J4QpSZTAhv/6nhAAEFTABYWxEc+xFKk39zy4BMjBeP1sR9bbsHqoX71slnzSCgmuid0/YZO+awGNrHRJgo7+cT4JPAH4UD08E6UVs8sLLQn0nd/YqIxBouTu3yHIAG1sJ9Ul1yW2amrduOrWjHY5XAfHslwGmj4ckDUg1r7J+V+PjH0eXmfiWeCkrTkqal/tDzaoKvlTQ+bkFIjNxXfbV92BtEDCorkc5PL2aPMROJTZJMKjlh9uVabmW+nOSxYQtJWMWgBBwAAAANkGerUU0TCv/AANg6GXgfuBpnYz/oMyaBNjMx8Oz/Y93DMz3jsS9xHw5MohbinRglQihWUQfcQAAAP0Bnsx0Qn8AAeXX0fpwebwqylYkRKKIyll1RwAmXO8t0mjRSMp6Q8LPd9fz3za58FeXyul+n0pnB2qXjGVnOWfoz3WER/tBgg0tKfMglFtjhUDol+Wy4U049T7noYNcRDYnP9z4FGIyk5f1eV/C1yWE3ufWZ3ggyj+zfu5neWxl9MN7c5VXtz4Q1YQDDt8I/vXWkjcU69ozTIl2z4bnE2tWQ4PvgngdK4lOpJH1w+tjC6N1QpozqGXHazWREvTDC0vNBAQ7sPiyN9ijE/vi67tvblvvER8SDPtm+w4Mx5bs2S+RbJTvaO7aixnleIyk7rb/NwNGshaVMITprgKnAAAA/AGezmpCfwAEViMP6upBK95Ql/ibccDk30/gAmdp4bSKQvjyNpCm3KqY0i3P5ZZmsIbPsvIHWKMtWjti7PNdVEMNYXxe/JG8bXfbL1FJIyeJQSwxruVgZ0kdTEU7tRrCJTQYWxqTV9V6YVf+LUuTlC1ysvKZireZQNEg1T4mCgXkvNNRewTLaoPfOiSV6jO5jgWtrsjYGFe530/gaUNwLbJxB4x7hHBA89ZGLH3DVFKoQn6VEBtLMYNuVm7VxICb6XqEn6LdKHnpGf/6knLnZeFqKu03BXpyH+kcytyWb3tan5d7ABraDtzFuaSimswYqJdZxbhCVu8PUACFgQAAAGpBmtNJqEFomUwIb//+p4QAAcPYqQRbvTQB+4ugRxnbI/QrGwgNOL5pLnJzhhj2Wjc82u1iAGuxtP5XYheYvAgv9Lqb52as80vq6YPH36e6UVimE4UBpikZeO+92tUuABqbxeQZXKzvAAJ2AAAAJUGe8UURLCv/AAF0sAVFX8P7WrOdcOcluM2+U2EeunwJfB/sGVAAAAD5AZ8QdEJ/AAHbPw+aSQc27jt+pUunbmM70vgAnbtxBwMLpDmIth5AbR43y4Cdd1WeG52MMEqyicJMl1HF+vkm5UeK2zZ4nwscKmbyQdrrB5FZYXEcstsiqZgQPK9DwelHQkIz9Ja9XdSlBocbcE1+LGYj23q06lnPidaeRshgBBK0N9hYP3d11QEuJcjDOuACPbFQ5OjpqRpPoWPdh1w0NXmdboUOvS3an0Dr9/fUV8/cZkP+wpaj/s+jNJNZBqxdDc9xi1q1r3501huqutHTgM7fqtB88jBOzUGX0rcl5zykyJdXgcrI6w1iiawgg/iUUyS6HyaI4gGhAAAA9QGfEmpCfwAB2wlXPAjRB4SybPnp1GGACau3EHAwukOYi2HkBtHjfLgJ13VZ4bnYwwSrKF8DFOrjBM2Yns458B7TxPhY4VM3kg7XNMRIHWTCOPhsa3MCB5XoeD0o6EhGfpLXq7qUoNFA3BNfixmI9t7tKnX4ItQ/I2QwAglaG+wsH7u66oCXEuRhnXABHtiocnR01IEloWPdh1w0NXmdboUOvS3an0Dr9/fUV8/cZkP+1Za1dHPDNJNZBqxdDc9xi1q1r3501huqutHa6Z2/VaD55GCdmoMvpW5LznlJkS6vA5WR1hrFE1hBB/Eopkl0PSpIYAHdAAAAH0GbF0moQWyZTAhv//6nhAAAyY+1UXMF+lHpmgAAV8AAAAAYQZ81RRUsK/8AAKzyZByN6uiNlTBnYgWVAAABEQGfVHRCfwAB5VCzj/DYAJ21NmlKQLsFhTFXwVcuy66eESkneHa6kT9kBrT+ICmFQDG+U4DfYrSAuTHaQBMjFuNnm28RzS7y20snkEsFxOWrJO/dQWM3T/WLZvLy+v9xkpiIsJp+2Ii7wO1SWxFsif0I9Vlk154qVBRdD866VecEqaQu4/RTB/VrHfsetO3aStIfaVk69alQwPZXin4jgfysiauV98lX8URSVNCaxVtXh3Thuovv1VHijzBF4SAolP78NSFRF3oaCjADwDaHmqBH/hMdUEWJxNa4PCmELauLXNMySRw2GV793IGpWVIdhnv9PjKTCMhx/qj2PuAUfZoUEobJa11l3XayCyglDAA6oAAAAREBn1ZqQn8AAeUOHo31TACatTZpSkDfwYUzKZGmY1HQmidarOPhgjwwRAa06w4phUAxvlOA32K0gLkx2kATIxbjZ5tvEc0u8ttLEYL698nESV7fuoLGbp/rFs3l5fX+4yUxEWE0/bEQAEHapLYi2RP6Eeqyya88VKgouh+ddKvOCVNIZNf6ng/q1jv2Pmojk/iPkz3LJfWpUMD2V4p+I4H8rImrlffJV/FEUlTQmsVZjv02EL1F92qo8UeYIvCQFEp/fhqQqIu9DQUYAeIVegCm3/4THVBFicTWuDwphC2ri1zTMkkcNsV2/dyBqVlSHYZ7/T4ykwjIcf6o9j7gFH2aFBKGyWtdZd12sgsoJOAAOqEAAABmQZtbSahBbJlMCG///qeEAAHQ8Ko13gEpQxPAvZFnDK/vAsnhozZ6BXwPGTS9B/Q+jj5VDk4K3OIihHomzW14laUBM11z52Uw027uSLXVt9w9QuqMlwpZhWIGyPIfujBpUA314AHzAAAAIEGfeUUVLCv/AAF+IX6Lh3vQuKW+0aRWUNCjZo/ATQELAAABAAGfmHRCfwAB5dmqBIAsFiqMYYZMq4vSdno3X2NAB/O4ikw68um+0dcH/FY01dnq58v2yWaE/4JL5RBo365QvM0LFdCCJnHFNv/HabC6/bPjSBIyeJQSuuEkgeFOnJ3kuqaHqLRdVXL2dh2X52PLz1+tSAzpsaMgcKGCj7PMBwUXkY3aAU1CtxrW40f2TdhTIhRdrAmnWl6e3F1DwtJU7LZ4QuEeH+pxSh60q3AgJX76ryP33xNNcJDQB+0jn8WAbk8WNUEB1hXNsP1slFtKfJdr1mvPlZq+oBWIBms0zhGxZzImdhGQ4/1bxW7AKPcKtfcNkta69MFRHxdKlUAAd0EAAAD4AZ+aakJ/AADdPFpaer1hbJ6N1MVACau4ikw68um+0dcH/FY01dnq58v2yWaE/4JL5RBo36hQvM0LFOLtr1CXVhiO02F1+2fGkCRk8SgleVIYEZASnJ3kuqaHqLRdVXL2dh2X52PLz1+tSAhxY1EHKY4YqscYDgovIxu0ApqFbjWtxo/sm7CmRCi7WBNOtL09uLqHhaS/Vn1hC4R4a0nFKHrSrcCAlfvqvI/ffE01wkNAH6SMgdgRiVGLYjrHLia1w/WyUW0p8l2vWa8+VASi7pzLS3vh2Ge/1o7CmEZDj/VvFbsAo9wq19w2S1rr0wVEfF7s5JyANCAAAAAYQZufSahBbJlMCG///qeEAAADAAADAB8xAAAAGEGfvUUVLCv/AACs8mShuOzAmoXL+YJB9wAAAPgBn9x0Qn8AANz5txn8cE0pPRupioATV3EUmHXl032jrg/4rGmrs9XPl+2SzQn/BJfKING/V1R5mhYpxdteoS6sMR2mwuv2z40gSMniUErypDAjICU5O8l1TQ9RaLqq5ezsOy/Ox5eev1qQEOLGog5THDFVjjAcFF5GN2gFNQrca1uNH9k3YUyIUXawJp1pentxdQ8LSYMZ+sIXCPDWk4pQ9aVbgQEr99V5H774mmuEhoA/SRkDsCMSoxbEdY5cTWuH62Si2lPku16zXnyoCUXdOZaW98Owz3+tHYUwjIcf6t4rdgFHuFWvuGyWtdemCoj4vdm8mQCpgAAAAPgBn95qQn8AAN08Wlp6vWFsno3UxUAJq7iKTDry6b7R1wf8VjTV2erny/bJZoT/gkvlEGjfqFC8zQsU4u2vUJdWGI7TYXX7Z8aQJGTxKCV5UhgRkBKcneS6poeotF1VcvZ2HZfnY8vPX61ICHFjUQcpjhiqxxgOCi8jG7QCmoVuNa3Gj+ybsKZEKLtYE060vT24uoeFpL9WfWELhHhrScUoetKtwICV++q8j998TTXCQ0AfpIyB2BGJUYtiOscuJrXD9bJRbSnyXa9Zrz5UBKLunMtLe+HYZ7/WjsKYRkOP9W8VuwCj3CrX3DZLWuvTBUR8XuzknIA0IAAAABhBm8NJqEFsmUwIb//+p4QAAAMAAAMAHzEAAAAYQZ/hRRUsK/8AAKzyZKG47MCahcv5gkH3AAAA+AGeAHRCfwAA3Pm3GfxwTSk9G6mKgBNXcRSYdeXTfaOuD/isaauz1c+X7ZLNCf8El8og0b9XVHmaFinF216hLqwxHabC6/bPjSBIyeJQSvKkMCMgJTk7yXVND1Fouqrl7Ow7L87Hl56/WpAQ4saiDlMcMVWOMBwUXkY3aAU1CtxrW40f2TdhTIhRdrAmnWl6e3F1DwtJgxn6whcI8NaTilD1pVuBASv31Xkfvviaa4SGgD9JGQOwIxKjFsR1jlxNa4frZKLaU+S7XrNefKgJRd05lpb3w7DPf60dhTCMhx/q3it2AUe4Va+4bJa116YKiPi92byZAKmBAAAA+AGeAmpCfwAA3TxaWnq9YWyejdTFQAmruIpMOvLpvtHXB/xWNNXZ6ufL9slmhP+CS+UQaN+oULzNCxTi7a9Ql1YYjtNhdftnxpAkZPEoJXlSGBGQEpyd5Lqmh6i0XVVy9nYdl+djy89frUgIcWNRBymOGKrHGA4KLyMbtAKahW41rcaP7JuwpkQou1gTTrS9Pbi6h4Wkv1Z9YQuEeGtJxSh60q3AgJX76ryP33xNNcJDQB+kjIHYEYlRi2I6xy4mtcP1slFtKfJdr1mvPlQEou6cy0t74dhnv9aOwphGQ4/1bxW7AKPcKtfcNkta69MFRHxe7OScgDQgAAAAGEGaB0moQWyZTAhv//6nhAAAAwAAAwAfMQAAABhBniVFFSwr/wAArPJkobjswJqFy/mCQfcAAAD4AZ5EdEJ/AADc+bcZ/HBNKT0bqYqAE1dxFJh15dN9o64P+Kxpq7PVz5ftks0J/wSXyiDRv1dUeZoWKcXbXqEurDEdpsLr9s+NIEjJ4lBK8qQwIyAlOTvJdU0PUWi6quXs7DsvzseXnr9akBDixqIOUxwxVY4wHBReRjdoBTUK3GtbjR/ZN2FMiFF2sCadaXp7cXUPC0mDGfrCFwjw1pOKUPWlW4EBK/fVeR+++JprhIaAP0kZA7AjEqMWxHWOXE1rh+tkotpT5Ltes158qAlF3TmWlvfDsM9/rR2FMIyHH+reK3YBR7hVr7hslrXXpgqI+L3ZvJkAqYEAAAD4AZ5GakJ/AADdPFpaer1hbJ6N1MVACau4ikw68um+0dcH/FY01dnq58v2yWaE/4JL5RBo36hQvM0LFOLtr1CXVhiO02F1+2fGkCRk8SgleVIYEZASnJ3kuqaHqLRdVXL2dh2X52PLz1+tSAhxY1EHKY4YqscYDgovIxu0ApqFbjWtxo/sm7CmRCi7WBNOtL09uLqHhaS/Vn1hC4R4a0nFKHrSrcCAlfvqvI/ffE01wkNAH6SMgdgRiVGLYjrHLia1w/WyUW0p8l2vWa8+VASi7pzLS3vh2Ge/1o7CmEZDj/VvFbsAo9wq19w2S1rr0wVEfF7s5JyANCEAAAAYQZpLSahBbJlMCG///qeEAAADAAADAB8wAAAAGEGeaUUVLCv/AACs8mShuOzAmoXL+YJB9wAAAPgBnoh0Qn8AANz5txn8cE0pPRupioATV3EUmHXl032jrg/4rGmrs9XPl+2SzQn/BJfKING/V1R5mhYpxdteoS6sMR2mwuv2z40gSMniUErypDAjICU5O8l1TQ9RaLqq5ezsOy/Ox5eev1qQEOLGog5THDFVjjAcFF5GN2gFNQrca1uNH9k3YUyIUXawJp1pentxdQ8LSYMZ+sIXCPDWk4pQ9aVbgQEr99V5H774mmuEhoA/SRkDsCMSoxbEdY5cTWuH62Si2lPku16zXnyoCUXdOZaW98Owz3+tHYUwjIcf6t4rdgFHuFWvuGyWtdemCoj4vdm8mQCpgQAAAPgBnopqQn8AAN08Wlp6vWFsno3UxUAJq7iKTDry6b7R1wf8VjTV2erny/bJZoT/gkvlEGjfqFC8zQsU4u2vUJdWGI7TYXX7Z8aQJGTxKCV5UhgRkBKcneS6poeotF1VcvZ2HZfnY8vPX61ICHFjUQcpjhiqxxgOCi8jG7QCmoVuNa3Gj+ybsKZEKLtYE060vT24uoeFpL9WfWELhHhrScUoetKtwICV++q8j998TTXCQ0AfpIyB2BGJUYtiOscuJrXD9bJRbSnyXa9Zrz5UBKLunMtLe+HYZ7/WjsKYRkOP9W8VuwCj3CrX3DZLWuvTBUR8XuzknIA0IAAAABhBmo9JqEFsmUwIb//+p4QAAAMAAAMAHzAAAAAYQZ6tRRUsK/8AAKzyZKG47MCahcv5gkH3AAAA+AGezHRCfwAA3Pm3GfxwTSk9G6mKgBNXcRSYdeXTfaOuD/isaauz1c+X7ZLNCf8El8og0b9XVHmaFinF216hLqwxHabC6/bPjSBIyeJQSvKkMCMgJTk7yXVND1Fouqrl7Ow7L87Hl56/WpAQ4saiDlMcMVWOMBwUXkY3aAU1CtxrW40f2TdhTIhRdrAmnWl6e3F1DwtJgxn6whcI8NaTilD1pVuBASv31Xkfvviaa4SGgD9JGQOwIxKjFsR1jlxNa4frZKLaU+S7XrNefKgJRd05lpb3w7DPf60dhTCMhx/q3it2AUe4Va+4bJa116YKiPi92byZAKmBAAAA+AGezmpCfwAA3TxaWnq9YWyejdTFQAmruIpMOvLpvtHXB/xWNNXZ6ufL9slmhP+CS+UQaN+oULzNCxTi7a9Ql1YYjtNhdftnxpAkZPEoJXlSGBGQEpyd5Lqmh6i0XVVy9nYdl+djy89frUgIcWNRBymOGKrHGA4KLyMbtAKahW41rcaP7JuwpkQou1gTTrS9Pbi6h4Wkv1Z9YQuEeGtJxSh60q3AgJX76ryP33xNNcJDQB+kjIHYEYlRi2I6xy4mtcP1slFtKfJdr1mvPlQEou6cy0t74dhnv9aOwphGQ4/1bxW7AKPcKtfcNkta69MFRHxe7OScgDQhAAAAGEGa00moQWyZTAhv//6nhAAAAwAAAwAfMAAAABhBnvFFFSwr/wAArPJkobjswJqFy/mCQfcAAAD4AZ8QdEJ/AADc+bcZ/HBNKT0bqYqAE1dxFJh15dN9o64P+Kxpq7PVz5ftks0J/wSXyiDRv1dUeZoWKcXbXqEurDEdpsLr9s+NIEjJ4lBK8qQwIyAlOTvJdU0PUWi6quXs7DsvzseXnr9akBDixqIOUxwxVY4wHBReRjdoBTUK3GtbjR/ZN2FMiFF2sCadaXp7cXUPC0mDGfrCFwjw1pOKUPWlW4EBK/fVeR+++JprhIaAP0kZA7AjEqMWxHWOXE1rh+tkotpT5Ltes158qAlF3TmWlvfDsM9/rR2FMIyHH+reK3YBR7hVr7hslrXXpgqI+L3ZvJkAqYEAAAD4AZ8SakJ/AADdPFpaer1hbJ6N1MVACau4ikw68um+0dcH/FY01dnq58v2yWaE/4JL5RBo36hQvM0LFOLtr1CXVhiO02F1+2fGkCRk8SgleVIYEZASnJ3kuqaHqLRdVXL2dh2X52PLz1+tSAhxY1EHKY4YqscYDgovIxu0ApqFbjWtxo/sm7CmRCi7WBNOtL09uLqHhaS/Vn1hC4R4a0nFKHrSrcCAlfvqvI/ffE01wkNAH6SMgdgRiVGLYjrHLia1w/WyUW0p8l2vWa8+VASi7pzLS3vh2Ge/1o7CmEZDj/VvFbsAo9wq19w2S1rr0wVEfF7s5JyANCAAAAAYQZsXSahBbJlMCG///qeEAAADAAADAB8wAAAAGEGfNUUVLCv/AACs8mShuOzAmoXL+YJB9wAAAPgBn1R0Qn8AANz5txn8cE0pPRupioATV3EUmHXl032jrg/4rGmrs9XPl+2SzQn/BJfKING/V1R5mhYpxdteoS6sMR2mwuv2z40gSMniUErypDAjICU5O8l1TQ9RaLqq5ezsOy/Ox5eev1qQEOLGog5THDFVjjAcFF5GN2gFNQrca1uNH9k3YUyIUXawJp1pentxdQ8LSYMZ+sIXCPDWk4pQ9aVbgQEr99V5H774mmuEhoA/SRkDsCMSoxbEdY5cTWuH62Si2lPku16zXnyoCUXdOZaW98Owz3+tHYUwjIcf6t4rdgFHuFWvuGyWtdemCoj4vdm8mQCpgAAAAPgBn1ZqQn8AAN08Wlp6vWFsno3UxUAJq7iKTDry6b7R1wf8VjTV2erny/bJZoT/gkvlEGjfqFC8zQsU4u2vUJdWGI7TYXX7Z8aQJGTxKCV5UhgRkBKcneS6poeotF1VcvZ2HZfnY8vPX61ICHFjUQcpjhiqxxgOCi8jG7QCmoVuNa3Gj+ybsKZEKLtYE060vT24uoeFpL9WfWELhHhrScUoetKtwICV++q8j998TTXCQ0AfpIyB2BGJUYtiOscuJrXD9bJRbSnyXa9Zrz5UBKLunMtLe+HYZ7/WjsKYRkOP9W8VuwCj3CrX3DZLWuvTBUR8XuzknIA0IQAAABhBm1tJqEFsmUwIb//+p4QAAAMAAAMAHzEAAAAYQZ95RRUsK/8AAKzyZKG47MCahcv5gkH3AAAA+AGfmHRCfwAA3Pm3GfxwTSk9G6mKgBNXcRSYdeXTfaOuD/isaauz1c+X7ZLNCf8El8og0b9XVHmaFinF216hLqwxHabC6/bPjSBIyeJQSvKkMCMgJTk7yXVND1Fouqrl7Ow7L87Hl56/WpAQ4saiDlMcMVWOMBwUXkY3aAU1CtxrW40f2TdhTIhRdrAmnWl6e3F1DwtJgxn6whcI8NaTilD1pVuBASv31Xkfvviaa4SGgD9JGQOwIxKjFsR1jlxNa4frZKLaU+S7XrNefKgJRd05lpb3w7DPf60dhTCMhx/q3it2AUe4Va+4bJa116YKiPi92byZAKmBAAAA+AGfmmpCfwAA3TxaWnq9YWyejdTFQAmruIpMOvLpvtHXB/xWNNXZ6ufL9slmhP+CS+UQaN+oULzNCxTi7a9Ql1YYjtNhdftnxpAkZPEoJXlSGBGQEpyd5Lqmh6i0XVVy9nYdl+djy89frUgIcWNRBymOGKrHGA4KLyMbtAKahW41rcaP7JuwpkQou1gTTrS9Pbi6h4Wkv1Z9YQuEeGtJxSh60q3AgJX76ryP33xNNcJDQB+kjIHYEYlRi2I6xy4mtcP1slFtKfJdr1mvPlQEou6cy0t74dhnv9aOwphGQ4/1bxW7AKPcKtfcNkta69MFRHxe7OScgDQgAAAAGEGbn0moQWyZTAhv//6nhAAAAwAAAwAfMQAAABhBn71FFSwr/wAArPJkobjswJqFy/mCQfcAAAD4AZ/cdEJ/AADc+bcZ/HBNKT0bqYqAE1dxFJh15dN9o64P+Kxpq7PVz5ftks0J/wSXyiDRv1dUeZoWKcXbXqEurDEdpsLr9s+NIEjJ4lBK8qQwIyAlOTvJdU0PUWi6quXs7DsvzseXnr9akBDixqIOUxwxVY4wHBReRjdoBTUK3GtbjR/ZN2FMiFF2sCadaXp7cXUPC0mDGfrCFwjw1pOKUPWlW4EBK/fVeR+++JprhIaAP0kZA7AjEqMWxHWOXE1rh+tkotpT5Ltes158qAlF3TmWlvfDsM9/rR2FMIyHH+reK3YBR7hVr7hslrXXpgqI+L3ZvJkAqYAAAAD4AZ/eakJ/AADdPFpaer1hbJ6N1MVACau4ikw68um+0dcH/FY01dnq58v2yWaE/4JL5RBo36hQvM0LFOLtr1CXVhiO02F1+2fGkCRk8SgleVIYEZASnJ3kuqaHqLRdVXL2dh2X52PLz1+tSAhxY1EHKY4YqscYDgovIxu0ApqFbjWtxo/sm7CmRCi7WBNOtL09uLqHhaS/Vn1hC4R4a0nFKHrSrcCAlfvqvI/ffE01wkNAH6SMgdgRiVGLYjrHLia1w/WyUW0p8l2vWa8+VASi7pzLS3vh2Ge/1o7CmEZDj/VvFbsAo9wq19w2S1rr0wVEfF7s5JyANCAAAAAYQZvDSahBbJlMCG///qeEAAADAAADAB8xAAAAGEGf4UUVLCv/AACs8mShuOzAmoXL+YJB9wAAAPgBngB0Qn8AANz5txn8cE0pPRupioATV3EUmHXl032jrg/4rGmrs9XPl+2SzQn/BJfKING/V1R5mhYpxdteoS6sMR2mwuv2z40gSMniUErypDAjICU5O8l1TQ9RaLqq5ezsOy/Ox5eev1qQEOLGog5THDFVjjAcFF5GN2gFNQrca1uNH9k3YUyIUXawJp1pentxdQ8LSYMZ+sIXCPDWk4pQ9aVbgQEr99V5H774mmuEhoA/SRkDsCMSoxbEdY5cTWuH62Si2lPku16zXnyoCUXdOZaW98Owz3+tHYUwjIcf6t4rdgFHuFWvuGyWtdemCoj4vdm8mQCpgQAAAPgBngJqQn8AAN08Wlp6vWFsno3UxUAJq7iKTDry6b7R1wf8VjTV2erny/bJZoT/gkvlEGjfqFC8zQsU4u2vUJdWGI7TYXX7Z8aQJGTxKCV5UhgRkBKcneS6poeotF1VcvZ2HZfnY8vPX61ICHFjUQcpjhiqxxgOCi8jG7QCmoVuNa3Gj+ybsKZEKLtYE060vT24uoeFpL9WfWELhHhrScUoetKtwICV++q8j998TTXCQ0AfpIyB2BGJUYtiOscuJrXD9bJRbSnyXa9Zrz5UBKLunMtLe+HYZ7/WjsKYRkOP9W8VuwCj3CrX3DZLWuvTBUR8XuzknIA0IAAAABhBmgdJqEFsmUwIb//+p4QAAAMAAAMAHzEAAAAYQZ4lRRUsK/8AAKzyZKG47MCahcv5gkH3AAAA+AGeRHRCfwAA3Pm3GfxwTSk9G6mKgBNXcRSYdeXTfaOuD/isaauz1c+X7ZLNCf8El8og0b9XVHmaFinF216hLqwxHabC6/bPjSBIyeJQSvKkMCMgJTk7yXVND1Fouqrl7Ow7L87Hl56/WpAQ4saiDlMcMVWOMBwUXkY3aAU1CtxrW40f2TdhTIhRdrAmnWl6e3F1DwtJgxn6whcI8NaTilD1pVuBASv31Xkfvviaa4SGgD9JGQOwIxKjFsR1jlxNa4frZKLaU+S7XrNefKgJRd05lpb3w7DPf60dhTCMhx/q3it2AUe4Va+4bJa116YKiPi92byZAKmBAAAA+AGeRmpCfwAA3TxaWnq9YWyejdTFQAmruIpMOvLpvtHXB/xWNNXZ6ufL9slmhP+CS+UQaN+oULzNCxTi7a9Ql1YYjtNhdftnxpAkZPEoJXlSGBGQEpyd5Lqmh6i0XVVy9nYdl+djy89frUgIcWNRBymOGKrHGA4KLyMbtAKahW41rcaP7JuwpkQou1gTTrS9Pbi6h4Wkv1Z9YQuEeGtJxSh60q3AgJX76ryP33xNNcJDQB+kjIHYEYlRi2I6xy4mtcP1slFtKfJdr1mvPlQEou6cy0t74dhnv9aOwphGQ4/1bxW7AKPcKtfcNkta69MFRHxe7OScgDQhAAAAGEGaS0moQWyZTAhv//6nhAAAAwAAAwAfMAAAABhBnmlFFSwr/wAArPJkobjswJqFy/mCQfcAAAD4AZ6IdEJ/AADc+bcZ/HBNKT0bqYqAE1dxFJh15dN9o64P+Kxpq7PVz5ftks0J/wSXyiDRv1dUeZoWKcXbXqEurDEdpsLr9s+NIEjJ4lBK8qQwIyAlOTvJdU0PUWi6quXs7DsvzseXnr9akBDixqIOUxwxVY4wHBReRjdoBTUK3GtbjR/ZN2FMiFF2sCadaXp7cXUPC0mDGfrCFwjw1pOKUPWlW4EBK/fVeR+++JprhIaAP0kZA7AjEqMWxHWOXE1rh+tkotpT5Ltes158qAlF3TmWlvfDsM9/rR2FMIyHH+reK3YBR7hVr7hslrXXpgqI+L3ZvJkAqYEAAAD4AZ6KakJ/AADdPFpaer1hbJ6N1MVACau4ikw68um+0dcH/FY01dnq58v2yWaE/4JL5RBo36hQvM0LFOLtr1CXVhiO02F1+2fGkCRk8SgleVIYEZASnJ3kuqaHqLRdVXL2dh2X52PLz1+tSAhxY1EHKY4YqscYDgovIxu0ApqFbjWtxo/sm7CmRCi7WBNOtL09uLqHhaS/Vn1hC4R4a0nFKHrSrcCAlfvqvI/ffE01wkNAH6SMgdgRiVGLYjrHLia1w/WyUW0p8l2vWa8+VASi7pzLS3vh2Ge/1o7CmEZDj/VvFbsAo9wq19w2S1rr0wVEfF7s5JyANCAAAAAYQZqPSahBbJlMCG///qeEAAADAAADAB8wAAAAGEGerUUVLCv/AACs8mShuOzAmoXL+YJB9wAAAPgBnsx0Qn8AANz5txn8cE0pPRupioATV3EUmHXl032jrg/4rGmrs9XPl+2SzQn/BJfKING/V1R5mhYpxdteoS6sMR2mwuv2z40gSMniUErypDAjICU5O8l1TQ9RaLqq5ezsOy/Ox5eev1qQEOLGog5THDFVjjAcFF5GN2gFNQrca1uNH9k3YUyIUXawJp1pentxdQ8LSYMZ+sIXCPDWk4pQ9aVbgQEr99V5H774mmuEhoA/SRkDsCMSoxbEdY5cTWuH62Si2lPku16zXnyoCUXdOZaW98Owz3+tHYUwjIcf6t4rdgFHuFWvuGyWtdemCoj4vdm8mQCpgQAAAPgBns5qQn8AAN08Wlp6vWFsno3UxUAJq7iKTDry6b7R1wf8VjTV2erny/bJZoT/gkvlEGjfqFC8zQsU4u2vUJdWGI7TYXX7Z8aQJGTxKCV5UhgRkBKcneS6poeotF1VcvZ2HZfnY8vPX61ICHFjUQcpjhiqxxgOCi8jG7QCmoVuNa3Gj+ybsKZEKLtYE060vT24uoeFpL9WfWELhHhrScUoetKtwICV++q8j998TTXCQ0AfpIyB2BGJUYtiOscuJrXD9bJRbSnyXa9Zrz5UBKLunMtLe+HYZ7/WjsKYRkOP9W8VuwCj3CrX3DZLWuvTBUR8XuzknIA0IQAAABhBmtNJqEFsmUwIb//+p4QAAAMAAAMAHzAAAAAYQZ7xRRUsK/8AAKzyZKG47MCahcv5gkH3AAAA+AGfEHRCfwAA3Pm3GfxwTSk9G6mKgBNXcRSYdeXTfaOuD/isaauz1c+X7ZLNCf8El8og0b9XVHmaFinF216hLqwxHabC6/bPjSBIyeJQSvKkMCMgJTk7yXVND1Fouqrl7Ow7L87Hl56/WpAQ4saiDlMcMVWOMBwUXkY3aAU1CtxrW40f2TdhTIhRdrAmnWl6e3F1DwtJgxn6whcI8NaTilD1pVuBASv31Xkfvviaa4SGgD9JGQOwIxKjFsR1jlxNa4frZKLaU+S7XrNefKgJRd05lpb3w7DPf60dhTCMhx/q3it2AUe4Va+4bJa116YKiPi92byZAKmBAAAA+AGfEmpCfwAA3TxaWnq9YWyejdTFQAmruIpMOvLpvtHXB/xWNNXZ6ufL9slmhP+CS+UQaN+oULzNCxTi7a9Ql1YYjtNhdftnxpAkZPEoJXlSGBGQEpyd5Lqmh6i0XVVy9nYdl+djy89frUgIcWNRBymOGKrHGA4KLyMbtAKahW41rcaP7JuwpkQou1gTTrS9Pbi6h4Wkv1Z9YQuEeGtJxSh60q3AgJX76ryP33xNNcJDQB+kjIHYEYlRi2I6xy4mtcP1slFtKfJdr1mvPlQEou6cy0t74dhnv9aOwphGQ4/1bxW7AKPcKtfcNkta69MFRHxe7OScgDQgAAAAGEGbF0moQWyZTAhv//6nhAAAAwAAAwAfMAAAABhBnzVFFSwr/wAArPJkobjswJqFy/mCQfcAAAD4AZ9UdEJ/AADc+bcZ/HBNKT0bqYqAE1dxFJh15dN9o64P+Kxpq7PVz5ftks0J/wSXyiDRv1dUeZoWKcXbXqEurDEdpsLr9s+NIEjJ4lBK8qQwIyAlOTvJdU0PUWi6quXs7DsvzseXnr9akBDixqIOUxwxVY4wHBReRjdoBTUK3GtbjR/ZN2FMiFF2sCadaXp7cXUPC0mDGfrCFwjw1pOKUPWlW4EBK/fVeR+++JprhIaAP0kZA7AjEqMWxHWOXE1rh+tkotpT5Ltes158qAlF3TmWlvfDsM9/rR2FMIyHH+reK3YBR7hVr7hslrXXpgqI+L3ZvJkAqYAAAAD4AZ9WakJ/AADdPFpaer1hbJ6N1MVACau4ikw68um+0dcH/FY01dnq58v2yWaE/4JL5RBo36hQvM0LFOLtr1CXVhiO02F1+2fGkCRk8SgleVIYEZASnJ3kuqaHqLRdVXL2dh2X52PLz1+tSAhxY1EHKY4YqscYDgovIxu0ApqFbjWtxo/sm7CmRCi7WBNOtL09uLqHhaS/Vn1hC4R4a0nFKHrSrcCAlfvqvI/ffE01wkNAH6SMgdgRiVGLYjrHLia1w/WyUW0p8l2vWa8+VASi7pzLS3vh2Ge/1o7CmEZDj/VvFbsAo9wq19w2S1rr0wVEfF7s5JyANCEAAAAYQZtbSahBbJlMCG///qeEAAADAAADAB8xAAAAGEGfeUUVLCv/AACs8mShuOzAmoXL+YJB9wAAAPgBn5h0Qn8AANz5txn8cE0pPRupioATV3EUmHXl032jrg/4rGmrs9XPl+2SzQn/BJfKING/V1R5mhYpxdteoS6sMR2mwuv2z40gSMniUErypDAjICU5O8l1TQ9RaLqq5ezsOy/Ox5eev1qQEOLGog5THDFVjjAcFF5GN2gFNQrca1uNH9k3YUyIUXawJp1pentxdQ8LSYMZ+sIXCPDWk4pQ9aVbgQEr99V5H774mmuEhoA/SRkDsCMSoxbEdY5cTWuH62Si2lPku16zXnyoCUXdOZaW98Owz3+tHYUwjIcf6t4rdgFHuFWvuGyWtdemCoj4vdm8mQCpgQAAAPgBn5pqQn8AAN08Wlp6vWFsno3UxUAJq7iKTDry6b7R1wf8VjTV2erny/bJZoT/gkvlEGjfqFC8zQsU4u2vUJdWGI7TYXX7Z8aQJGTxKCV5UhgRkBKcneS6poeotF1VcvZ2HZfnY8vPX61ICHFjUQcpjhiqxxgOCi8jG7QCmoVuNa3Gj+ybsKZEKLtYE060vT24uoeFpL9WfWELhHhrScUoetKtwICV++q8j998TTXCQ0AfpIyB2BGJUYtiOscuJrXD9bJRbSnyXa9Zrz5UBKLunMtLe+HYZ7/WjsKYRkOP9W8VuwCj3CrX3DZLWuvTBUR8XuzknIA0IAAAABhBm59JqEFsmUwIb//+p4QAAAMAAAMAHzEAAAAYQZ+9RRUsK/8AAKzyZKG47MCahcv5gkH3AAAA+AGf3HRCfwAA3Pm3GfxwTSk9G6mKgBNXcRSYdeXTfaOuD/isaauz1c+X7ZLNCf8El8og0b9XVHmaFinF216hLqwxHabC6/bPjSBIyeJQSvKkMCMgJTk7yXVND1Fouqrl7Ow7L87Hl56/WpAQ4saiDlMcMVWOMBwUXkY3aAU1CtxrW40f2TdhTIhRdrAmnWl6e3F1DwtJgxn6whcI8NaTilD1pVuBASv31Xkfvviaa4SGgD9JGQOwIxKjFsR1jlxNa4frZKLaU+S7XrNefKgJRd05lpb3w7DPf60dhTCMhx/q3it2AUe4Va+4bJa116YKiPi92byZAKmAAAAA+AGf3mpCfwAA3TxaWnq9YWyejdTFQAmruIpMOvLpvtHXB/xWNNXZ6ufL9slmhP+CS+UQaN+oULzNCxTi7a9Ql1YYjtNhdftnxpAkZPEoJXlSGBGQEpyd5Lqmh6i0XVVy9nYdl+djy89frUgIcWNRBymOGKrHGA4KLyMbtAKahW41rcaP7JuwpkQou1gTTrS9Pbi6h4Wkv1Z9YQuEeGtJxSh60q3AgJX76ryP33xNNcJDQB+kjIHYEYlRi2I6xy4mtcP1slFtKfJdr1mvPlQEou6cy0t74dhnv9aOwphGQ4/1bxW7AKPcKtfcNkta69MFRHxe7OScgDQgAAAAGEGbw0moQWyZTAhn//6eEAAAAwAAAwB6QQAAABhBn+FFFSwr/wAArPJkobjswJqFy/mCQfcAAAD4AZ4AdEJ/AADc+bcZ/HBNKT0bqYqAE1dxFJh15dN9o64P+Kxpq7PVz5ftks0J/wSXyiDRv1dUeZoWKcXbXqEurDEdpsLr9s+NIEjJ4lBK8qQwIyAlOTvJdU0PUWi6quXs7DsvzseXnr9akBDixqIOUxwxVY4wHBReRjdoBTUK3GtbjR/ZN2FMiFF2sCadaXp7cXUPC0mDGfrCFwjw1pOKUPWlW4EBK/fVeR+++JprhIaAP0kZA7AjEqMWxHWOXE1rh+tkotpT5Ltes158qAlF3TmWlvfDsM9/rR2FMIyHH+reK3YBR7hVr7hslrXXpgqI+L3ZvJkAqYEAAAD4AZ4CakJ/AADdPFpaer1hbJ6N1MVACau4ikw68um+0dcH/FY01dnq58v2yWaE/4JL5RBo36hQvM0LFOLtr1CXVhiO02F1+2fGkCRk8SgleVIYEZASnJ3kuqaHqLRdVXL2dh2X52PLz1+tSAhxY1EHKY4YqscYDgovIxu0ApqFbjWtxo/sm7CmRCi7WBNOtL09uLqHhaS/Vn1hC4R4a0nFKHrSrcCAlfvqvI/ffE01wkNAH6SMgdgRiVGLYjrHLia1w/WyUW0p8l2vWa8+VASi7pzLS3vh2Ge/1o7CmEZDj/VvFbsAo9wq19w2S1rr0wVEfF7s5JyANCAAAAAXQZoHSahBbJlMCFf//jhAAAADAAADAd0AAAAYQZ4lRRUsK/8AAKzyZKG47MCahcv5gkH3AAAA+AGeRHRCfwAA3Pm3GfxwTSk9G6mKgBNXcRSYdeXTfaOuD/isaauz1c+X7ZLNCf8El8og0b9XVHmaFinF216hLqwxHabC6/bPjSBIyeJQSvKkMCMgJTk7yXVND1Fouqrl7Ow7L87Hl56/WpAQ4saiDlMcMVWOMBwUXkY3aAU1CtxrW40f2TdhTIhRdrAmnWl6e3F1DwtJgxn6whcI8NaTilD1pVuBASv31Xkfvviaa4SGgD9JGQOwIxKjFsR1jlxNa4frZKLaU+S7XrNefKgJRd05lpb3w7DPf60dhTCMhx/q3it2AUe4Va+4bJa116YKiPi92byZAKmBAAAA+AGeRmpCfwAA3TxaWnq9YWyejdTFQAmruIpMOvLpvtHXB/xWNNXZ6ufL9slmhP+CS+UQaN+oULzNCxTi7a9Ql1YYjtNhdftnxpAkZPEoJXlSGBGQEpyd5Lqmh6i0XVVy9nYdl+djy89frUgIcWNRBymOGKrHGA4KLyMbtAKahW41rcaP7JuwpkQou1gTTrS9Pbi6h4Wkv1Z9YQuEeGtJxSh60q3AgJX76ryP33xNNcJDQB+kjIHYEYlRi2I6xy4mtcP1slFtKfJdr1mvPlQEou6cy0t74dhnv9aOwphGQ4/1bxW7AKPcKtfcNkta69MFRHxe7OScgDQhAAAA/EGaSEmoQWyZTAhP//3xAAADAH91Mno3Q4AAfzuIpMOvLpvtHXB/xWNNXZ6ufL9slmhP+CS+UQaN/X+HmaFijr216hLqwxHabC6/bPjSBIyeJQSx2Ah8igKdOTvJdU0PUWi6quXs7DsvzseXnr9ajzAXQaMgcKGCkN2G6QUXkY3aAU1CtxrW40f2TdhTIhRdrAmnWl6e3F1DwtKGp7uWR8I8HKTilD1pVuBASv31Xkfvviaa4SGgDsesT+LANyeLGqCA6wrm2H62Si2lPku16zXnw6jkLunMtLe+HYZ7/WjsKYRkOP9W8VuwCj3CrX3DZLWuvTBUR8ZKEgBEwAAAC/dtb292AAAAbG12aGQAAAAAAAAAAAAAAAAAAAPoAAAaLAABAAABAAAAAAAAAAAAAAAAAQAAAAAAAAAAAAAAAAAAAAEAAAAAAAAAAAAAAAAAAEAAAAAAAAAAAAAAAAAAAAAAAAAAAAAAAAAAAAAAAAACAAALInRyYWsAAABcdGtoZAAAAAMAAAAAAAAAAAAAAAEAAAAAAAAaLAAAAAAAAAAAAAAAAAAAAAAAAQAAAAAAAAAAAAAAAAAAAAEAAAAAAAAAAAAAAAAAAEAAAAAB9AAAAfQAAAAAACRlZHRzAAAAHGVsc3QAAAAAAAAAAQAAGiwAAAQAAAEAAAAACpptZGlhAAAAIG1kaGQAAAAAAAAAAAAAAAAAADwAAAGSAFXEAAAAAAAtaGRscgAAAAAAAAAAdmlkZQAAAAAAAAAAAAAAAFZpZGVvSGFuZGxlcgAAAApFbWluZgAAABR2bWhkAAAAAQAAAAAAAAAAAAAAJGRpbmYAAAAcZHJlZgAAAAAAAAABAAAADHVybCAAAAABAAAKBXN0YmwAAACxc3RzZAAAAAAAAAABAAAAoWF2YzEAAAAAAAAAAQAAAAAAAAAAAAAAAAAAAAAB9AH0AEgAAABIAAAAAAAAAAEUTGF2YzYxLjMuMTAwIGxpYngyNjQAAAAAAAAAAAAAAAAY//8AAAA3YXZjQwFkAB7/4QAaZ2QAHqzZQIAQeeeEAAADAAQAAAMA8DxYtlgBAAZo6+PLIsD9+PgAAAAAFGJ0cnQAAAAAAADv5AAA7+QAAAAYc3R0cwAAAAAAAAABAAAAyQAAAgAAAAAUc3RzcwAAAAAAAAABAAAAAQAABbhjdHRzAAAAAAAAALUAAAABAAAEAAAAAAEAAAYAAAAAAQAAAgAAAAABAAAGAAAAAAEAAAIAAAAAAQAABgAAAAABAAACAAAAAAEAAAgAAAAAAgAAAgAAAAABAAAKAAAAAAEAAAQAAAAAAQAAAAAAAAABAAACAAAAAAEAAAYAAAAAAQAAAgAAAAABAAAEAAAAAAEAAAYAAAAAAQAAAgAAAAAFAAAEAAAAAAEAAAYAAAAAAQAAAgAAAAABAAAKAAAAAAEAAAQAAAAAAQAAAAAAAAABAAACAAAAAAIAAAQAAAAAAQAACAAAAAACAAACAAAAAAEAAAYAAAAAAQAAAgAAAAABAAAGAAAAAAEAAAIAAAAAAQAACAAAAAACAAACAAAAAAEAAAYAAAAAAQAAAgAAAAABAAAKAAAAAAEAAAQAAAAAAQAAAAAAAAABAAACAAAAAAEAAAoAAAAAAQAABAAAAAABAAAAAAAAAAEAAAIAAAAAAQAABgAAAAABAAACAAAAAAQAAAQAAAAAAQAACgAAAAABAAAEAAAAAAEAAAAAAAAAAQAAAgAAAAACAAAEAAAAAAEAAAoAAAAAAQAABAAAAAABAAAAAAAAAAEAAAIAAAAAAQAACAAAAAACAAACAAAAAAEAAAoAAAAAAQAABAAAAAABAAAAAAAAAAEAAAIAAAAAAQAACAAAAAACAAACAAAAAAUAAAQAAAAAAQAABgAAAAABAAACAAAAAAEAAAgAAAAAAgAAAgAAAAACAAAEAAAAAAEAAAoAAAAAAQAABAAAAAABAAAAAAAAAAEAAAIAAAAAAQAACgAAAAABAAAEAAAAAAEAAAAAAAAAAQAAAgAAAAABAAAKAAAAAAEAAAQAAAAAAQAAAAAAAAABAAACAAAAAAEAAAoAAAAAAQAABAAAAAABAAAAAAAAAAEAAAIAAAAAAQAABgAAAAABAAACAAAAAAEAAAoAAAAAAQAABAAAAAABAAAAAAAAAAEAAAIAAAAAAQAACgAAAAABAAAEAAAAAAEAAAAAAAAAAQAAAgAAAAABAAAKAAAAAAEAAAQAAAAAAQAAAAAAAAABAAACAAAAAAEAAAoAAAAAAQAABAAAAAABAAAAAAAAAAEAAAIAAAAAAQAACgAAAAABAAAEAAAAAAEAAAAAAAAAAQAAAgAAAAABAAAKAAAAAAEAAAQAAAAAAQAAAAAAAAABAAACAAAAAAEAAAoAAAAAAQAABAAAAAABAAAAAAAAAAEAAAIAAAAAAQAACgAAAAABAAAEAAAAAAEAAAAAAAAAAQAAAgAAAAABAAAKAAAAAAEAAAQAAAAAAQAAAAAAAAABAAACAAAAAAEAAAoAAAAAAQAABAAAAAABAAAAAAAAAAEAAAIAAAAAAQAACgAAAAABAAAEAAAAAAEAAAAAAAAAAQAAAgAAAAABAAAKAAAAAAEAAAQAAAAAAQAAAAAAAAABAAACAAAAAAEAAAoAAAAAAQAABAAAAAABAAAAAAAAAAEAAAIAAAAAAQAACgAAAAABAAAEAAAAAAEAAAAAAAAAAQAAAgAAAAABAAAKAAAAAAEAAAQAAAAAAQAAAAAAAAABAAACAAAAAAEAAAoAAAAAAQAABAAAAAABAAAAAAAAAAEAAAIAAAAAAQAACgAAAAABAAAEAAAAAAEAAAAAAAAAAQAAAgAAAAABAAAKAAAAAAEAAAQAAAAAAQAAAAAAAAABAAACAAAAAAEAAAoAAAAAAQAABAAAAAABAAAAAAAAAAEAAAIAAAAAAQAACgAAAAABAAAEAAAAAAEAAAAAAAAAAQAAAgAAAAABAAAKAAAAAAEAAAQAAAAAAQAAAAAAAAABAAACAAAAAAEAAAoAAAAAAQAABAAAAAABAAAAAAAAAAEAAAIAAAAAAQAACgAAAAABAAAEAAAAAAEAAAAAAAAAAQAAAgAAAAABAAAEAAAAABxzdHNjAAAAAAAAAAEAAAABAAAAyQAAAAEAAAM4c3RzegAAAAAAAAAAAAAAyQAABR8AAALLAAAAggAAAWAAAAB9AAABigAAAIsAAAGgAAAAlgAAAHwAAAFIAAAAlgAAAFcAAAApAAACZgAAAJUAAAEkAAABbgAAANIAAAEzAAABQwAAAWYAAAF1AAABigAAAj4AAAC1AAABZwAAAL8AAAB1AAAAiQAAAa0AAAHcAAACYAAAASUAAAEiAAABfgAAAQUAAAI/AAABKgAAAp4AAAFwAAABIgAAAi8AAADLAAABjwAAAJEAAACcAAAATwAAAbYAAADpAAAAhwAAANIAAALQAAABkgAAAecAAAGlAAABrwAAAc4AAAJKAAACNAAAAYcAAAEQAAAB5gAAAasAAAJ9AAAA2gAAAJcAAABsAAAAkgAAAFIAAABWAAABzwAAAewAAAEBAAAA6QAAAyQAAAHvAAABhwAAAjIAAAGpAAACLwAAAngAAAH5AAABUQAAAbUAAAP7AAAB4AAAAR4AAAG6AAABfAAAAvwAAAE+AAAA5gAAAJ8AAAIcAAABbAAAAM8AAAC9AAABzwAAALwAAAC1AAAAVAAAAO8AAABgAAAAUgAAAK4AAACSAAAA6QAAAM4AAAA6AAABAQAAAQAAAABuAAAAKQAAAP0AAAD5AAAAIwAAABwAAAEVAAABFQAAAGoAAAAkAAABBAAAAPwAAAAcAAAAHAAAAPwAAAD8AAAAHAAAABwAAAD8AAAA/AAAABwAAAAcAAAA/AAAAPwAAAAcAAAAHAAAAPwAAAD8AAAAHAAAABwAAAD8AAAA/AAAABwAAAAcAAAA/AAAAPwAAAAcAAAAHAAAAPwAAAD8AAAAHAAAABwAAAD8AAAA/AAAABwAAAAcAAAA/AAAAPwAAAAcAAAAHAAAAPwAAAD8AAAAHAAAABwAAAD8AAAA/AAAABwAAAAcAAAA/AAAAPwAAAAcAAAAHAAAAPwAAAD8AAAAHAAAABwAAAD8AAAA/AAAABwAAAAcAAAA/AAAAPwAAAAcAAAAHAAAAPwAAAD8AAAAHAAAABwAAAD8AAAA/AAAABwAAAAcAAAA/AAAAPwAAAAbAAAAHAAAAPwAAAD8AAABAAAAABRzdGNvAAAAAAAAAAEAAAAwAAAAYXVkdGEAAABZbWV0YQAAAAAAAAAhaGRscgAAAAAAAAAAbWRpcmFwcGwAAAAAAAAAAAAAAAAsaWxzdAAAACSpdG9vAAAAHGRhdGEAAAABAAAAAExhdmY2MS4xLjEwMA==' controls>Sorry, seems like your browser doesn't support HTML5 audio/video</video></div>"
      ],
      "text/plain": [
       "<moviepy.video.io.html_tools.HTML2 object>"
      ]
     },
     "execution_count": 13,
     "metadata": {},
     "output_type": "execute_result"
    }
   ],
   "source": [
    "ddpg = DDPG(OmegaConf.create(params))\n",
    "run_ddpg(ddpg)\n",
    "ddpg.visualize_best()"
   ]
  },
  {
   "cell_type": "markdown",
   "id": "30764f0c",
   "metadata": {},
   "source": [
    "## What's next?\n",
    "\n",
    "Starting from the above version , you should code [the TD3\n",
    "algorithm](http://proceedings.mlr.press/v80/fujimoto18a/fujimoto18a.pdf).\n",
    "\n",
    "## Differences with DDPG\n",
    "\n",
    "### Target policy smoothing\n",
    "\n",
    "The noise is clipped\n",
    "\n",
    "### Clipped double-Q learning\n",
    "\n",
    "$$y(r,s',d) = r + \\gamma (1 - d) \\min_{i=1,2} Q_{\\phi_{i, \\text{targ}}}(s', a'(s'))$$\n",
    "\n",
    "where both Q-value estimators are learned using the following loss:\n",
    "\n",
    "$$L(\\phi_1, {\\mathcal D}) = \\mathbb{E}_{(s,a,r,s',d) \\sim {\\mathcal D}}{\\Bigg( Q_{\\phi_1}(s,a) - y(r,s',d) \\Bigg)^2}$$\n",
    "$$L(\\phi_2, {\\mathcal D}) = \\mathbb{E}_{(s,a,r,s',d) \\sim {\\mathcal D}}{\\Bigg( Q_{\\phi_2}(s,a) - y(r,s',d) \\Bigg)^2}.$$\n",
    "\n",
    "### Policy learning\n",
    "\n",
    "We learn the policy with using the first critic ($\\Phi_1$)\n",
    "$$\\max_{\\theta} \\underset{s \\sim {\\mathcal D}}{{\\mathrm E}}\\left[ Q_{\\phi_1}(s, \\mu_{\\theta}(s)) \\right]$$\n",
    "\n",
    "## Algorithm details\n",
    "\n",
    "For that, you need to use two critics (and two target critics) and always take\n",
    "the minimum output between the two when you ask for the Q-value of a (state,\n",
    "action) pair.\n",
    "\n",
    "In more detail, you have to do the following:\n",
    "- replace the single critic and corresponding target critic with two critics\n",
    "  and target critics (name them ```critic_1, critic_2, target_critic_1,\n",
    "  target_critic_2```)\n",
    "- get the q-values and target q-values corresponding to all these critics.\n",
    "- then the target q-values you should consider to update the critic should be\n",
    "  the minimum over the target q-values at each step (use ```torch.min(...)``` to\n",
    "  get this min over a sequence of data).\n",
    "- to update the actor, do it with the q-values of an arbitrarily chosen\n",
    "  critic, e.g. critic_1."
   ]
  },
  {
   "cell_type": "code",
   "execution_count": 15,
   "id": "c631d73f",
   "metadata": {},
   "outputs": [],
   "source": [
    "class TD3(EpochBasedAlgo):\n",
    "    def __init__(self, cfg):\n",
    "        super().__init__(cfg)\n",
    "\n",
    "        obs_size, act_size = self.train_env.get_obs_and_actions_sizes()\n",
    "        \n",
    "        # Define two critics and their target critics\n",
    "        self.critic_1 = ContinuousQAgent(\n",
    "            obs_size, cfg.algorithm.architecture.critic_hidden_size, act_size\n",
    "        ).with_prefix(\"critic_1/\")\n",
    "        self.critic_2 = ContinuousQAgent(\n",
    "            obs_size, cfg.algorithm.architecture.critic_hidden_size, act_size\n",
    "        ).with_prefix(\"critic_2/\")\n",
    "        self.target_critic_1 = copy.deepcopy(self.critic_1).with_prefix(\"target_critic_1/\")\n",
    "        self.target_critic_2 = copy.deepcopy(self.critic_2).with_prefix(\"target_critic_2/\")\n",
    "\n",
    "        self.actor = ContinuousDeterministicActor(\n",
    "            obs_size, cfg.algorithm.architecture.actor_hidden_size, act_size\n",
    "        )\n",
    "\n",
    "        # As an alternative, you can use `AddOUNoise`\n",
    "        noise_agent = AddGaussianNoise(cfg.algorithm.action_noise)\n",
    "\n",
    "        self.train_policy = Agents(self.actor, noise_agent)\n",
    "        self.eval_policy = self.actor\n",
    "\n",
    "        # Define agents over time\n",
    "        self.t_actor = TemporalAgent(self.actor)\n",
    "        self.t_critic_1 = TemporalAgent(self.critic_1)\n",
    "        self.t_critic_2 = TemporalAgent(self.critic_2)\n",
    "        self.t_target_critic_1 = TemporalAgent(self.target_critic_1)\n",
    "        self.t_target_critic_2 = TemporalAgent(self.target_critic_2)\n",
    "\n",
    "        # Configure the optimizer\n",
    "        self.actor_optimizer = setup_optimizer(cfg.actor_optimizer, self.actor)\n",
    "        self.critic_optimizer_1 = setup_optimizer(cfg.critic_optimizer, self.critic_1)\n",
    "        self.critic_optimizer_2 = setup_optimizer(cfg.critic_optimizer, self.critic_2)\n",
    "\n",
    "def run_td3(td3: TD3):\n",
    "    for rb in td3.iter_replay_buffers():\n",
    "        rb_workspace = rb.get_shuffled(td3.cfg.algorithm.batch_size)\n",
    "        terminated, reward = rb_workspace[\"env/terminated\", \"env/reward\"]\n",
    "\n",
    "        # Determines whether values of the critic should be propagated\n",
    "        must_bootstrap = ~terminated\n",
    "\n",
    "        # Critic update\n",
    "        td3.t_critic_1(rb_workspace, t=0, n_steps=1)\n",
    "        td3.t_critic_2(rb_workspace, t=0, n_steps=1)\n",
    "\n",
    "        with torch.no_grad():\n",
    "            td3.t_actor(rb_workspace, t=1, n_steps=1)\n",
    "            td3.t_target_critic_1(rb_workspace, t=1, n_steps=1)\n",
    "            td3.t_target_critic_2(rb_workspace, t=1, n_steps=1)\n",
    "\n",
    "        q_values_1, q_values_2 = rb_workspace[\"critic_1/q_value\", \"critic_2/q_value\"]\n",
    "        target_q_values_1, target_q_values_2 = rb_workspace[\"target_critic_1/q_value\", \"target_critic_2/q_value\"]\n",
    "\n",
    "        target_q_values = torch.min(target_q_values_1, target_q_values_2)\n",
    "\n",
    "        critic_loss_1 = compute_critic_loss(\n",
    "            td3.cfg, reward, must_bootstrap, q_values_1, target_q_values\n",
    "        )\n",
    "        critic_loss_2 = compute_critic_loss(\n",
    "            td3.cfg, reward, must_bootstrap, q_values_2, target_q_values\n",
    "        )\n",
    "\n",
    "        td3.logger.add_log(\"critic_loss_1\", critic_loss_1, td3.nb_steps)\n",
    "        td3.logger.add_log(\"critic_loss_2\", critic_loss_2, td3.nb_steps)\n",
    "\n",
    "        td3.critic_optimizer_1.zero_grad()\n",
    "        critic_loss_1.backward()\n",
    "        torch.nn.utils.clip_grad_norm_(\n",
    "            td3.critic_1.parameters(), td3.cfg.algorithm.max_grad_norm\n",
    "        )\n",
    "        td3.critic_optimizer_1.step()\n",
    "\n",
    "        td3.critic_optimizer_2.zero_grad()\n",
    "        critic_loss_2.backward()\n",
    "        torch.nn.utils.clip_grad_norm_(\n",
    "            td3.critic_2.parameters(), td3.cfg.algorithm.max_grad_norm\n",
    "        )\n",
    "        td3.critic_optimizer_2.step()\n",
    "\n",
    "        # Actor update\n",
    "        td3.t_actor(rb_workspace, t=0, n_steps=1)\n",
    "        td3.t_critic_1(rb_workspace, t=0, n_steps=1)\n",
    "\n",
    "        q_values = rb_workspace[\"critic_1/q_value\"]\n",
    "        actor_loss = compute_actor_loss(q_values)\n",
    "\n",
    "        td3.logger.add_log(\"actor_loss\", actor_loss, td3.nb_steps)\n",
    "\n",
    "        td3.actor_optimizer.zero_grad()\n",
    "        actor_loss.backward()\n",
    "        torch.nn.utils.clip_grad_norm_(\n",
    "            td3.actor.parameters(), td3.cfg.algorithm.max_grad_norm\n",
    "        )\n",
    "        td3.actor_optimizer.step()\n",
    "\n",
    "        # Soft update of target critics\n",
    "        soft_update_params(\n",
    "            td3.critic_1, td3.target_critic_1, td3.cfg.algorithm.tau_target\n",
    "        )\n",
    "        soft_update_params(\n",
    "            td3.critic_2, td3.target_critic_2, td3.cfg.algorithm.tau_target\n",
    "        )\n",
    "\n",
    "        if td3.evaluate():\n",
    "            if td3.cfg.plot_agents:\n",
    "                plot_policy(\n",
    "                    td3.actor,\n",
    "                    td3.eval_env,\n",
    "                    td3.best_reward,\n",
    "                    str(td3.base_dir / \"plots\"),\n",
    "                    td3.cfg.gym_env.env_name,\n",
    "                    stochastic=False,\n",
    "                )\n"
   ]
  },
  {
   "cell_type": "code",
   "execution_count": 18,
   "id": "311dc5ad",
   "metadata": {
    "lines_to_next_cell": 2
   },
   "outputs": [],
   "source": [
    "params = {\n",
    "    \"save_best\": False,\n",
    "    \"base_dir\": \"${gym_env.env_name}/td3-S${algorithm.seed}_${current_time:}\",\n",
    "    \"collect_stats\": True,\n",
    "    # Set to true to have an insight on the learned policy\n",
    "    # (but slows down the evaluation a lot!)\n",
    "    \"plot_agents\": True,\n",
    "    \"algorithm\": {\n",
    "        \"seed\": 1,\n",
    "        \"max_grad_norm\": 0.5,\n",
    "        \"epsilon\": 0.02,\n",
    "        \"n_envs\": 1,\n",
    "        \"n_steps\": 50,\n",
    "        \"nb_evals\": 10,\n",
    "        \"discount_factor\": 0.98,\n",
    "        \"buffer_size\": 2e5,\n",
    "        \"batch_size\": 64,\n",
    "        \"tau_target\": 0.05,\n",
    "        \"eval_interval\": 2_000,\n",
    "        \"max_epochs\": 10_000,\n",
    "        # Minimum number of transitions before learning starts\n",
    "        \"learning_starts\": 10000,\n",
    "        \"action_noise\": 0.1,\n",
    "        \"architecture\": {\n",
    "            \"actor_hidden_size\": [400, 300],\n",
    "            \"critic_hidden_size\": [400, 300],\n",
    "        },\n",
    "    },\n",
    "    \"gym_env\": {\n",
    "        \"env_name\": \"LunarLanderContinuous-v2\",\n",
    "    },\n",
    "    \"actor_optimizer\": {\n",
    "        \"classname\": \"torch.optim.Adam\",\n",
    "        \"lr\": 1e-3,\n",
    "    },\n",
    "    \"critic_optimizer\": {\n",
    "        \"classname\": \"torch.optim.Adam\",\n",
    "        \"lr\": 1e-3,\n",
    "    },\n",
    "}\n"
   ]
  },
  {
   "cell_type": "code",
   "execution_count": null,
   "id": "5e697cb8",
   "metadata": {},
   "outputs": [],
   "source": [
    "\n",
    "td3 = TD3(OmegaConf.create(params))\n",
    "run_td3(td3)\n",
    "td3.visualize_best()"
   ]
  },
  {
   "cell_type": "markdown",
   "id": "a9dce72a",
   "metadata": {},
   "source": [
    "## Experimental comparison\n",
    "\n",
    "Take an environment where the over-estimation bias may matter, and compare the\n",
    "performance of DDPG and TD3. Visualize the Q-value long before convergence to\n",
    "see whether indeed DDPG overestimates the Q-values with respect to TD3."
   ]
  },
  {
   "cell_type": "code",
   "execution_count": null,
   "id": "fa4594b4",
   "metadata": {},
   "outputs": [],
   "source": [
    "from bbrl.stats import WelchTTest\n",
    "\n",
    "WelchTTest().plot(\n",
    "    torch.stack(ddpg.eval_rewards),\n",
    "    torch.stack(td3.eval_rewards),\n",
    "    legends=\"ddpg/td3\",\n",
    "    save=False,\n",
    ")"
   ]
  },
  {
   "cell_type": "code",
   "execution_count": null,
   "id": "649d101c",
   "metadata": {},
   "outputs": [],
   "source": [
    "num_seed = 10\n",
    "all_rewards = []\n",
    "\n",
    "for i in range(num_seed):\n",
    "    params[\"algorithm\"][\"seed\"] = i*10\n",
    "    td3 = TD3(OmegaConf.create(params))\n",
    "    run_td3(td3)\n",
    "    rewards = td3.eval_rewards\n",
    "    all_rewards.append(rewards)"
   ]
  },
  {
   "cell_type": "code",
   "execution_count": 1,
   "id": "6e604097",
   "metadata": {},
   "outputs": [],
   "source": [
    "import matplotlib.pyplot as plt"
   ]
  },
  {
   "cell_type": "code",
   "execution_count": 4,
   "id": "c743d297",
   "metadata": {},
   "outputs": [],
   "source": [
    "# charger les données\n",
    "import pickle\n",
    "with open(\"all_rewards_td3.pkl\", \"rb\") as f:\n",
    "    all_rewards = pickle.load(f)\n",
    "    "
   ]
  },
  {
   "cell_type": "code",
   "execution_count": 5,
   "id": "9088975f",
   "metadata": {},
   "outputs": [
    {
     "ename": "ValueError",
     "evalue": "'y1' is not 1-dimensional",
     "output_type": "error",
     "traceback": [
      "\u001b[0;31m---------------------------------------------------------------------------\u001b[0m",
      "\u001b[0;31mValueError\u001b[0m                                Traceback (most recent call last)",
      "Cell \u001b[0;32mIn[5], line 6\u001b[0m\n\u001b[1;32m      3\u001b[0m std_rewards \u001b[38;5;241m=\u001b[39m torch\u001b[38;5;241m.\u001b[39mstack([torch\u001b[38;5;241m.\u001b[39mstack(rewards) \u001b[38;5;28;01mfor\u001b[39;00m rewards \u001b[38;5;129;01min\u001b[39;00m all_rewards])\u001b[38;5;241m.\u001b[39mstd(dim\u001b[38;5;241m=\u001b[39m\u001b[38;5;241m0\u001b[39m)\n\u001b[1;32m      5\u001b[0m plt\u001b[38;5;241m.\u001b[39mplot(mean_rewards, label\u001b[38;5;241m=\u001b[39m\u001b[38;5;124m\"\u001b[39m\u001b[38;5;124mTD3\u001b[39m\u001b[38;5;124m\"\u001b[39m)\n\u001b[0;32m----> 6\u001b[0m \u001b[43mplt\u001b[49m\u001b[38;5;241;43m.\u001b[39;49m\u001b[43mfill_between\u001b[49m\u001b[43m(\u001b[49m\n\u001b[1;32m      7\u001b[0m \u001b[43m    \u001b[49m\u001b[38;5;28;43mrange\u001b[39;49m\u001b[43m(\u001b[49m\u001b[38;5;28;43mlen\u001b[39;49m\u001b[43m(\u001b[49m\u001b[43mmean_rewards\u001b[49m\u001b[43m)\u001b[49m\u001b[43m)\u001b[49m\u001b[43m,\u001b[49m\u001b[43m \u001b[49m\u001b[43mmean_rewards\u001b[49m\u001b[43m \u001b[49m\u001b[38;5;241;43m-\u001b[39;49m\u001b[43m \u001b[49m\u001b[43mstd_rewards\u001b[49m\u001b[43m,\u001b[49m\u001b[43m \u001b[49m\u001b[43mmean_rewards\u001b[49m\u001b[43m \u001b[49m\u001b[38;5;241;43m+\u001b[39;49m\u001b[43m \u001b[49m\u001b[43mstd_rewards\u001b[49m\u001b[43m,\u001b[49m\u001b[43m \u001b[49m\u001b[43malpha\u001b[49m\u001b[38;5;241;43m=\u001b[39;49m\u001b[38;5;241;43m0.2\u001b[39;49m\n\u001b[1;32m      8\u001b[0m \u001b[43m)\u001b[49m\n\u001b[1;32m      9\u001b[0m plt\u001b[38;5;241m.\u001b[39mlegend()\n",
      "File \u001b[0;32m/opt/homebrew/lib/python3.11/site-packages/matplotlib/pyplot.py:2598\u001b[0m, in \u001b[0;36mfill_between\u001b[0;34m(x, y1, y2, where, interpolate, step, data, **kwargs)\u001b[0m\n\u001b[1;32m   2594\u001b[0m \u001b[38;5;129m@_copy_docstring_and_deprecators\u001b[39m(Axes\u001b[38;5;241m.\u001b[39mfill_between)\n\u001b[1;32m   2595\u001b[0m \u001b[38;5;28;01mdef\u001b[39;00m \u001b[38;5;21mfill_between\u001b[39m(\n\u001b[1;32m   2596\u001b[0m         x, y1, y2\u001b[38;5;241m=\u001b[39m\u001b[38;5;241m0\u001b[39m, where\u001b[38;5;241m=\u001b[39m\u001b[38;5;28;01mNone\u001b[39;00m, interpolate\u001b[38;5;241m=\u001b[39m\u001b[38;5;28;01mFalse\u001b[39;00m, step\u001b[38;5;241m=\u001b[39m\u001b[38;5;28;01mNone\u001b[39;00m, \u001b[38;5;241m*\u001b[39m,\n\u001b[1;32m   2597\u001b[0m         data\u001b[38;5;241m=\u001b[39m\u001b[38;5;28;01mNone\u001b[39;00m, \u001b[38;5;241m*\u001b[39m\u001b[38;5;241m*\u001b[39mkwargs):\n\u001b[0;32m-> 2598\u001b[0m     \u001b[38;5;28;01mreturn\u001b[39;00m \u001b[43mgca\u001b[49m\u001b[43m(\u001b[49m\u001b[43m)\u001b[49m\u001b[38;5;241;43m.\u001b[39;49m\u001b[43mfill_between\u001b[49m\u001b[43m(\u001b[49m\n\u001b[1;32m   2599\u001b[0m \u001b[43m        \u001b[49m\u001b[43mx\u001b[49m\u001b[43m,\u001b[49m\u001b[43m \u001b[49m\u001b[43my1\u001b[49m\u001b[43m,\u001b[49m\u001b[43m \u001b[49m\u001b[43my2\u001b[49m\u001b[38;5;241;43m=\u001b[39;49m\u001b[43my2\u001b[49m\u001b[43m,\u001b[49m\u001b[43m \u001b[49m\u001b[43mwhere\u001b[49m\u001b[38;5;241;43m=\u001b[39;49m\u001b[43mwhere\u001b[49m\u001b[43m,\u001b[49m\u001b[43m \u001b[49m\u001b[43minterpolate\u001b[49m\u001b[38;5;241;43m=\u001b[39;49m\u001b[43minterpolate\u001b[49m\u001b[43m,\u001b[49m\u001b[43m \u001b[49m\u001b[43mstep\u001b[49m\u001b[38;5;241;43m=\u001b[39;49m\u001b[43mstep\u001b[49m\u001b[43m,\u001b[49m\n\u001b[1;32m   2600\u001b[0m \u001b[43m        \u001b[49m\u001b[38;5;241;43m*\u001b[39;49m\u001b[38;5;241;43m*\u001b[39;49m\u001b[43m(\u001b[49m\u001b[43m{\u001b[49m\u001b[38;5;124;43m\"\u001b[39;49m\u001b[38;5;124;43mdata\u001b[39;49m\u001b[38;5;124;43m\"\u001b[39;49m\u001b[43m:\u001b[49m\u001b[43m \u001b[49m\u001b[43mdata\u001b[49m\u001b[43m}\u001b[49m\u001b[43m \u001b[49m\u001b[38;5;28;43;01mif\u001b[39;49;00m\u001b[43m \u001b[49m\u001b[43mdata\u001b[49m\u001b[43m \u001b[49m\u001b[38;5;129;43;01mis\u001b[39;49;00m\u001b[43m \u001b[49m\u001b[38;5;129;43;01mnot\u001b[39;49;00m\u001b[43m \u001b[49m\u001b[38;5;28;43;01mNone\u001b[39;49;00m\u001b[43m \u001b[49m\u001b[38;5;28;43;01melse\u001b[39;49;00m\u001b[43m \u001b[49m\u001b[43m{\u001b[49m\u001b[43m}\u001b[49m\u001b[43m)\u001b[49m\u001b[43m,\u001b[49m\u001b[43m \u001b[49m\u001b[38;5;241;43m*\u001b[39;49m\u001b[38;5;241;43m*\u001b[39;49m\u001b[43mkwargs\u001b[49m\u001b[43m)\u001b[49m\n",
      "File \u001b[0;32m/opt/homebrew/lib/python3.11/site-packages/matplotlib/__init__.py:1446\u001b[0m, in \u001b[0;36m_preprocess_data.<locals>.inner\u001b[0;34m(ax, data, *args, **kwargs)\u001b[0m\n\u001b[1;32m   1443\u001b[0m \u001b[38;5;129m@functools\u001b[39m\u001b[38;5;241m.\u001b[39mwraps(func)\n\u001b[1;32m   1444\u001b[0m \u001b[38;5;28;01mdef\u001b[39;00m \u001b[38;5;21minner\u001b[39m(ax, \u001b[38;5;241m*\u001b[39margs, data\u001b[38;5;241m=\u001b[39m\u001b[38;5;28;01mNone\u001b[39;00m, \u001b[38;5;241m*\u001b[39m\u001b[38;5;241m*\u001b[39mkwargs):\n\u001b[1;32m   1445\u001b[0m     \u001b[38;5;28;01mif\u001b[39;00m data \u001b[38;5;129;01mis\u001b[39;00m \u001b[38;5;28;01mNone\u001b[39;00m:\n\u001b[0;32m-> 1446\u001b[0m         \u001b[38;5;28;01mreturn\u001b[39;00m \u001b[43mfunc\u001b[49m\u001b[43m(\u001b[49m\u001b[43max\u001b[49m\u001b[43m,\u001b[49m\u001b[43m \u001b[49m\u001b[38;5;241;43m*\u001b[39;49m\u001b[38;5;28;43mmap\u001b[39;49m\u001b[43m(\u001b[49m\u001b[43msanitize_sequence\u001b[49m\u001b[43m,\u001b[49m\u001b[43m \u001b[49m\u001b[43margs\u001b[49m\u001b[43m)\u001b[49m\u001b[43m,\u001b[49m\u001b[43m \u001b[49m\u001b[38;5;241;43m*\u001b[39;49m\u001b[38;5;241;43m*\u001b[39;49m\u001b[43mkwargs\u001b[49m\u001b[43m)\u001b[49m\n\u001b[1;32m   1448\u001b[0m     bound \u001b[38;5;241m=\u001b[39m new_sig\u001b[38;5;241m.\u001b[39mbind(ax, \u001b[38;5;241m*\u001b[39margs, \u001b[38;5;241m*\u001b[39m\u001b[38;5;241m*\u001b[39mkwargs)\n\u001b[1;32m   1449\u001b[0m     auto_label \u001b[38;5;241m=\u001b[39m (bound\u001b[38;5;241m.\u001b[39marguments\u001b[38;5;241m.\u001b[39mget(label_namer)\n\u001b[1;32m   1450\u001b[0m                   \u001b[38;5;129;01mor\u001b[39;00m bound\u001b[38;5;241m.\u001b[39mkwargs\u001b[38;5;241m.\u001b[39mget(label_namer))\n",
      "File \u001b[0;32m/opt/homebrew/lib/python3.11/site-packages/matplotlib/axes/_axes.py:5425\u001b[0m, in \u001b[0;36mAxes.fill_between\u001b[0;34m(self, x, y1, y2, where, interpolate, step, **kwargs)\u001b[0m\n\u001b[1;32m   5423\u001b[0m \u001b[38;5;28;01mdef\u001b[39;00m \u001b[38;5;21mfill_between\u001b[39m(\u001b[38;5;28mself\u001b[39m, x, y1, y2\u001b[38;5;241m=\u001b[39m\u001b[38;5;241m0\u001b[39m, where\u001b[38;5;241m=\u001b[39m\u001b[38;5;28;01mNone\u001b[39;00m, interpolate\u001b[38;5;241m=\u001b[39m\u001b[38;5;28;01mFalse\u001b[39;00m,\n\u001b[1;32m   5424\u001b[0m                  step\u001b[38;5;241m=\u001b[39m\u001b[38;5;28;01mNone\u001b[39;00m, \u001b[38;5;241m*\u001b[39m\u001b[38;5;241m*\u001b[39mkwargs):\n\u001b[0;32m-> 5425\u001b[0m     \u001b[38;5;28;01mreturn\u001b[39;00m \u001b[38;5;28;43mself\u001b[39;49m\u001b[38;5;241;43m.\u001b[39;49m\u001b[43m_fill_between_x_or_y\u001b[49m\u001b[43m(\u001b[49m\n\u001b[1;32m   5426\u001b[0m \u001b[43m        \u001b[49m\u001b[38;5;124;43m\"\u001b[39;49m\u001b[38;5;124;43mx\u001b[39;49m\u001b[38;5;124;43m\"\u001b[39;49m\u001b[43m,\u001b[49m\u001b[43m \u001b[49m\u001b[43mx\u001b[49m\u001b[43m,\u001b[49m\u001b[43m \u001b[49m\u001b[43my1\u001b[49m\u001b[43m,\u001b[49m\u001b[43m \u001b[49m\u001b[43my2\u001b[49m\u001b[43m,\u001b[49m\n\u001b[1;32m   5427\u001b[0m \u001b[43m        \u001b[49m\u001b[43mwhere\u001b[49m\u001b[38;5;241;43m=\u001b[39;49m\u001b[43mwhere\u001b[49m\u001b[43m,\u001b[49m\u001b[43m \u001b[49m\u001b[43minterpolate\u001b[49m\u001b[38;5;241;43m=\u001b[39;49m\u001b[43minterpolate\u001b[49m\u001b[43m,\u001b[49m\u001b[43m \u001b[49m\u001b[43mstep\u001b[49m\u001b[38;5;241;43m=\u001b[39;49m\u001b[43mstep\u001b[49m\u001b[43m,\u001b[49m\u001b[43m \u001b[49m\u001b[38;5;241;43m*\u001b[39;49m\u001b[38;5;241;43m*\u001b[39;49m\u001b[43mkwargs\u001b[49m\u001b[43m)\u001b[49m\n",
      "File \u001b[0;32m/opt/homebrew/lib/python3.11/site-packages/matplotlib/axes/_axes.py:5337\u001b[0m, in \u001b[0;36mAxes._fill_between_x_or_y\u001b[0;34m(self, ind_dir, ind, dep1, dep2, where, interpolate, step, **kwargs)\u001b[0m\n\u001b[1;32m   5334\u001b[0m \u001b[38;5;28;01mfor\u001b[39;00m name, array \u001b[38;5;129;01min\u001b[39;00m [\n\u001b[1;32m   5335\u001b[0m         (ind_dir, ind), (\u001b[38;5;124mf\u001b[39m\u001b[38;5;124m\"\u001b[39m\u001b[38;5;132;01m{\u001b[39;00mdep_dir\u001b[38;5;132;01m}\u001b[39;00m\u001b[38;5;124m1\u001b[39m\u001b[38;5;124m\"\u001b[39m, dep1), (\u001b[38;5;124mf\u001b[39m\u001b[38;5;124m\"\u001b[39m\u001b[38;5;132;01m{\u001b[39;00mdep_dir\u001b[38;5;132;01m}\u001b[39;00m\u001b[38;5;124m2\u001b[39m\u001b[38;5;124m\"\u001b[39m, dep2)]:\n\u001b[1;32m   5336\u001b[0m     \u001b[38;5;28;01mif\u001b[39;00m array\u001b[38;5;241m.\u001b[39mndim \u001b[38;5;241m>\u001b[39m \u001b[38;5;241m1\u001b[39m:\n\u001b[0;32m-> 5337\u001b[0m         \u001b[38;5;28;01mraise\u001b[39;00m \u001b[38;5;167;01mValueError\u001b[39;00m(\u001b[38;5;124mf\u001b[39m\u001b[38;5;124m\"\u001b[39m\u001b[38;5;132;01m{\u001b[39;00mname\u001b[38;5;132;01m!r}\u001b[39;00m\u001b[38;5;124m is not 1-dimensional\u001b[39m\u001b[38;5;124m\"\u001b[39m)\n\u001b[1;32m   5339\u001b[0m \u001b[38;5;28;01mif\u001b[39;00m where \u001b[38;5;129;01mis\u001b[39;00m \u001b[38;5;28;01mNone\u001b[39;00m:\n\u001b[1;32m   5340\u001b[0m     where \u001b[38;5;241m=\u001b[39m \u001b[38;5;28;01mTrue\u001b[39;00m\n",
      "\u001b[0;31mValueError\u001b[0m: 'y1' is not 1-dimensional"
     ]
    },
    {
     "data": {
      "image/png": "[encoded data removed]",
      "text/plain": [
       "<Figure size 640x480 with 1 Axes>"
      ]
     },
     "metadata": {},
     "output_type": "display_data"
    }
   ],
   "source": [
    "# plot the mean and the standard deviation of the rewards\n",
    "mean_rewards = torch.stack([torch.stack(rewards) for rewards in all_rewards]).mean(dim=0)\n",
    "std_rewards = torch.stack([torch.stack(rewards) for rewards in all_rewards]).std(dim=0)\n",
    "\n",
    "plt.plot(mean_rewards, label=\"TD3\")\n",
    "plt.fill_between(\n",
    "    range(len(mean_rewards)), mean_rewards - std_rewards, mean_rewards + std_rewards, alpha=0.2\n",
    ")\n",
    "plt.legend()\n"
   ]
  },
  {
   "cell_type": "code",
   "execution_count": 59,
   "id": "11bea034",
   "metadata": {},
   "outputs": [
    {
     "ename": "",
     "evalue": "",
     "output_type": "error",
     "traceback": [
      "\u001b[1;31mThe Kernel crashed while executing code in the current cell or a previous cell. \n",
      "\u001b[1;31mPlease review the code in the cell(s) to identify a possible cause of the failure. \n",
      "\u001b[1;31mClick <a href='https://aka.ms/vscodeJupyterKernelCrash'>here</a> for more info. \n",
      "\u001b[1;31mView Jupyter <a href='command:jupyter.viewOutput'>log</a> for further details."
     ]
    }
   ],
   "source": [
    "# save all_rewards to a file\n",
    "import pickle\n",
    "\n",
    "with open(\"all_rewards_td3.pkl\", \"wb\") as f:\n",
    "    pickle.dump(all_rewards, f)\n",
    "    \n"
   ]
  }
 ],
 "metadata": {
  "jupytext": {
   "cell_markers": "\"\"\""
  },
  "kernelspec": {
   "display_name": "Python 3",
   "language": "python",
   "name": "python3"
  },
  "language_info": {
   "codemirror_mode": {
    "name": "ipython",
    "version": 3
   },
   "file_extension": ".py",
   "mimetype": "text/x-python",
   "name": "python",
   "nbconvert_exporter": "python",
   "pygments_lexer": "ipython3",
   "version": "3.11.10"
  }
 },
 "nbformat": 4,
 "nbformat_minor": 5
}
