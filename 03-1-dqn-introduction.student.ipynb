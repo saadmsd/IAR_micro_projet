{
 "cells": [
  {
   "cell_type": "markdown",
   "id": "ec7ab4b0",
   "metadata": {
    "lines_to_next_cell": 2
   },
   "source": [
    " Copyright © Sorbonne University.\n",
    "\n",
    " This source code is licensed under the MIT license found in the LICENSE file\n",
    " in the root directory of this source tree."
   ]
  },
  {
   "cell_type": "markdown",
   "id": "aac7d8f3",
   "metadata": {},
   "source": [
    "# Outlook\n",
    "In this notebook, using BBRL, we code a simple version of the DQN algorithm\n",
    "without a replay buffer nor a target network so as to better understand the\n",
    "inner mechanisms.\n",
    "\n",
    "To understand this code, you need to know more about [the BBRL interaction\n",
    "model](https://github.com/osigaud/bbrl/blob/master/docs/overview.md) Then you\n",
    "should run [a didactical\n",
    "example](https://github.com/osigaud/bbrl/blob/master/docs/notebooks/02-multi_env_noautoreset.student.ipynb)\n",
    "to see how agents interact in BBRL when autoreset=False.\n",
    "\n",
    "The DQN algorithm is explained in [this\n",
    "video](https://www.youtube.com/watch?v=CXwvOMJujZk) and you can also read [the\n",
    "corresponding slides](http://pages.isir.upmc.fr/~sigaud/teach/dqn.pdf)."
   ]
  },
  {
   "cell_type": "code",
   "execution_count": 21,
   "id": "36506820",
   "metadata": {
    "tags": [
     "hide-input"
    ]
   },
   "outputs": [
    {
     "name": "stderr",
     "output_type": "stream",
     "text": [
      "[easypip] Installing bbrl_utils\n"
     ]
    }
   ],
   "source": [
    "# Prepare the environment\n",
    "try:\n",
    "    from easypip import easyimport\n",
    "except ModuleNotFoundError:\n",
    "    from subprocess import run\n",
    "    assert run([\"pip\", \"install\", \"easypip\"]).returncode == 0, \"Could not install easypip\"\n",
    "    from easypip import easyimport\n",
    "\n",
    "easyimport(\"swig\")\n",
    "easyimport(\"bbrl_utils\").setup(maze_mdp=True)\n",
    "\n",
    "import os\n",
    "\n",
    "import bbrl_gymnasium  # noqa: F401\n",
    "import torch\n",
    "import torch.nn as nn\n",
    "from bbrl.agents import Agent, Agents\n",
    "from bbrl_utils.algorithms import EpisodicAlgo\n",
    "from bbrl_utils.nn import build_mlp, setup_optimizer\n",
    "from bbrl_utils.notebook import setup_tensorboard\n",
    "from omegaconf import OmegaConf"
   ]
  },
  {
   "cell_type": "markdown",
   "id": "033aeaad",
   "metadata": {},
   "source": [
    "# Learning environment\n",
    "\n",
    "## Configuration\n",
    "\n",
    "The learning environment is controlled by a configuration that define a few\n",
    "important things as described in the example below. This configuration can\n",
    "hold as many extra information as you need, the example below is the minimal\n",
    "one.\n",
    "\n",
    "```python\n",
    "params = {\n",
    "    # This defines the a path for logs and saved models\n",
    "    \"base_dir\": \"${gym_env.env_name}/myalgo_${current_time:}\",\n",
    "\n",
    "    # The Gymnasium environment\n",
    "    \"gym_env\": {\n",
    "        \"env_name\": \"CartPoleContinuous-v1\",\n",
    "    },\n",
    "\n",
    "    # Algorithm\n",
    "    \"algorithm\": {\n",
    "        # Seed used for the random number generator\n",
    "        \"seed\": 1023,\n",
    "\n",
    "        # Number of parallel training environments\n",
    "        \"n_envs\": 8,\n",
    "                \n",
    "        # Minimum number of steps between two evaluations\n",
    "        \"eval_interval\": 500,\n",
    "        \n",
    "        # Number of parallel evaluation environments\n",
    "        \"nb_evals\": 10,\n",
    "\n",
    "        # Number of epochs (loops)\n",
    "        \"max_epochs\": 40000,\n",
    "\n",
    "    },\n",
    "}\n",
    "\n",
    "# Creates the configuration object, i.e. cfg.algorithm.nb_evals is 10\n",
    "cfg = OmegaConf.create(params)\n",
    "```\n",
    "\n",
    "## The RL algorithm\n",
    "\n",
    "In this notebook, the RL algorithm is based on `EpisodicAlgo`, that defines\n",
    "the algorithm environment when using episodes. To use such environment, we\n",
    "just need to subclass `EpisodicAlgo` and to define two things, namely the\n",
    "`train_policy` and the `eval_policy`. Both are BBRL agents that, given the\n",
    "environment state, select the action to perform.\n",
    "\n",
    "```py\n",
    "  class MyAlgo(EpisodicAlgo):\n",
    "      def __init__(self, cfg):\n",
    "          super().__init__(cfg)\n",
    "\n",
    "          # Define the train and evaluation policies\n",
    "          # (the agents compute the workspace `action` variable)\n",
    "          self.train_policy = MyPolicyAgent(...)\n",
    "          self.eval_policy = MyEvalAgent(...)\n",
    "\n",
    "algo = MyAlgo(cfg)\n",
    "```\n",
    "\n",
    "The `EpisodicAlgo` defines useful objects:\n",
    "\n",
    "- `algo.cfg` is the configuration\n",
    "- `algo.nb_steps` (integer) is the number of steps since the training began\n",
    "- `algo.logger` is a logger that can be used to collect statistics during training:\n",
    "    - `algo.logger.add_log(\"critic_loss\", critic_loss, algo.nb_steps)` registers the `critic_loss` value on tensorboard\n",
    "- `algo.evaluate()` evaluates the current `eval_policy` if needed, and keeps the\n",
    "agent if it was the best so far (average cumulated reward);\n",
    "- `algo.visualize_best()` runs the best agent on one episode, and displays the video\n",
    "\n",
    "\n",
    "\n",
    "Besides, it also defines an `iter_episodes` is simple:\n",
    "\n",
    "```py\n",
    "  # With episodes\n",
    "  for workspace in rl_algo.iter_episodes():\n",
    "      # workspace is a workspace containing transitions\n",
    "      # Episodes shorter than the longer one contain duplicated\n",
    "      # transitions (with `env/done` set to true)\n",
    "      ...\n",
    "```"
   ]
  },
  {
   "cell_type": "markdown",
   "id": "c5125038",
   "metadata": {},
   "source": [
    "## Definition of agents\n",
    "\n",
    "The [DQN](https://daiwk.github.io/assets/dqn.pdf) algorithm is a critic only\n",
    "algorithm. Thus we just need a Critic agent (which is also used to output\n",
    "actions) and an Environment agent.\n",
    "\n",
    "### The critic agent\n",
    "\n",
    "The critic agent is an instance of the `DiscreteQAgent` class. We first build\n",
    "a deterministic neural network that takes the state as input (so it has one\n",
    "input neuron per state variable) and that outputs the Q-value of each action\n",
    "in that state (so it has one output neuron per action)."
   ]
  },
  {
   "cell_type": "markdown",
   "id": "3052068e",
   "metadata": {
    "lines_to_next_cell": 2
   },
   "source": [
    "As any BBRL agent, the DiscreteQAgent has a `forward()` function that takes a\n",
    "time state as input. This `forward()` function outputs the Q-values of all\n",
    "actions at the corresponding time step. Additionally, if the critic is used to\n",
    "choose an action, it also outputs the chosen action at the same time step."
   ]
  },
  {
   "cell_type": "code",
   "execution_count": 22,
   "id": "c0639d7b",
   "metadata": {
    "lines_to_next_cell": 2
   },
   "outputs": [],
   "source": [
    "class DiscreteQAgent(Agent):\n",
    "    \"\"\"BBRL agent (discrete actions) based on a MLP\"\"\"\n",
    "\n",
    "    def __init__(self, state_dim, hidden_layers, action_dim):\n",
    "        super().__init__()\n",
    "        self.model = build_mlp(\n",
    "            [state_dim] + list(hidden_layers) + [action_dim], activation=nn.ReLU()\n",
    "        )\n",
    "\n",
    "    def forward(self, t: int, **kwargs):\n",
    "        \"\"\"An Agent can use self.workspace\"\"\"\n",
    "\n",
    "        # Retrieves the observation from the environment at time t\n",
    "        obs = self.get((\"env/env_obs\", t))\n",
    "\n",
    "        # Computes the critic (Q) values for the observation\n",
    "        q_values = self.model(obs)\n",
    "\n",
    "        # ... and sets the q-values (one for each possible action)\n",
    "        self.set((\"q_values\", t), q_values)"
   ]
  },
  {
   "cell_type": "markdown",
   "id": "8361327b",
   "metadata": {},
   "source": [
    "#### Greedily choosing the action\n",
    "\n",
    "The ArgmaxActionSelector is in charge of choosing the action whose Q-value is\n",
    "the highest given the Q-values of all actions. We may use it when we do not\n",
    "want to explore."
   ]
  },
  {
   "cell_type": "code",
   "execution_count": 23,
   "id": "b9eb81a4",
   "metadata": {
    "lines_to_next_cell": 2
   },
   "outputs": [],
   "source": [
    "class ArgmaxActionSelector(Agent):\n",
    "    \"\"\"BBRL agent that selects the best action based on Q(s,a)\"\"\"\n",
    "\n",
    "    def forward(self, t: int, **kwargs):\n",
    "        q_values = self.get((\"q_values\", t))\n",
    "        action = q_values.argmax(1)\n",
    "        self.set((\"action\", t), action)"
   ]
  },
  {
   "cell_type": "markdown",
   "id": "064e78a0",
   "metadata": {
    "lines_to_next_cell": 2
   },
   "source": [
    "### Creating an Exploration method\n",
    "\n",
    "As Q-learning, DQN needs some exploration to prevent too early convergence.\n",
    "Here we use the simple $\\epsilon$-greedy exploration method.\n",
    "It is implemented as an agent which chooses an action based on the Q-values."
   ]
  },
  {
   "cell_type": "code",
   "execution_count": 24,
   "id": "cace5fad",
   "metadata": {
    "lines_to_next_cell": 2
   },
   "outputs": [],
   "source": [
    "class EGreedyActionSelector(Agent):\n",
    "    def __init__(self, epsilon):\n",
    "        super().__init__()\n",
    "        self.epsilon = epsilon\n",
    "\n",
    "    def forward(self, t: int, **kwargs):\n",
    "        # Retrieves the q values\n",
    "        # (matrix nb. of episodes x nb. of actions)\n",
    "        q_values: torch.Tensor = self.get((\"q_values\", t))\n",
    "        size, nb_actions = q_values.shape\n",
    "\n",
    "        # Flag\n",
    "        is_random = torch.rand(size) > self.epsilon\n",
    "        \n",
    "        # Actions (random / argmax)\n",
    "        random_action = torch.randint(nb_actions, size=(size,))\n",
    "        max_action = q_values.argmax(-1)\n",
    "\n",
    "        # Choose the action based on the is_random flag\n",
    "        action = torch.where(is_random, random_action, max_action)\n",
    "\n",
    "        # Sets the action at time t\n",
    "        self.set((\"action\", t), action)"
   ]
  },
  {
   "cell_type": "markdown",
   "id": "ce974a73",
   "metadata": {},
   "source": [
    "## Heart of the algorithm\n",
    "\n",
    "### Computing the critic loss\n",
    "\n",
    "The role of the `compute_critic_loss` function is to implement the Bellman\n",
    "backup rule. In Q-learning, this rule was written:\n",
    "\n",
    "$$Q(s_t,a_t) \\leftarrow Q(s_t,a_t) + \\alpha [ r(s_t,a_t) + \\gamma \\max_a\n",
    "Q(s_{t+1},a) - Q(s_t,a_t)]$$\n",
    "\n",
    "In DQN, the update rule $Q \\leftarrow Q + \\alpha [\\delta] $ is replaced by a\n",
    "gradient descent step over the Q-network.\n",
    "\n",
    "We first compute a target value: $ target = r(s_t,a_t) + \\gamma \\max_a\n",
    "Q(s_{t+1},a)$ from a set of samples.\n",
    "\n",
    "Then we get a TD error $\\delta$ by substracting $Q(s_t,a_t)$ for these\n",
    "samples, and we use the squared TD error as a loss function: \n",
    "$$loss = (target - Q(s_t,a_t))^2$$\n",
    "\n",
    "To implement the above calculation in BBRL, the difficulty is to properly deal\n",
    "with time indexes.\n",
    "\n",
    "The `compute_critic_loss` function receives rewards, q_values and actions as\n",
    "tensors that have been computed over a complete episode.\n",
    "\n",
    "We need to take `reward[1:]`, which means all the rewards except the first one\n",
    "because the reward from $(s_t, a_t)$ is $r_{t+1}$. Similarly, to get $\\max_a\n",
    "Q(s_{t+1}, a)$, we need to ignore the first of the max_q values, using\n",
    "`max_q[1:]`.\n",
    "\n",
    "Do not forget to apply .detach() when computing the values of $\\max_a\n",
    "Q(s_{t+1}, a)$, as **we do not want to apply gradient descent on this $\\max_a\n",
    "Q(s_{t+1}, a)$**, we only apply gradient descent to $Q(s_t, a_t)$ according to\n",
    "this target value. In practice, `x.detach()` detaches a computation graph from\n",
    "a tensor, so it avoids computing a gradient over this tensor.\n",
    "\n",
    "The `must_bootstrap` tensor is used as a trick to deal with terminal states,\n",
    "as explained\n",
    "[here](https://github.com/osigaud/bbrl/blob/master/docs/time_limits.md) In\n",
    "practice, `must_bootstrap` is the logical negation of `terminated`. In the\n",
    "autoreset=False version we use full episodes, thus `must_bootstrap` is always\n",
    "True for all steps but the last one.\n",
    "\n",
    "To compute $Q(s_t,a_t)$ we use the [`torch.gather()`](https://pytorch.org/docs/stable/generated/torch.gather.html) function. This function is\n",
    "a little tricky to use, see [this\n",
    "page](https://github.com/osigaud/bbrl/blob/master/docs/using_gather.md) for\n",
    "useful explanations.\n",
    "\n",
    "In particular, the q_vals output that we get is not properly conditioned,\n",
    "hence the need for the `qval[:-1]` (we ignore the last dimension). Finally we\n",
    "just need to compute the difference target - qvals, square it, take the mean\n",
    "and send it back as the loss."
   ]
  },
  {
   "cell_type": "code",
   "execution_count": 25,
   "id": "b9a9db07",
   "metadata": {
    "lines_to_next_cell": 2
   },
   "outputs": [],
   "source": [
    "def compute_critic_loss(\n",
    "    cfg,\n",
    "    reward: torch.Tensor,\n",
    "    must_bootstrap: torch.Tensor,\n",
    "    done: torch.Tensor,\n",
    "    q_values: torch.Tensor,\n",
    "    action: torch.LongTensor,\n",
    ") -> torch.Tensor:\n",
    "    \"\"\"Compute the temporal difference loss from a dataset to\n",
    "    update a critic\n",
    "\n",
    "    For the tensor dimensions:\n",
    "\n",
    "    - T = maximum number of time steps\n",
    "    - B = number of episodes run in parallel\n",
    "    - A = action space dimension\n",
    "\n",
    "    :param cfg: The configuration\n",
    "    :param reward: A (T x B) tensor containing the rewards\n",
    "    :param must_bootstrap: a (T x B) tensor containing 0 at (t, b) if the\n",
    "        episode b was terminated at time $t$ (or before)\n",
    "    :param done: a (T x B) tensor containing 0 at (t, b) if the\n",
    "        episode b is truncated or terminated at time $t$ (or before)\n",
    "    :param q_values: a (T x B x A) tensor containing the Q-values at each time\n",
    "        step, and for each action\n",
    "    :param action: a (T x B) long tensor containing the chosen action\n",
    "\n",
    "    :return: The DQN loss\n",
    "    \"\"\"\n",
    "    # We compute the max of Q-values over all actions and detach (so that this\n",
    "    # part of the computation graph is not included in the gradient\n",
    "    # backpropagation)\n",
    "\n",
    "    # Compute the loss\n",
    "    max_qvals_next = q_values[1:].max(-1).values.detach()\n",
    "\n",
    "    target = reward[1:] + cfg.algorithm.discount_factor * must_bootstrap[1:] * max_qvals_next\n",
    "\n",
    "    qvals = q_values[:-1].gather(dim=2, index=action[:-1].unsqueeze(-1)).squeeze(-1)\n",
    "    \n",
    "    mse = nn.MSELoss()\n",
    "    critic_loss = mse(qvals, target)\n",
    "\n",
    "    return critic_loss\n"
   ]
  },
  {
   "cell_type": "markdown",
   "id": "de6aeeef",
   "metadata": {
    "lines_to_next_cell": 2
   },
   "source": [
    "## Main training loop\n",
    "\n",
    "Note that everything about the shared workspace between all the agents is\n",
    "completely hidden under the hood. This results in a gain of productivity, at\n",
    "the expense of having to dig into the BBRL code if you want to understand the\n",
    "details, change the multiprocessing model, etc.\n",
    "\n",
    "The next cells defines a `EpisodicDQN` that deals with various part of the\n",
    "training loop."
   ]
  },
  {
   "cell_type": "code",
   "execution_count": 26,
   "id": "e06d471b",
   "metadata": {},
   "outputs": [],
   "source": [
    "class EpisodicDQN(EpisodicAlgo):\n",
    "    def __init__(self, cfg):\n",
    "        super().__init__(cfg)\n",
    "\n",
    "        # Get the observation / action state space dimensions\n",
    "        obs_size, act_size = self.train_env.get_obs_and_actions_sizes()\n",
    "\n",
    "        # Our discrete Q-Agent\n",
    "        self.q_agent = DiscreteQAgent(\n",
    "            obs_size, cfg.algorithm.architecture.hidden_size, act_size\n",
    "        )\n",
    "\n",
    "        # The e-greedy strategy (when training)\n",
    "        explorer = EGreedyActionSelector(cfg.algorithm.epsilon)\n",
    "\n",
    "        # The training agent combines the Q agent\n",
    "        self.train_policy = Agents(self.q_agent, explorer)\n",
    "\n",
    "        # The optimizer for the Q-Agent parameters\n",
    "        self.optimizer = setup_optimizer(self.cfg.optimizer, self.q_agent)\n",
    "\n",
    "        # ...and the evaluation policy (select the most likely action)\n",
    "        self.eval_policy = Agents(self.q_agent, ArgmaxActionSelector())\n",
    "\n",
    "    def run(self):\n",
    "        for train_workspace in self.iter_episodes():\n",
    "            q_values, terminated, done, reward, action = train_workspace[\n",
    "                \"q_values\", \"env/terminated\", \"env/done\", \"env/reward\", \"action\"\n",
    "            ]\n",
    "\n",
    "            # Determines whether values of the critic should be propagated\n",
    "            # True if the episode reached a time limit or if the task was not done\n",
    "            # See https://github.com/osigaud/bbrl/blob/master/docs/time_limits.md\n",
    "            must_bootstrap = ~terminated\n",
    "\n",
    "            # Compute critic loss\n",
    "            critic_loss = compute_critic_loss(\n",
    "                self.cfg, reward, must_bootstrap, done, q_values, action\n",
    "            )\n",
    "\n",
    "            # Store the loss for tensorboard display\n",
    "            self.logger.add_log(\"critic_loss\", critic_loss, self.nb_steps)\n",
    "            dqn.logger.add_log(\"q_values/min\", q_values.max(-1).values.min(), dqn.nb_steps)\n",
    "            dqn.logger.add_log(\"q_values/max\", q_values.max(-1).values.max(), dqn.nb_steps)\n",
    "            dqn.logger.add_log(\"q_values/mean\", q_values.max(-1).values.mean(), dqn.nb_steps)\n",
    "\n",
    "            # Gradient step\n",
    "            self.optimizer.zero_grad()\n",
    "            critic_loss.backward()\n",
    "            torch.nn.utils.clip_grad_norm_(\n",
    "                self.q_agent.parameters(), self.cfg.algorithm.max_grad_norm\n",
    "            )\n",
    "            self.optimizer.step()\n",
    "\n",
    "            # Evaluate the current policy (if needed)\n",
    "            self.evaluate()"
   ]
  },
  {
   "cell_type": "code",
   "execution_count": null,
   "id": "d6c360f8",
   "metadata": {
    "lines_to_next_cell": 2
   },
   "outputs": [],
   "source": [
    "# We setup tensorboard before running DQN\n",
    "\n",
    "setup_tensorboard(\"./outputs/tblogs\")\n"
   ]
  },
  {
   "cell_type": "code",
   "execution_count": 28,
   "id": "d8f8ef11",
   "metadata": {},
   "outputs": [],
   "source": [
    "params = {\n",
    "    \"save_best\": False,\n",
    "    \"base_dir\": \"${gym_env.env_name}/dqn-simple-S${algorithm.seed}_${current_time:}\",\n",
    "    \"collect_stats\": True,\n",
    "    \"algorithm\": {\n",
    "        \"seed\": 3,\n",
    "        \"max_grad_norm\": 0.5,\n",
    "        \"epsilon\": 0.1,\n",
    "        \"n_envs\": 8,\n",
    "        \"eval_interval\": 5_000,\n",
    "        \"max_epochs\": 500,\n",
    "        \"nb_evals\": 10,\n",
    "        \"discount_factor\": 0.99,\n",
    "        \"architecture\": {\"hidden_size\": [256, 256]},\n",
    "    },\n",
    "    \"gym_env\": {\n",
    "        \"env_name\": \"CartPole-v1\",\n",
    "    },\n",
    "    \"optimizer\": {\n",
    "        \"classname\": \"torch.optim.Adam\",\n",
    "        \"lr\": 2e-3,\n",
    "    },\n",
    "}\n",
    "\n",
    "dqn = EpisodicDQN(OmegaConf.create(params))"
   ]
  },
  {
   "cell_type": "code",
   "execution_count": 29,
   "id": "43ceada5",
   "metadata": {},
   "outputs": [
    {
     "data": {
      "application/vnd.jupyter.widget-view+json": {
       "model_id": "9f96c642cfb641b78cedcdac553b8f90",
       "version_major": 2,
       "version_minor": 0
      },
      "text/plain": [
       "  0%|          | 0/500 [00:00<?, ?it/s]"
      ]
     },
     "metadata": {},
     "output_type": "display_data"
    },
    {
     "name": "stdout",
     "output_type": "stream",
     "text": [
      "Video of best agent recorded in outputs/CartPole-v1/dqn-simple-S3_20241004-101631/best_agent.mp4\n",
      "Moviepy - Building video /Users/saad/M2/IAR/outputs/CartPole-v1/dqn-simple-S3_20241004-101631/best_agent.mp4.\n",
      "Moviepy - Writing video /Users/saad/M2/IAR/outputs/CartPole-v1/dqn-simple-S3_20241004-101631/best_agent.mp4\n",
      "\n"
     ]
    },
    {
     "name": "stderr",
     "output_type": "stream",
     "text": [
      "                                                               \r"
     ]
    },
    {
     "name": "stdout",
     "output_type": "stream",
     "text": [
      "Moviepy - Done !\n",
      "Moviepy - video ready /Users/saad/M2/IAR/outputs/CartPole-v1/dqn-simple-S3_20241004-101631/best_agent.mp4\n"
     ]
    },
    {
     "data": {
      "text/html": [
       "<div align=middle><video src='data:video/mp4;base64,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' controls>Sorry, seems like your browser doesn't support HTML5 audio/video</video></div>"
      ],
      "text/plain": [
       "<moviepy.video.io.html_tools.HTML2 object>"
      ]
     },
     "execution_count": 29,
     "metadata": {},
     "output_type": "execute_result"
    }
   ],
   "source": [
    "# Run and visualize the best agent\n",
    "dqn.run()\n",
    "dqn.visualize_best()"
   ]
  },
  {
   "cell_type": "markdown",
   "id": "ac2b7678",
   "metadata": {},
   "source": [
    "## What's next?\n",
    "\n",
    "To get a full DQN, we need to do the following:\n",
    "- Add a replay buffer. We can add a replay buffer independently from the\n",
    "  target network. The version with a replay buffer and no target network\n",
    "  corresponds to [the NQF\n",
    "  algorithm](https://link.springer.com/content/pdf/10.1007/11564096_32.pdf).\n",
    "  This will be the aim of the next notebook.\n",
    "- Before adding the replay buffer, we will first move to a version of DQN\n",
    "  which uses the AutoResetGymAgent. This will be the aim of the next notebook\n",
    "  too.\n",
    "- We should also add a few extra-mechanisms which are present in the full DQN\n",
    "  version: starting to learn once the replay buffer is full enough, decreasing\n",
    "  the exploration rate epsilon...\n",
    "<!-- - We could also add visualization tools to visualize the learned Q network, by using the `plot_critic` function available in [`bbrl.visu.visu_critics`](https://github.com/osigaud/bbrl/blob/master/src/bbrl/visu/visu_critics.py#L13) -->"
   ]
  }
 ],
 "metadata": {
  "jupytext": {
   "cell_markers": "\"\"\""
  },
  "kernelspec": {
   "display_name": "Python 3",
   "language": "python",
   "name": "python3"
  },
  "language_info": {
   "codemirror_mode": {
    "name": "ipython",
    "version": 3
   },
   "file_extension": ".py",
   "mimetype": "text/x-python",
   "name": "python",
   "nbconvert_exporter": "python",
   "pygments_lexer": "ipython3",
   "version": "3.11.10"
  }
 },
 "nbformat": 4,
 "nbformat_minor": 5
}
